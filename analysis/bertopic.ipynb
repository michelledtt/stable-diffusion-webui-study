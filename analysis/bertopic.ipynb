{
 "cells": [
  {
   "cell_type": "code",
   "execution_count": 3,
   "id": "81133b5f-e0d6-49ef-9749-3e32ebf46795",
   "metadata": {},
   "outputs": [
    {
     "name": "stdout",
     "output_type": "stream",
     "text": [
      "Collecting bertopic\n",
      "  Using cached bertopic-0.16.2-py2.py3-none-any.whl.metadata (22 kB)\n",
      "Collecting numpy>=1.20.0 (from bertopic)\n",
      "  Using cached numpy-2.0.0-cp39-cp39-macosx_14_0_arm64.whl.metadata (60 kB)\n",
      "Requirement already satisfied: hdbscan>=0.8.29 in /Library/Frameworks/Python.framework/Versions/3.9/lib/python3.9/site-packages (from bertopic) (0.8.37)\n",
      "Requirement already satisfied: umap-learn>=0.5.0 in /Library/Frameworks/Python.framework/Versions/3.9/lib/python3.9/site-packages (from bertopic) (0.5.6)\n",
      "Requirement already satisfied: pandas>=1.1.5 in /Library/Frameworks/Python.framework/Versions/3.9/lib/python3.9/site-packages (from bertopic) (2.1.1)\n",
      "Requirement already satisfied: scikit-learn>=0.22.2.post1 in /Library/Frameworks/Python.framework/Versions/3.9/lib/python3.9/site-packages (from bertopic) (1.5.0)\n",
      "Requirement already satisfied: tqdm>=4.41.1 in /Library/Frameworks/Python.framework/Versions/3.9/lib/python3.9/site-packages (from bertopic) (4.66.4)\n",
      "Requirement already satisfied: sentence-transformers>=0.4.1 in /Library/Frameworks/Python.framework/Versions/3.9/lib/python3.9/site-packages (from bertopic) (3.0.1)\n",
      "Collecting plotly>=4.7.0 (from bertopic)\n",
      "  Using cached plotly-5.22.0-py3-none-any.whl.metadata (7.1 kB)\n",
      "Requirement already satisfied: cython<3,>=0.27 in /Library/Frameworks/Python.framework/Versions/3.9/lib/python3.9/site-packages (from hdbscan>=0.8.29->bertopic) (0.29.37)\n",
      "Collecting numpy>=1.20.0 (from bertopic)\n",
      "  Using cached numpy-1.26.4-cp39-cp39-macosx_11_0_arm64.whl.metadata (61 kB)\n",
      "Requirement already satisfied: scipy>=1.0 in /Library/Frameworks/Python.framework/Versions/3.9/lib/python3.9/site-packages (from hdbscan>=0.8.29->bertopic) (1.13.1)\n",
      "Requirement already satisfied: joblib>=1.0 in /Library/Frameworks/Python.framework/Versions/3.9/lib/python3.9/site-packages (from hdbscan>=0.8.29->bertopic) (1.4.2)\n",
      "Requirement already satisfied: python-dateutil>=2.8.2 in /Library/Frameworks/Python.framework/Versions/3.9/lib/python3.9/site-packages (from pandas>=1.1.5->bertopic) (2.8.2)\n",
      "Requirement already satisfied: pytz>=2020.1 in /Library/Frameworks/Python.framework/Versions/3.9/lib/python3.9/site-packages (from pandas>=1.1.5->bertopic) (2023.3.post1)\n",
      "Requirement already satisfied: tzdata>=2022.1 in /Library/Frameworks/Python.framework/Versions/3.9/lib/python3.9/site-packages (from pandas>=1.1.5->bertopic) (2023.3)\n",
      "Requirement already satisfied: tenacity>=6.2.0 in /Library/Frameworks/Python.framework/Versions/3.9/lib/python3.9/site-packages (from plotly>=4.7.0->bertopic) (8.4.1)\n",
      "Requirement already satisfied: packaging in /Library/Frameworks/Python.framework/Versions/3.9/lib/python3.9/site-packages (from plotly>=4.7.0->bertopic) (23.2)\n",
      "Requirement already satisfied: threadpoolctl>=3.1.0 in /Library/Frameworks/Python.framework/Versions/3.9/lib/python3.9/site-packages (from scikit-learn>=0.22.2.post1->bertopic) (3.5.0)\n",
      "Requirement already satisfied: transformers<5.0.0,>=4.34.0 in /Library/Frameworks/Python.framework/Versions/3.9/lib/python3.9/site-packages (from sentence-transformers>=0.4.1->bertopic) (4.41.2)\n",
      "Requirement already satisfied: torch>=1.11.0 in /Library/Frameworks/Python.framework/Versions/3.9/lib/python3.9/site-packages (from sentence-transformers>=0.4.1->bertopic) (2.3.1)\n",
      "Requirement already satisfied: huggingface-hub>=0.15.1 in /Library/Frameworks/Python.framework/Versions/3.9/lib/python3.9/site-packages (from sentence-transformers>=0.4.1->bertopic) (0.23.4)\n",
      "Requirement already satisfied: Pillow in /Library/Frameworks/Python.framework/Versions/3.9/lib/python3.9/site-packages (from sentence-transformers>=0.4.1->bertopic) (10.1.0)\n",
      "Collecting numba>=0.51.2 (from umap-learn>=0.5.0->bertopic)\n",
      "  Using cached numba-0.60.0-cp39-cp39-macosx_11_0_arm64.whl.metadata (2.7 kB)\n",
      "Requirement already satisfied: pynndescent>=0.5 in /Library/Frameworks/Python.framework/Versions/3.9/lib/python3.9/site-packages (from umap-learn>=0.5.0->bertopic) (0.5.13)\n",
      "Requirement already satisfied: filelock in /Library/Frameworks/Python.framework/Versions/3.9/lib/python3.9/site-packages (from huggingface-hub>=0.15.1->sentence-transformers>=0.4.1->bertopic) (3.15.4)\n",
      "Requirement already satisfied: fsspec>=2023.5.0 in /Library/Frameworks/Python.framework/Versions/3.9/lib/python3.9/site-packages (from huggingface-hub>=0.15.1->sentence-transformers>=0.4.1->bertopic) (2024.6.0)\n",
      "Requirement already satisfied: pyyaml>=5.1 in /Library/Frameworks/Python.framework/Versions/3.9/lib/python3.9/site-packages (from huggingface-hub>=0.15.1->sentence-transformers>=0.4.1->bertopic) (6.0.1)\n",
      "Requirement already satisfied: requests in /Library/Frameworks/Python.framework/Versions/3.9/lib/python3.9/site-packages (from huggingface-hub>=0.15.1->sentence-transformers>=0.4.1->bertopic) (2.31.0)\n",
      "Requirement already satisfied: typing-extensions>=3.7.4.3 in /Library/Frameworks/Python.framework/Versions/3.9/lib/python3.9/site-packages (from huggingface-hub>=0.15.1->sentence-transformers>=0.4.1->bertopic) (4.8.0)\n",
      "Collecting llvmlite<0.44,>=0.43.0dev0 (from numba>=0.51.2->umap-learn>=0.5.0->bertopic)\n",
      "  Using cached llvmlite-0.43.0-cp39-cp39-macosx_11_0_arm64.whl.metadata (4.8 kB)\n",
      "Requirement already satisfied: six>=1.5 in /Library/Frameworks/Python.framework/Versions/3.9/lib/python3.9/site-packages (from python-dateutil>=2.8.2->pandas>=1.1.5->bertopic) (1.16.0)\n",
      "Requirement already satisfied: sympy in /Library/Frameworks/Python.framework/Versions/3.9/lib/python3.9/site-packages (from torch>=1.11.0->sentence-transformers>=0.4.1->bertopic) (1.12.1)\n",
      "Requirement already satisfied: networkx in /Library/Frameworks/Python.framework/Versions/3.9/lib/python3.9/site-packages (from torch>=1.11.0->sentence-transformers>=0.4.1->bertopic) (3.2.1)\n",
      "Requirement already satisfied: jinja2 in /Library/Frameworks/Python.framework/Versions/3.9/lib/python3.9/site-packages (from torch>=1.11.0->sentence-transformers>=0.4.1->bertopic) (3.1.4)\n",
      "Requirement already satisfied: regex!=2019.12.17 in /Library/Frameworks/Python.framework/Versions/3.9/lib/python3.9/site-packages (from transformers<5.0.0,>=4.34.0->sentence-transformers>=0.4.1->bertopic) (2024.5.15)\n",
      "Requirement already satisfied: tokenizers<0.20,>=0.19 in /Library/Frameworks/Python.framework/Versions/3.9/lib/python3.9/site-packages (from transformers<5.0.0,>=4.34.0->sentence-transformers>=0.4.1->bertopic) (0.19.1)\n",
      "Requirement already satisfied: safetensors>=0.4.1 in /Library/Frameworks/Python.framework/Versions/3.9/lib/python3.9/site-packages (from transformers<5.0.0,>=4.34.0->sentence-transformers>=0.4.1->bertopic) (0.4.3)\n",
      "Requirement already satisfied: MarkupSafe>=2.0 in /Library/Frameworks/Python.framework/Versions/3.9/lib/python3.9/site-packages (from jinja2->torch>=1.11.0->sentence-transformers>=0.4.1->bertopic) (2.1.3)\n",
      "Requirement already satisfied: charset-normalizer<4,>=2 in /Library/Frameworks/Python.framework/Versions/3.9/lib/python3.9/site-packages (from requests->huggingface-hub>=0.15.1->sentence-transformers>=0.4.1->bertopic) (3.3.0)\n",
      "Requirement already satisfied: idna<4,>=2.5 in /Library/Frameworks/Python.framework/Versions/3.9/lib/python3.9/site-packages (from requests->huggingface-hub>=0.15.1->sentence-transformers>=0.4.1->bertopic) (3.4)\n",
      "Requirement already satisfied: urllib3<3,>=1.21.1 in /Library/Frameworks/Python.framework/Versions/3.9/lib/python3.9/site-packages (from requests->huggingface-hub>=0.15.1->sentence-transformers>=0.4.1->bertopic) (2.0.7)\n",
      "Requirement already satisfied: certifi>=2017.4.17 in /Library/Frameworks/Python.framework/Versions/3.9/lib/python3.9/site-packages (from requests->huggingface-hub>=0.15.1->sentence-transformers>=0.4.1->bertopic) (2023.7.22)\n",
      "Requirement already satisfied: mpmath<1.4.0,>=1.1.0 in /Library/Frameworks/Python.framework/Versions/3.9/lib/python3.9/site-packages (from sympy->torch>=1.11.0->sentence-transformers>=0.4.1->bertopic) (1.3.0)\n",
      "Using cached bertopic-0.16.2-py2.py3-none-any.whl (158 kB)\n",
      "Using cached numpy-1.26.4-cp39-cp39-macosx_11_0_arm64.whl (14.0 MB)\n",
      "Using cached plotly-5.22.0-py3-none-any.whl (16.4 MB)\n",
      "Using cached numba-0.60.0-cp39-cp39-macosx_11_0_arm64.whl (2.7 MB)\n",
      "Using cached llvmlite-0.43.0-cp39-cp39-macosx_11_0_arm64.whl (28.8 MB)\n",
      "Installing collected packages: plotly, numpy, llvmlite, numba, bertopic\n",
      "  Attempting uninstall: llvmlite\n",
      "    Found existing installation: llvmlite 0.39.1\n",
      "    Uninstalling llvmlite-0.39.1:\n",
      "      Successfully uninstalled llvmlite-0.39.1\n",
      "Successfully installed bertopic-0.16.2 llvmlite-0.43.0 numba-0.60.0 numpy-1.26.4 plotly-5.22.0\n",
      "Note: you may need to restart the kernel to use updated packages.\n"
     ]
    }
   ],
   "source": [
    "pip install bertopic"
   ]
  },
  {
   "cell_type": "code",
   "execution_count": 2,
   "id": "974d07ff-12fb-45e4-8dae-841023d1912a",
   "metadata": {},
   "outputs": [
    {
     "name": "stdout",
     "output_type": "stream",
     "text": [
      "Requirement already satisfied: hdbscan in /Library/Frameworks/Python.framework/Versions/3.9/lib/python3.9/site-packages (0.8.37)\n",
      "Requirement already satisfied: cython<3,>=0.27 in /Library/Frameworks/Python.framework/Versions/3.9/lib/python3.9/site-packages (from hdbscan) (0.29.37)\n",
      "Requirement already satisfied: numpy<2,>=1.20 in /Library/Frameworks/Python.framework/Versions/3.9/lib/python3.9/site-packages (from hdbscan) (1.22.4)\n",
      "Requirement already satisfied: scipy>=1.0 in /Library/Frameworks/Python.framework/Versions/3.9/lib/python3.9/site-packages (from hdbscan) (1.13.1)\n",
      "Requirement already satisfied: scikit-learn>=0.20 in /Library/Frameworks/Python.framework/Versions/3.9/lib/python3.9/site-packages (from hdbscan) (1.5.0)\n",
      "Requirement already satisfied: joblib>=1.0 in /Library/Frameworks/Python.framework/Versions/3.9/lib/python3.9/site-packages (from hdbscan) (1.4.2)\n",
      "Requirement already satisfied: threadpoolctl>=3.1.0 in /Library/Frameworks/Python.framework/Versions/3.9/lib/python3.9/site-packages (from scikit-learn>=0.20->hdbscan) (3.5.0)\n",
      "Note: you may need to restart the kernel to use updated packages.\n"
     ]
    }
   ],
   "source": [
    "pip install hdbscan --no-cache-dir --no-binary :all: --no-build-isolation"
   ]
  },
  {
   "cell_type": "code",
   "execution_count": 25,
   "id": "5d603456-c66c-40cf-8e31-6e457f2bb2c1",
   "metadata": {},
   "outputs": [
    {
     "data": {
      "text/html": [
       "<div>\n",
       "<style scoped>\n",
       "    .dataframe tbody tr th:only-of-type {\n",
       "        vertical-align: middle;\n",
       "    }\n",
       "\n",
       "    .dataframe tbody tr th {\n",
       "        vertical-align: top;\n",
       "    }\n",
       "\n",
       "    .dataframe thead th {\n",
       "        text-align: right;\n",
       "    }\n",
       "</style>\n",
       "<table border=\"1\" class=\"dataframe\">\n",
       "  <thead>\n",
       "    <tr style=\"text-align: right;\">\n",
       "      <th></th>\n",
       "      <th>Topic</th>\n",
       "      <th>Count</th>\n",
       "      <th>Name</th>\n",
       "      <th>Representation</th>\n",
       "      <th>Representative_Docs</th>\n",
       "    </tr>\n",
       "  </thead>\n",
       "  <tbody>\n",
       "    <tr>\n",
       "      <th>0</th>\n",
       "      <td>0</td>\n",
       "      <td>21</td>\n",
       "      <td>0_style_night_walking_nature</td>\n",
       "      <td>[style, night, walking, nature, train, shining...</td>\n",
       "      <td>[one man with cowboy boots walking on rubble a...</td>\n",
       "    </tr>\n",
       "    <tr>\n",
       "      <th>1</th>\n",
       "      <td>1</td>\n",
       "      <td>17</td>\n",
       "      <td>1_insects_environment_tall_buzzing</td>\n",
       "      <td>[insects, environment, tall, buzzing, ground, ...</td>\n",
       "      <td>[there is a hill. insects and bugs are buzzing...</td>\n",
       "    </tr>\n",
       "    <tr>\n",
       "      <th>2</th>\n",
       "      <td>2</td>\n",
       "      <td>16</td>\n",
       "      <td>2_beach_horizon_steps_seagull</td>\n",
       "      <td>[beach, horizon, steps, seagull, footsteps, st...</td>\n",
       "      <td>[horizon seagull footsteps beach parasol ship ...</td>\n",
       "    </tr>\n",
       "  </tbody>\n",
       "</table>\n",
       "</div>"
      ],
      "text/plain": [
       "   Topic  Count                                Name  \\\n",
       "0      0     21        0_style_night_walking_nature   \n",
       "1      1     17  1_insects_environment_tall_buzzing   \n",
       "2      2     16       2_beach_horizon_steps_seagull   \n",
       "\n",
       "                                      Representation  \\\n",
       "0  [style, night, walking, nature, train, shining...   \n",
       "1  [insects, environment, tall, buzzing, ground, ...   \n",
       "2  [beach, horizon, steps, seagull, footsteps, st...   \n",
       "\n",
       "                                 Representative_Docs  \n",
       "0  [one man with cowboy boots walking on rubble a...  \n",
       "1  [there is a hill. insects and bugs are buzzing...  \n",
       "2  [horizon seagull footsteps beach parasol ship ...  "
      ]
     },
     "execution_count": 25,
     "metadata": {},
     "output_type": "execute_result"
    }
   ],
   "source": [
    "from bertopic import BERTopic\n",
    "from sklearn.feature_extraction.text import CountVectorizer\n",
    "\n",
    "def read_txt_file(txt_file):\n",
    "    prompts = []\n",
    "    with open(txt_file, 'r', encoding='utf-8') as f:\n",
    "        for line in f:\n",
    "            prompt = line.strip()  # Remove newline characters\n",
    "            prompts.append(prompt)\n",
    "    return prompts\n",
    "    \n",
    "# can be found in our shared folder, change path\n",
    "docs_sound = read_txt_file('/Users/mimi/Desktop/internship/study/output/combined_prompts_sound.txt')\n",
    "docs_story = read_txt_file('/Users/mimi/Desktop/internship/study/output/combined_prompts_story.txt')\n",
    "\n",
    "vectorizer_model = CountVectorizer(stop_words=\"english\")\n",
    "topic_model = BERTopic(vectorizer_model=vectorizer_model)\n",
    "\n",
    "topics, probs = topic_model.fit_transform(docs_sound)\n",
    "topic_model.get_topic_info()"
   ]
  },
  {
   "cell_type": "code",
   "execution_count": 26,
   "id": "7c5da50b-48fa-4a5d-bf6c-64dbf01f8f79",
   "metadata": {},
   "outputs": [
    {
     "data": {
      "application/vnd.plotly.v1+json": {
       "config": {
        "plotlyServerURL": "https://plot.ly"
       },
       "data": [
        {
         "marker": {
          "color": "#D55E00"
         },
         "orientation": "h",
         "type": "bar",
         "x": [
          0.1096119904662896,
          0.12118868910494977,
          0.12818864102672356,
          0.12971056724250343,
          0.13173180270513854
         ],
         "xaxis": "x",
         "y": [
          "train  ",
          "nature  ",
          "walking  ",
          "night  ",
          "style  "
         ],
         "yaxis": "y"
        },
        {
         "marker": {
          "color": "#0072B2"
         },
         "orientation": "h",
         "type": "bar",
         "x": [
          0.11805054255272208,
          0.11805054255272208,
          0.11805054255272208,
          0.11805054255272208,
          0.11805054255272208
         ],
         "xaxis": "x2",
         "y": [
          "ground  ",
          "buzzing  ",
          "tall  ",
          "environment  ",
          "insects  "
         ],
         "yaxis": "y2"
        },
        {
         "marker": {
          "color": "#CC79A7"
         },
         "orientation": "h",
         "type": "bar",
         "x": [
          0.20036665926162356,
          0.2297184837893457,
          0.2297184837893457,
          0.25746751499924175,
          0.2838543657608641
         ],
         "xaxis": "x3",
         "y": [
          "footsteps  ",
          "seagull  ",
          "steps  ",
          "horizon  ",
          "beach  "
         ],
         "yaxis": "y3"
        }
       ],
       "layout": {
        "annotations": [
         {
          "font": {
           "size": 16
          },
          "showarrow": false,
          "text": "Topic 0",
          "x": 0.0875,
          "xanchor": "center",
          "xref": "paper",
          "y": 1,
          "yanchor": "bottom",
          "yref": "paper"
         },
         {
          "font": {
           "size": 16
          },
          "showarrow": false,
          "text": "Topic 1",
          "x": 0.36250000000000004,
          "xanchor": "center",
          "xref": "paper",
          "y": 1,
          "yanchor": "bottom",
          "yref": "paper"
         },
         {
          "font": {
           "size": 16
          },
          "showarrow": false,
          "text": "Topic 2",
          "x": 0.6375000000000001,
          "xanchor": "center",
          "xref": "paper",
          "y": 1,
          "yanchor": "bottom",
          "yref": "paper"
         }
        ],
        "height": 325,
        "hoverlabel": {
         "bgcolor": "white",
         "font": {
          "family": "Rockwell",
          "size": 16
         }
        },
        "showlegend": false,
        "template": {
         "data": {
          "bar": [
           {
            "error_x": {
             "color": "#2a3f5f"
            },
            "error_y": {
             "color": "#2a3f5f"
            },
            "marker": {
             "line": {
              "color": "white",
              "width": 0.5
             },
             "pattern": {
              "fillmode": "overlay",
              "size": 10,
              "solidity": 0.2
             }
            },
            "type": "bar"
           }
          ],
          "barpolar": [
           {
            "marker": {
             "line": {
              "color": "white",
              "width": 0.5
             },
             "pattern": {
              "fillmode": "overlay",
              "size": 10,
              "solidity": 0.2
             }
            },
            "type": "barpolar"
           }
          ],
          "carpet": [
           {
            "aaxis": {
             "endlinecolor": "#2a3f5f",
             "gridcolor": "#C8D4E3",
             "linecolor": "#C8D4E3",
             "minorgridcolor": "#C8D4E3",
             "startlinecolor": "#2a3f5f"
            },
            "baxis": {
             "endlinecolor": "#2a3f5f",
             "gridcolor": "#C8D4E3",
             "linecolor": "#C8D4E3",
             "minorgridcolor": "#C8D4E3",
             "startlinecolor": "#2a3f5f"
            },
            "type": "carpet"
           }
          ],
          "choropleth": [
           {
            "colorbar": {
             "outlinewidth": 0,
             "ticks": ""
            },
            "type": "choropleth"
           }
          ],
          "contour": [
           {
            "colorbar": {
             "outlinewidth": 0,
             "ticks": ""
            },
            "colorscale": [
             [
              0,
              "#0d0887"
             ],
             [
              0.1111111111111111,
              "#46039f"
             ],
             [
              0.2222222222222222,
              "#7201a8"
             ],
             [
              0.3333333333333333,
              "#9c179e"
             ],
             [
              0.4444444444444444,
              "#bd3786"
             ],
             [
              0.5555555555555556,
              "#d8576b"
             ],
             [
              0.6666666666666666,
              "#ed7953"
             ],
             [
              0.7777777777777778,
              "#fb9f3a"
             ],
             [
              0.8888888888888888,
              "#fdca26"
             ],
             [
              1,
              "#f0f921"
             ]
            ],
            "type": "contour"
           }
          ],
          "contourcarpet": [
           {
            "colorbar": {
             "outlinewidth": 0,
             "ticks": ""
            },
            "type": "contourcarpet"
           }
          ],
          "heatmap": [
           {
            "colorbar": {
             "outlinewidth": 0,
             "ticks": ""
            },
            "colorscale": [
             [
              0,
              "#0d0887"
             ],
             [
              0.1111111111111111,
              "#46039f"
             ],
             [
              0.2222222222222222,
              "#7201a8"
             ],
             [
              0.3333333333333333,
              "#9c179e"
             ],
             [
              0.4444444444444444,
              "#bd3786"
             ],
             [
              0.5555555555555556,
              "#d8576b"
             ],
             [
              0.6666666666666666,
              "#ed7953"
             ],
             [
              0.7777777777777778,
              "#fb9f3a"
             ],
             [
              0.8888888888888888,
              "#fdca26"
             ],
             [
              1,
              "#f0f921"
             ]
            ],
            "type": "heatmap"
           }
          ],
          "heatmapgl": [
           {
            "colorbar": {
             "outlinewidth": 0,
             "ticks": ""
            },
            "colorscale": [
             [
              0,
              "#0d0887"
             ],
             [
              0.1111111111111111,
              "#46039f"
             ],
             [
              0.2222222222222222,
              "#7201a8"
             ],
             [
              0.3333333333333333,
              "#9c179e"
             ],
             [
              0.4444444444444444,
              "#bd3786"
             ],
             [
              0.5555555555555556,
              "#d8576b"
             ],
             [
              0.6666666666666666,
              "#ed7953"
             ],
             [
              0.7777777777777778,
              "#fb9f3a"
             ],
             [
              0.8888888888888888,
              "#fdca26"
             ],
             [
              1,
              "#f0f921"
             ]
            ],
            "type": "heatmapgl"
           }
          ],
          "histogram": [
           {
            "marker": {
             "pattern": {
              "fillmode": "overlay",
              "size": 10,
              "solidity": 0.2
             }
            },
            "type": "histogram"
           }
          ],
          "histogram2d": [
           {
            "colorbar": {
             "outlinewidth": 0,
             "ticks": ""
            },
            "colorscale": [
             [
              0,
              "#0d0887"
             ],
             [
              0.1111111111111111,
              "#46039f"
             ],
             [
              0.2222222222222222,
              "#7201a8"
             ],
             [
              0.3333333333333333,
              "#9c179e"
             ],
             [
              0.4444444444444444,
              "#bd3786"
             ],
             [
              0.5555555555555556,
              "#d8576b"
             ],
             [
              0.6666666666666666,
              "#ed7953"
             ],
             [
              0.7777777777777778,
              "#fb9f3a"
             ],
             [
              0.8888888888888888,
              "#fdca26"
             ],
             [
              1,
              "#f0f921"
             ]
            ],
            "type": "histogram2d"
           }
          ],
          "histogram2dcontour": [
           {
            "colorbar": {
             "outlinewidth": 0,
             "ticks": ""
            },
            "colorscale": [
             [
              0,
              "#0d0887"
             ],
             [
              0.1111111111111111,
              "#46039f"
             ],
             [
              0.2222222222222222,
              "#7201a8"
             ],
             [
              0.3333333333333333,
              "#9c179e"
             ],
             [
              0.4444444444444444,
              "#bd3786"
             ],
             [
              0.5555555555555556,
              "#d8576b"
             ],
             [
              0.6666666666666666,
              "#ed7953"
             ],
             [
              0.7777777777777778,
              "#fb9f3a"
             ],
             [
              0.8888888888888888,
              "#fdca26"
             ],
             [
              1,
              "#f0f921"
             ]
            ],
            "type": "histogram2dcontour"
           }
          ],
          "mesh3d": [
           {
            "colorbar": {
             "outlinewidth": 0,
             "ticks": ""
            },
            "type": "mesh3d"
           }
          ],
          "parcoords": [
           {
            "line": {
             "colorbar": {
              "outlinewidth": 0,
              "ticks": ""
             }
            },
            "type": "parcoords"
           }
          ],
          "pie": [
           {
            "automargin": true,
            "type": "pie"
           }
          ],
          "scatter": [
           {
            "fillpattern": {
             "fillmode": "overlay",
             "size": 10,
             "solidity": 0.2
            },
            "type": "scatter"
           }
          ],
          "scatter3d": [
           {
            "line": {
             "colorbar": {
              "outlinewidth": 0,
              "ticks": ""
             }
            },
            "marker": {
             "colorbar": {
              "outlinewidth": 0,
              "ticks": ""
             }
            },
            "type": "scatter3d"
           }
          ],
          "scattercarpet": [
           {
            "marker": {
             "colorbar": {
              "outlinewidth": 0,
              "ticks": ""
             }
            },
            "type": "scattercarpet"
           }
          ],
          "scattergeo": [
           {
            "marker": {
             "colorbar": {
              "outlinewidth": 0,
              "ticks": ""
             }
            },
            "type": "scattergeo"
           }
          ],
          "scattergl": [
           {
            "marker": {
             "colorbar": {
              "outlinewidth": 0,
              "ticks": ""
             }
            },
            "type": "scattergl"
           }
          ],
          "scattermapbox": [
           {
            "marker": {
             "colorbar": {
              "outlinewidth": 0,
              "ticks": ""
             }
            },
            "type": "scattermapbox"
           }
          ],
          "scatterpolar": [
           {
            "marker": {
             "colorbar": {
              "outlinewidth": 0,
              "ticks": ""
             }
            },
            "type": "scatterpolar"
           }
          ],
          "scatterpolargl": [
           {
            "marker": {
             "colorbar": {
              "outlinewidth": 0,
              "ticks": ""
             }
            },
            "type": "scatterpolargl"
           }
          ],
          "scatterternary": [
           {
            "marker": {
             "colorbar": {
              "outlinewidth": 0,
              "ticks": ""
             }
            },
            "type": "scatterternary"
           }
          ],
          "surface": [
           {
            "colorbar": {
             "outlinewidth": 0,
             "ticks": ""
            },
            "colorscale": [
             [
              0,
              "#0d0887"
             ],
             [
              0.1111111111111111,
              "#46039f"
             ],
             [
              0.2222222222222222,
              "#7201a8"
             ],
             [
              0.3333333333333333,
              "#9c179e"
             ],
             [
              0.4444444444444444,
              "#bd3786"
             ],
             [
              0.5555555555555556,
              "#d8576b"
             ],
             [
              0.6666666666666666,
              "#ed7953"
             ],
             [
              0.7777777777777778,
              "#fb9f3a"
             ],
             [
              0.8888888888888888,
              "#fdca26"
             ],
             [
              1,
              "#f0f921"
             ]
            ],
            "type": "surface"
           }
          ],
          "table": [
           {
            "cells": {
             "fill": {
              "color": "#EBF0F8"
             },
             "line": {
              "color": "white"
             }
            },
            "header": {
             "fill": {
              "color": "#C8D4E3"
             },
             "line": {
              "color": "white"
             }
            },
            "type": "table"
           }
          ]
         },
         "layout": {
          "annotationdefaults": {
           "arrowcolor": "#2a3f5f",
           "arrowhead": 0,
           "arrowwidth": 1
          },
          "autotypenumbers": "strict",
          "coloraxis": {
           "colorbar": {
            "outlinewidth": 0,
            "ticks": ""
           }
          },
          "colorscale": {
           "diverging": [
            [
             0,
             "#8e0152"
            ],
            [
             0.1,
             "#c51b7d"
            ],
            [
             0.2,
             "#de77ae"
            ],
            [
             0.3,
             "#f1b6da"
            ],
            [
             0.4,
             "#fde0ef"
            ],
            [
             0.5,
             "#f7f7f7"
            ],
            [
             0.6,
             "#e6f5d0"
            ],
            [
             0.7,
             "#b8e186"
            ],
            [
             0.8,
             "#7fbc41"
            ],
            [
             0.9,
             "#4d9221"
            ],
            [
             1,
             "#276419"
            ]
           ],
           "sequential": [
            [
             0,
             "#0d0887"
            ],
            [
             0.1111111111111111,
             "#46039f"
            ],
            [
             0.2222222222222222,
             "#7201a8"
            ],
            [
             0.3333333333333333,
             "#9c179e"
            ],
            [
             0.4444444444444444,
             "#bd3786"
            ],
            [
             0.5555555555555556,
             "#d8576b"
            ],
            [
             0.6666666666666666,
             "#ed7953"
            ],
            [
             0.7777777777777778,
             "#fb9f3a"
            ],
            [
             0.8888888888888888,
             "#fdca26"
            ],
            [
             1,
             "#f0f921"
            ]
           ],
           "sequentialminus": [
            [
             0,
             "#0d0887"
            ],
            [
             0.1111111111111111,
             "#46039f"
            ],
            [
             0.2222222222222222,
             "#7201a8"
            ],
            [
             0.3333333333333333,
             "#9c179e"
            ],
            [
             0.4444444444444444,
             "#bd3786"
            ],
            [
             0.5555555555555556,
             "#d8576b"
            ],
            [
             0.6666666666666666,
             "#ed7953"
            ],
            [
             0.7777777777777778,
             "#fb9f3a"
            ],
            [
             0.8888888888888888,
             "#fdca26"
            ],
            [
             1,
             "#f0f921"
            ]
           ]
          },
          "colorway": [
           "#636efa",
           "#EF553B",
           "#00cc96",
           "#ab63fa",
           "#FFA15A",
           "#19d3f3",
           "#FF6692",
           "#B6E880",
           "#FF97FF",
           "#FECB52"
          ],
          "font": {
           "color": "#2a3f5f"
          },
          "geo": {
           "bgcolor": "white",
           "lakecolor": "white",
           "landcolor": "white",
           "showlakes": true,
           "showland": true,
           "subunitcolor": "#C8D4E3"
          },
          "hoverlabel": {
           "align": "left"
          },
          "hovermode": "closest",
          "mapbox": {
           "style": "light"
          },
          "paper_bgcolor": "white",
          "plot_bgcolor": "white",
          "polar": {
           "angularaxis": {
            "gridcolor": "#EBF0F8",
            "linecolor": "#EBF0F8",
            "ticks": ""
           },
           "bgcolor": "white",
           "radialaxis": {
            "gridcolor": "#EBF0F8",
            "linecolor": "#EBF0F8",
            "ticks": ""
           }
          },
          "scene": {
           "xaxis": {
            "backgroundcolor": "white",
            "gridcolor": "#DFE8F3",
            "gridwidth": 2,
            "linecolor": "#EBF0F8",
            "showbackground": true,
            "ticks": "",
            "zerolinecolor": "#EBF0F8"
           },
           "yaxis": {
            "backgroundcolor": "white",
            "gridcolor": "#DFE8F3",
            "gridwidth": 2,
            "linecolor": "#EBF0F8",
            "showbackground": true,
            "ticks": "",
            "zerolinecolor": "#EBF0F8"
           },
           "zaxis": {
            "backgroundcolor": "white",
            "gridcolor": "#DFE8F3",
            "gridwidth": 2,
            "linecolor": "#EBF0F8",
            "showbackground": true,
            "ticks": "",
            "zerolinecolor": "#EBF0F8"
           }
          },
          "shapedefaults": {
           "line": {
            "color": "#2a3f5f"
           }
          },
          "ternary": {
           "aaxis": {
            "gridcolor": "#DFE8F3",
            "linecolor": "#A2B1C6",
            "ticks": ""
           },
           "baxis": {
            "gridcolor": "#DFE8F3",
            "linecolor": "#A2B1C6",
            "ticks": ""
           },
           "bgcolor": "white",
           "caxis": {
            "gridcolor": "#DFE8F3",
            "linecolor": "#A2B1C6",
            "ticks": ""
           }
          },
          "title": {
           "x": 0.05
          },
          "xaxis": {
           "automargin": true,
           "gridcolor": "#EBF0F8",
           "linecolor": "#EBF0F8",
           "ticks": "",
           "title": {
            "standoff": 15
           },
           "zerolinecolor": "#EBF0F8",
           "zerolinewidth": 2
          },
          "yaxis": {
           "automargin": true,
           "gridcolor": "#EBF0F8",
           "linecolor": "#EBF0F8",
           "ticks": "",
           "title": {
            "standoff": 15
           },
           "zerolinecolor": "#EBF0F8",
           "zerolinewidth": 2
          }
         }
        },
        "title": {
         "font": {
          "color": "Black",
          "size": 22
         },
         "text": "Topic Word Scores",
         "x": 0.5,
         "xanchor": "center",
         "yanchor": "top"
        },
        "width": 1000,
        "xaxis": {
         "anchor": "y",
         "autorange": true,
         "domain": [
          0,
          0.175
         ],
         "range": [
          0,
          0.1386650554790932
         ],
         "showgrid": true,
         "type": "linear"
        },
        "xaxis2": {
         "anchor": "y2",
         "autorange": true,
         "domain": [
          0.275,
          0.45
         ],
         "range": [
          0,
          0.12426372900286535
         ],
         "showgrid": true,
         "type": "linear"
        },
        "xaxis3": {
         "anchor": "y3",
         "autorange": true,
         "domain": [
          0.55,
          0.7250000000000001
         ],
         "range": [
          0,
          0.2987940692219622
         ],
         "showgrid": true,
         "type": "linear"
        },
        "xaxis4": {
         "anchor": "y4",
         "domain": [
          0.825,
          1
         ],
         "showgrid": true
        },
        "yaxis": {
         "anchor": "x",
         "autorange": true,
         "domain": [
          0,
          1
         ],
         "range": [
          -0.5,
          4.5
         ],
         "showgrid": true,
         "type": "category"
        },
        "yaxis2": {
         "anchor": "x2",
         "autorange": true,
         "domain": [
          0,
          1
         ],
         "range": [
          -0.5,
          4.5
         ],
         "showgrid": true,
         "type": "category"
        },
        "yaxis3": {
         "anchor": "x3",
         "autorange": true,
         "domain": [
          0,
          1
         ],
         "range": [
          -0.5,
          4.5
         ],
         "showgrid": true,
         "type": "category"
        },
        "yaxis4": {
         "anchor": "x4",
         "domain": [
          0,
          1
         ],
         "showgrid": true
        }
       }
      },
      "image/png": "[encoded data removed]",
      "text/html": [
       "<div>                            <div id=\"c8f007ed-d100-4413-981e-37fb6ba589e0\" class=\"plotly-graph-div\" style=\"height:325.0px; width:1000px;\"></div>            <script type=\"text/javascript\">                require([\"plotly\"], function(Plotly) {                    window.PLOTLYENV=window.PLOTLYENV || {};                                    if (document.getElementById(\"c8f007ed-d100-4413-981e-37fb6ba589e0\")) {                    Plotly.newPlot(                        \"c8f007ed-d100-4413-981e-37fb6ba589e0\",                        [{\"marker\":{\"color\":\"#D55E00\"},\"orientation\":\"h\",\"x\":[0.1096119904662896,0.12118868910494977,0.12818864102672356,0.12971056724250343,0.13173180270513854],\"y\":[\"train  \",\"nature  \",\"walking  \",\"night  \",\"style  \"],\"type\":\"bar\",\"xaxis\":\"x\",\"yaxis\":\"y\"},{\"marker\":{\"color\":\"#0072B2\"},\"orientation\":\"h\",\"x\":[0.11805054255272208,0.11805054255272208,0.11805054255272208,0.11805054255272208,0.11805054255272208],\"y\":[\"ground  \",\"buzzing  \",\"tall  \",\"environment  \",\"insects  \"],\"type\":\"bar\",\"xaxis\":\"x2\",\"yaxis\":\"y2\"},{\"marker\":{\"color\":\"#CC79A7\"},\"orientation\":\"h\",\"x\":[0.20036665926162356,0.2297184837893457,0.2297184837893457,0.25746751499924175,0.2838543657608641],\"y\":[\"footsteps  \",\"seagull  \",\"steps  \",\"horizon  \",\"beach  \"],\"type\":\"bar\",\"xaxis\":\"x3\",\"yaxis\":\"y3\"}],                        {\"template\":{\"data\":{\"barpolar\":[{\"marker\":{\"line\":{\"color\":\"white\",\"width\":0.5},\"pattern\":{\"fillmode\":\"overlay\",\"size\":10,\"solidity\":0.2}},\"type\":\"barpolar\"}],\"bar\":[{\"error_x\":{\"color\":\"#2a3f5f\"},\"error_y\":{\"color\":\"#2a3f5f\"},\"marker\":{\"line\":{\"color\":\"white\",\"width\":0.5},\"pattern\":{\"fillmode\":\"overlay\",\"size\":10,\"solidity\":0.2}},\"type\":\"bar\"}],\"carpet\":[{\"aaxis\":{\"endlinecolor\":\"#2a3f5f\",\"gridcolor\":\"#C8D4E3\",\"linecolor\":\"#C8D4E3\",\"minorgridcolor\":\"#C8D4E3\",\"startlinecolor\":\"#2a3f5f\"},\"baxis\":{\"endlinecolor\":\"#2a3f5f\",\"gridcolor\":\"#C8D4E3\",\"linecolor\":\"#C8D4E3\",\"minorgridcolor\":\"#C8D4E3\",\"startlinecolor\":\"#2a3f5f\"},\"type\":\"carpet\"}],\"choropleth\":[{\"colorbar\":{\"outlinewidth\":0,\"ticks\":\"\"},\"type\":\"choropleth\"}],\"contourcarpet\":[{\"colorbar\":{\"outlinewidth\":0,\"ticks\":\"\"},\"type\":\"contourcarpet\"}],\"contour\":[{\"colorbar\":{\"outlinewidth\":0,\"ticks\":\"\"},\"colorscale\":[[0.0,\"#0d0887\"],[0.1111111111111111,\"#46039f\"],[0.2222222222222222,\"#7201a8\"],[0.3333333333333333,\"#9c179e\"],[0.4444444444444444,\"#bd3786\"],[0.5555555555555556,\"#d8576b\"],[0.6666666666666666,\"#ed7953\"],[0.7777777777777778,\"#fb9f3a\"],[0.8888888888888888,\"#fdca26\"],[1.0,\"#f0f921\"]],\"type\":\"contour\"}],\"heatmapgl\":[{\"colorbar\":{\"outlinewidth\":0,\"ticks\":\"\"},\"colorscale\":[[0.0,\"#0d0887\"],[0.1111111111111111,\"#46039f\"],[0.2222222222222222,\"#7201a8\"],[0.3333333333333333,\"#9c179e\"],[0.4444444444444444,\"#bd3786\"],[0.5555555555555556,\"#d8576b\"],[0.6666666666666666,\"#ed7953\"],[0.7777777777777778,\"#fb9f3a\"],[0.8888888888888888,\"#fdca26\"],[1.0,\"#f0f921\"]],\"type\":\"heatmapgl\"}],\"heatmap\":[{\"colorbar\":{\"outlinewidth\":0,\"ticks\":\"\"},\"colorscale\":[[0.0,\"#0d0887\"],[0.1111111111111111,\"#46039f\"],[0.2222222222222222,\"#7201a8\"],[0.3333333333333333,\"#9c179e\"],[0.4444444444444444,\"#bd3786\"],[0.5555555555555556,\"#d8576b\"],[0.6666666666666666,\"#ed7953\"],[0.7777777777777778,\"#fb9f3a\"],[0.8888888888888888,\"#fdca26\"],[1.0,\"#f0f921\"]],\"type\":\"heatmap\"}],\"histogram2dcontour\":[{\"colorbar\":{\"outlinewidth\":0,\"ticks\":\"\"},\"colorscale\":[[0.0,\"#0d0887\"],[0.1111111111111111,\"#46039f\"],[0.2222222222222222,\"#7201a8\"],[0.3333333333333333,\"#9c179e\"],[0.4444444444444444,\"#bd3786\"],[0.5555555555555556,\"#d8576b\"],[0.6666666666666666,\"#ed7953\"],[0.7777777777777778,\"#fb9f3a\"],[0.8888888888888888,\"#fdca26\"],[1.0,\"#f0f921\"]],\"type\":\"histogram2dcontour\"}],\"histogram2d\":[{\"colorbar\":{\"outlinewidth\":0,\"ticks\":\"\"},\"colorscale\":[[0.0,\"#0d0887\"],[0.1111111111111111,\"#46039f\"],[0.2222222222222222,\"#7201a8\"],[0.3333333333333333,\"#9c179e\"],[0.4444444444444444,\"#bd3786\"],[0.5555555555555556,\"#d8576b\"],[0.6666666666666666,\"#ed7953\"],[0.7777777777777778,\"#fb9f3a\"],[0.8888888888888888,\"#fdca26\"],[1.0,\"#f0f921\"]],\"type\":\"histogram2d\"}],\"histogram\":[{\"marker\":{\"pattern\":{\"fillmode\":\"overlay\",\"size\":10,\"solidity\":0.2}},\"type\":\"histogram\"}],\"mesh3d\":[{\"colorbar\":{\"outlinewidth\":0,\"ticks\":\"\"},\"type\":\"mesh3d\"}],\"parcoords\":[{\"line\":{\"colorbar\":{\"outlinewidth\":0,\"ticks\":\"\"}},\"type\":\"parcoords\"}],\"pie\":[{\"automargin\":true,\"type\":\"pie\"}],\"scatter3d\":[{\"line\":{\"colorbar\":{\"outlinewidth\":0,\"ticks\":\"\"}},\"marker\":{\"colorbar\":{\"outlinewidth\":0,\"ticks\":\"\"}},\"type\":\"scatter3d\"}],\"scattercarpet\":[{\"marker\":{\"colorbar\":{\"outlinewidth\":0,\"ticks\":\"\"}},\"type\":\"scattercarpet\"}],\"scattergeo\":[{\"marker\":{\"colorbar\":{\"outlinewidth\":0,\"ticks\":\"\"}},\"type\":\"scattergeo\"}],\"scattergl\":[{\"marker\":{\"colorbar\":{\"outlinewidth\":0,\"ticks\":\"\"}},\"type\":\"scattergl\"}],\"scattermapbox\":[{\"marker\":{\"colorbar\":{\"outlinewidth\":0,\"ticks\":\"\"}},\"type\":\"scattermapbox\"}],\"scatterpolargl\":[{\"marker\":{\"colorbar\":{\"outlinewidth\":0,\"ticks\":\"\"}},\"type\":\"scatterpolargl\"}],\"scatterpolar\":[{\"marker\":{\"colorbar\":{\"outlinewidth\":0,\"ticks\":\"\"}},\"type\":\"scatterpolar\"}],\"scatter\":[{\"fillpattern\":{\"fillmode\":\"overlay\",\"size\":10,\"solidity\":0.2},\"type\":\"scatter\"}],\"scatterternary\":[{\"marker\":{\"colorbar\":{\"outlinewidth\":0,\"ticks\":\"\"}},\"type\":\"scatterternary\"}],\"surface\":[{\"colorbar\":{\"outlinewidth\":0,\"ticks\":\"\"},\"colorscale\":[[0.0,\"#0d0887\"],[0.1111111111111111,\"#46039f\"],[0.2222222222222222,\"#7201a8\"],[0.3333333333333333,\"#9c179e\"],[0.4444444444444444,\"#bd3786\"],[0.5555555555555556,\"#d8576b\"],[0.6666666666666666,\"#ed7953\"],[0.7777777777777778,\"#fb9f3a\"],[0.8888888888888888,\"#fdca26\"],[1.0,\"#f0f921\"]],\"type\":\"surface\"}],\"table\":[{\"cells\":{\"fill\":{\"color\":\"#EBF0F8\"},\"line\":{\"color\":\"white\"}},\"header\":{\"fill\":{\"color\":\"#C8D4E3\"},\"line\":{\"color\":\"white\"}},\"type\":\"table\"}]},\"layout\":{\"annotationdefaults\":{\"arrowcolor\":\"#2a3f5f\",\"arrowhead\":0,\"arrowwidth\":1},\"autotypenumbers\":\"strict\",\"coloraxis\":{\"colorbar\":{\"outlinewidth\":0,\"ticks\":\"\"}},\"colorscale\":{\"diverging\":[[0,\"#8e0152\"],[0.1,\"#c51b7d\"],[0.2,\"#de77ae\"],[0.3,\"#f1b6da\"],[0.4,\"#fde0ef\"],[0.5,\"#f7f7f7\"],[0.6,\"#e6f5d0\"],[0.7,\"#b8e186\"],[0.8,\"#7fbc41\"],[0.9,\"#4d9221\"],[1,\"#276419\"]],\"sequential\":[[0.0,\"#0d0887\"],[0.1111111111111111,\"#46039f\"],[0.2222222222222222,\"#7201a8\"],[0.3333333333333333,\"#9c179e\"],[0.4444444444444444,\"#bd3786\"],[0.5555555555555556,\"#d8576b\"],[0.6666666666666666,\"#ed7953\"],[0.7777777777777778,\"#fb9f3a\"],[0.8888888888888888,\"#fdca26\"],[1.0,\"#f0f921\"]],\"sequentialminus\":[[0.0,\"#0d0887\"],[0.1111111111111111,\"#46039f\"],[0.2222222222222222,\"#7201a8\"],[0.3333333333333333,\"#9c179e\"],[0.4444444444444444,\"#bd3786\"],[0.5555555555555556,\"#d8576b\"],[0.6666666666666666,\"#ed7953\"],[0.7777777777777778,\"#fb9f3a\"],[0.8888888888888888,\"#fdca26\"],[1.0,\"#f0f921\"]]},\"colorway\":[\"#636efa\",\"#EF553B\",\"#00cc96\",\"#ab63fa\",\"#FFA15A\",\"#19d3f3\",\"#FF6692\",\"#B6E880\",\"#FF97FF\",\"#FECB52\"],\"font\":{\"color\":\"#2a3f5f\"},\"geo\":{\"bgcolor\":\"white\",\"lakecolor\":\"white\",\"landcolor\":\"white\",\"showlakes\":true,\"showland\":true,\"subunitcolor\":\"#C8D4E3\"},\"hoverlabel\":{\"align\":\"left\"},\"hovermode\":\"closest\",\"mapbox\":{\"style\":\"light\"},\"paper_bgcolor\":\"white\",\"plot_bgcolor\":\"white\",\"polar\":{\"angularaxis\":{\"gridcolor\":\"#EBF0F8\",\"linecolor\":\"#EBF0F8\",\"ticks\":\"\"},\"bgcolor\":\"white\",\"radialaxis\":{\"gridcolor\":\"#EBF0F8\",\"linecolor\":\"#EBF0F8\",\"ticks\":\"\"}},\"scene\":{\"xaxis\":{\"backgroundcolor\":\"white\",\"gridcolor\":\"#DFE8F3\",\"gridwidth\":2,\"linecolor\":\"#EBF0F8\",\"showbackground\":true,\"ticks\":\"\",\"zerolinecolor\":\"#EBF0F8\"},\"yaxis\":{\"backgroundcolor\":\"white\",\"gridcolor\":\"#DFE8F3\",\"gridwidth\":2,\"linecolor\":\"#EBF0F8\",\"showbackground\":true,\"ticks\":\"\",\"zerolinecolor\":\"#EBF0F8\"},\"zaxis\":{\"backgroundcolor\":\"white\",\"gridcolor\":\"#DFE8F3\",\"gridwidth\":2,\"linecolor\":\"#EBF0F8\",\"showbackground\":true,\"ticks\":\"\",\"zerolinecolor\":\"#EBF0F8\"}},\"shapedefaults\":{\"line\":{\"color\":\"#2a3f5f\"}},\"ternary\":{\"aaxis\":{\"gridcolor\":\"#DFE8F3\",\"linecolor\":\"#A2B1C6\",\"ticks\":\"\"},\"baxis\":{\"gridcolor\":\"#DFE8F3\",\"linecolor\":\"#A2B1C6\",\"ticks\":\"\"},\"bgcolor\":\"white\",\"caxis\":{\"gridcolor\":\"#DFE8F3\",\"linecolor\":\"#A2B1C6\",\"ticks\":\"\"}},\"title\":{\"x\":0.05},\"xaxis\":{\"automargin\":true,\"gridcolor\":\"#EBF0F8\",\"linecolor\":\"#EBF0F8\",\"ticks\":\"\",\"title\":{\"standoff\":15},\"zerolinecolor\":\"#EBF0F8\",\"zerolinewidth\":2},\"yaxis\":{\"automargin\":true,\"gridcolor\":\"#EBF0F8\",\"linecolor\":\"#EBF0F8\",\"ticks\":\"\",\"title\":{\"standoff\":15},\"zerolinecolor\":\"#EBF0F8\",\"zerolinewidth\":2}}},\"xaxis\":{\"anchor\":\"y\",\"domain\":[0.0,0.175],\"showgrid\":true},\"yaxis\":{\"anchor\":\"x\",\"domain\":[0.0,1.0],\"showgrid\":true},\"xaxis2\":{\"anchor\":\"y2\",\"domain\":[0.275,0.45],\"showgrid\":true},\"yaxis2\":{\"anchor\":\"x2\",\"domain\":[0.0,1.0],\"showgrid\":true},\"xaxis3\":{\"anchor\":\"y3\",\"domain\":[0.55,0.7250000000000001],\"showgrid\":true},\"yaxis3\":{\"anchor\":\"x3\",\"domain\":[0.0,1.0],\"showgrid\":true},\"xaxis4\":{\"anchor\":\"y4\",\"domain\":[0.825,1.0],\"showgrid\":true},\"yaxis4\":{\"anchor\":\"x4\",\"domain\":[0.0,1.0],\"showgrid\":true},\"annotations\":[{\"font\":{\"size\":16},\"showarrow\":false,\"text\":\"Topic 0\",\"x\":0.0875,\"xanchor\":\"center\",\"xref\":\"paper\",\"y\":1.0,\"yanchor\":\"bottom\",\"yref\":\"paper\"},{\"font\":{\"size\":16},\"showarrow\":false,\"text\":\"Topic 1\",\"x\":0.36250000000000004,\"xanchor\":\"center\",\"xref\":\"paper\",\"y\":1.0,\"yanchor\":\"bottom\",\"yref\":\"paper\"},{\"font\":{\"size\":16},\"showarrow\":false,\"text\":\"Topic 2\",\"x\":0.6375000000000001,\"xanchor\":\"center\",\"xref\":\"paper\",\"y\":1.0,\"yanchor\":\"bottom\",\"yref\":\"paper\"}],\"title\":{\"font\":{\"size\":22,\"color\":\"Black\"},\"text\":\"Topic Word Scores\",\"x\":0.5,\"xanchor\":\"center\",\"yanchor\":\"top\"},\"hoverlabel\":{\"font\":{\"size\":16,\"family\":\"Rockwell\"},\"bgcolor\":\"white\"},\"showlegend\":false,\"width\":1000,\"height\":325.0},                        {\"responsive\": true}                    ).then(function(){\n",
       "                            \n",
       "var gd = document.getElementById('c8f007ed-d100-4413-981e-37fb6ba589e0');\n",
       "var x = new MutationObserver(function (mutations, observer) {{\n",
       "        var display = window.getComputedStyle(gd).display;\n",
       "        if (!display || display === 'none') {{\n",
       "            console.log([gd, 'removed!']);\n",
       "            Plotly.purge(gd);\n",
       "            observer.disconnect();\n",
       "        }}\n",
       "}});\n",
       "\n",
       "// Listen for the removal of the full notebook cells\n",
       "var notebookContainer = gd.closest('#notebook-container');\n",
       "if (notebookContainer) {{\n",
       "    x.observe(notebookContainer, {childList: true});\n",
       "}}\n",
       "\n",
       "// Listen for the clearing of the current output cell\n",
       "var outputEl = gd.closest('.output');\n",
       "if (outputEl) {{\n",
       "    x.observe(outputEl, {childList: true});\n",
       "}}\n",
       "\n",
       "                        })                };                });            </script>        </div>"
      ]
     },
     "metadata": {},
     "output_type": "display_data"
    }
   ],
   "source": [
    "topic_model.visualize_barchart()"
   ]
  },
  {
   "cell_type": "code",
   "execution_count": 27,
   "id": "f16b0400-2d3b-403c-9d83-4a2e3fb4e712",
   "metadata": {},
   "outputs": [
    {
     "data": {
      "application/vnd.plotly.v1+json": {
       "config": {
        "plotlyServerURL": "https://plot.ly"
       },
       "data": [
        {
         "hoverinfo": "text",
         "hovertext": [
          null
         ],
         "marker": {
          "color": "#CFD8DC",
          "opacity": 0.5,
          "size": 5
         },
         "mode": "markers+text",
         "name": "other",
         "showlegend": false,
         "type": "scattergl",
         "x": [
          null
         ],
         "y": [
          null
         ]
        },
        {
         "hoverinfo": "text",
         "hovertext": [
          "one man with cowboy boots walking on rubble next to river, nature around, hyper realistic style",
          "angle from the side, a man wearing trekking pants, a tshirt and hiking shoes with a backpack on walking on a soil path through a big field of higher grass with red and pink flowers in it, sun is shining shelter out of wood in the background",
          "one man with cowboy boots walking on rubble at night, nature around, hyper realistic style",
          "a man photographed from the side, wearing trekking pants, a tshirt and hiking shoes with a backpack on walking on a soil path through a big field of higher grass with flowers in it, sun is shining, shelter out of wood in the background, big mountains blurry in the background, a bird flying through the blue sky",
          "group on people walking on train tracks at night in nature",
          "two persons walking on train tracks at night, moon is shining",
          "in front a man wearing trekking pants, a tshirt and hiking shoes with a backpack on walking on a soil path through a big field of higher grass with little flowers in it, sun is shining, blue sky with several little clouds, big mountains and trees blurry in the background, a bird flying through the sky, shelter out of wood in the background",
          "close up feet, two persons walking on train tracks on warm summer night, moon is shining, green nature around, late 19th century America, in the style on Caspar David Friedrich",
          "one man with cowboy boots walking on rubble at night, nature around",
          "one man with cowboy boots walking on rubble next to train tracks in nature at night, nature around, hyper realistic style",
          "woman hiking at night through nature over rubble, realistic watercolour style, closeup boots",
          "group on people walking on train tracks at night",
          "one man with cowboy boots walking on rubble next to river at night, nature around, hyper realistic style",
          "two persons walking on train tracks at night, moon is shining, green nature around, late 19th century America, classic oil painting style",
          "one man with cowboy boots walking on rubble next to train tracksuit night, nature around, hyper realistic style",
          "two persons walking on train tracks at night, moon is shining, green nature around, late 19th century America, realistic style, detailed",
          "woman hiking at night through nature, realistic watercolour style",
          "close up feet, two persons walking on train tracks on warm summer night, moon is shining, green nature around, late 19th century America, realistic style, detailed",
          "one man with cowboy boots walking on rubble next to train tracks, nature around, hyper realistic style",
          "a man photographed from the side, wearing trekking pants, a tshirt and hiking shoes with a backpack on walking on a soil path through a big field of higher grass with flowers in it, sun is shining, shelter out of wood in the background",
          "woman hiking at night through nature, realistic watercolour style, closeup boots",
          null
         ],
         "marker": {
          "opacity": 0.5,
          "size": 5
         },
         "mode": "markers+text",
         "name": "0_style_night_walking",
         "text": [
          "",
          "",
          "",
          "",
          "",
          "",
          "",
          "",
          "",
          "",
          "",
          "",
          "",
          "",
          "",
          "",
          "",
          "",
          "",
          "",
          "",
          "0_style_night_walking"
         ],
         "textfont": {
          "size": 12
         },
         "type": "scattergl",
         "x": [
          -4.1833696365356445,
          -4.69577169418335,
          -4.308264255523682,
          -4.507437229156494,
          -7.081822872161865,
          -7.543013572692871,
          -4.4311089515686035,
          -7.618128776550293,
          -4.003241062164307,
          -4.471215724945068,
          -4.785272121429443,
          -7.1810994148254395,
          -4.2745513916015625,
          -7.571025848388672,
          -4.344638347625732,
          -7.569132328033447,
          -5.0093889236450195,
          -7.3934783935546875,
          -3.9489197731018066,
          -4.688387393951416,
          -4.725942134857178,
          -5.444533824920654
         ],
         "y": [
          5.836543083190918,
          5.022547721862793,
          5.944084167480469,
          4.704446792602539,
          7.4119744300842285,
          7.035129070281982,
          4.784872531890869,
          7.201760292053223,
          5.58644962310791,
          5.6047892570495605,
          5.9845051765441895,
          7.298818111419678,
          5.702598571777344,
          7.131033897399902,
          5.989071369171143,
          7.31078577041626,
          5.95973014831543,
          7.0138468742370605,
          6.028331279754639,
          4.935438632965088,
          6.109838008880615,
          6.123647212982178
         ]
        },
        {
         "hoverinfo": "text",
         "hovertext": [
          "there is a hill. insects and bugs are buzzing, a tall strong curious young adult man strolling under the giant trees. The sand and the stones on the ground. the environment is dark and mysterious, only some holy light beams pass through the leaves. photorealistic. a bit foggy. calm. color is purple. surreal. it sounds like there is no one here.",
          "there is a hill. insects and bugs are buzzing, walking under the giant trees. The sand and the stones on the ground. the nature with a tall strong young adult man. the environment is dark and mysterious, only some light beams pass through the leaves. realistic. a bit foggy. calm.",
          "insects are buzzing, walking under the trees. The sand and the stones on the ground. the nature with a tall man. the environment is dark, only some light beams pass through the leaves.",
          "insects are buzzing, walking under the trees. The sand and the stones on the ground. the nature with a tall strong young adult man. the environment is dark, only some light beams pass through the leaves. photoristic. a bit foggy.",
          "insects and bugs are buzzing, walking under the giant trees. The sand and the stones on the ground. the nature with a tall strong young adult man. the environment is dark and mysterious, only some light beams pass through the leaves. realistic. a bit foggy.",
          "insects are buzzing, walking under the trees. The sand and the stones on the ground. the nature with a tall man. the environment is dark, only some light beams pass through the leaves. photoristic. a bit foggy.",
          "there is a hill. insects and bugs are buzzing, a tall strong young adult man strolling under the giant trees. The sand and the stones on the ground. the environment is dark and mysterious, only some light beams pass through the leaves. realistic. a bit foggy. calm. color is purple. surreal.",
          "there is a hill. insects and bugs are buzzing, a tall strong curious young adult man strolling under the giant trees. The sand and the stones on the ground. the environment is dark and mysterious, only some light beams pass through the leaves. realistic. a bit foggy. calm. color is purple. surreal. it sounds like there is no one here.",
          "there is a hill. insects and bugs are buzzing, walking under the giant trees. The sand and the stones on the ground. the nature with a tall strong young adult man. the environment is dark and mysterious, only some light beams pass through the leaves. realistic. a bit foggy. calm. color is purple.",
          "insects and bugs are buzzing, walking under the trees. The sand and the stones on the ground. the nature with a tall strong young adult man. the environment is dark, only some light beams pass through the leaves. realistic. a bit foggy.",
          "insects and bugs are buzzing, walking under the giant trees. The sand and the stones on the ground. the nature with a tall strong young adult man. the environment is dark and mysterious, only some light beams pass through the leaves. realistic. a bit foggy. calm.",
          "there is a hill. insects and bugs are buzzing, walking under the giant trees. The sand and the stones on the ground. the nature with a tall strong young adult man. the environment is dark and mysterious, only some light beams pass through the leaves. realistic. a bit foggy. calm. color is purple. surreal.",
          "insects are buzzing, walking under the trees. The sand and the stones on the ground. the nature with a tall man. the environment is dark, only some light beams pass through the leaves. photoristic.",
          "insects are buzzing, walking under the trees. The sand and the stones on the ground. the nature with a tall man. the environment is dimmed, not very bright.",
          "insects are buzzing, walking under the trees. The sand and the stones on the ground. the nature with a tall young adult man. the environment is dark, only some light beams pass through the leaves. photoristic. a bit foggy.",
          "insects and bugs are buzzing, walking under the trees. The sand and the stones on the ground. the nature with a tall strong young adult man. the environment is dark and mysterious, only some light beams pass through the leaves. realistic. a bit foggy.",
          "insects are buzzing, walking under the trees. The sand and the stones on the ground. the nature with a tall young adult man. the environment is dark, only some light beams pass through the leaves. photoristic. a bit foggy.",
          null
         ],
         "marker": {
          "opacity": 0.5,
          "size": 5
         },
         "mode": "markers+text",
         "name": "1_insects_environment_tall",
         "text": [
          "",
          "",
          "",
          "",
          "",
          "",
          "",
          "",
          "",
          "",
          "",
          "",
          "",
          "",
          "",
          "",
          "",
          "1_insects_environment_tall"
         ],
         "textfont": {
          "size": 12
         },
         "type": "scattergl",
         "x": [
          5.419829368591309,
          4.909139633178711,
          4.079553127288818,
          3.739450693130493,
          4.5332255363464355,
          3.7598729133605957,
          5.097835063934326,
          5.282297611236572,
          4.968385219573975,
          4.3319597244262695,
          4.463685512542725,
          5.05548620223999,
          3.764035701751709,
          4.061982154846191,
          3.882371664047241,
          4.387096405029297,
          3.9152519702911377,
          4.450085639953613
         ],
         "y": [
          16.027259826660156,
          16.179067611694336,
          18.632200241088867,
          18.33469009399414,
          17.754976272583008,
          18.04991912841797,
          15.741436004638672,
          15.873775482177734,
          15.73476791381836,
          18.122859954833984,
          17.556488037109375,
          15.987921714782715,
          18.322778701782227,
          18.50181770324707,
          18.170303344726562,
          18.102575302124023,
          18.116914749145508,
          17.365280151367188
         ]
        },
        {
         "hoverinfo": "text",
         "hovertext": [
          "stones meadow rain thunder woman walking",
          "stones night steps sea waves",
          "horizon seagull footsteps beach parasol ship ice cream night crescent clouds suspicious",
          "horizon seagull footsteps",
          "horizon seagull footsteps beach parasol ship ice cream",
          "beach steps feet wet",
          "stones night steps sea waves crescent",
          "stones night dog horse",
          "horizon seagull footsteps beach parasol ship ice cream night moon",
          "beach steps",
          "beach steps feet wet horizon",
          "stones meadow rain thunder witch walking",
          "beach steps feet wet horizon seagull",
          "stones meadow rain thunder witch dog horse waiting",
          "horizon seagull footsteps beach parasol ship ice cream night moon suspicious",
          "stones meadow rain walking",
          null
         ],
         "marker": {
          "opacity": 0.5,
          "size": 5
         },
         "mode": "markers+text",
         "name": "2_beach_horizon_steps",
         "text": [
          "",
          "",
          "",
          "",
          "",
          "",
          "",
          "",
          "",
          "",
          "",
          "",
          "",
          "",
          "",
          "",
          "2_beach_horizon_steps"
         ],
         "textfont": {
          "size": 12
         },
         "type": "scattergl",
         "x": [
          8.529196739196777,
          8.825348854064941,
          8.780736923217773,
          8.986262321472168,
          8.544020652770996,
          9.0280179977417,
          8.80940055847168,
          8.541173934936523,
          8.44779109954834,
          8.98501968383789,
          9.28469467163086,
          8.27731990814209,
          9.202239990234375,
          8.196961402893066,
          8.579672813415527,
          8.37755298614502,
          8.712212562561035
         ],
         "y": [
          3.9430482387542725,
          4.8536176681518555,
          6.19328498840332,
          6.0731120109558105,
          5.980840682983398,
          5.533921241760254,
          5.102415084838867,
          4.205757141113281,
          6.104701519012451,
          5.257507801055908,
          5.426614761352539,
          3.7681026458740234,
          5.8160881996154785,
          3.6971242427825928,
          6.012457370758057,
          3.841524600982666,
          5.113131999969482
         ]
        }
       ],
       "layout": {
        "annotations": [
         {
          "showarrow": false,
          "text": "D1",
          "x": -8.760848093032838,
          "y": 12.2847929418087,
          "yshift": 10
         },
         {
          "showarrow": false,
          "text": "D2",
          "x": 0.958275389671325,
          "xshift": 10,
          "y": 21.427030277252197
         }
        ],
        "height": 750,
        "shapes": [
         {
          "line": {
           "color": "#CFD8DC",
           "width": 2
          },
          "type": "line",
          "x0": 0.958275389671325,
          "x1": 0.958275389671325,
          "y0": 3.142555606365204,
          "y1": 21.427030277252197
         },
         {
          "line": {
           "color": "#9E9E9E",
           "width": 2
          },
          "type": "line",
          "x0": -8.760848093032838,
          "x1": 10.677398872375488,
          "y0": 12.2847929418087,
          "y1": 12.2847929418087
         }
        ],
        "template": {
         "data": {
          "bar": [
           {
            "error_x": {
             "color": "rgb(36,36,36)"
            },
            "error_y": {
             "color": "rgb(36,36,36)"
            },
            "marker": {
             "line": {
              "color": "white",
              "width": 0.5
             },
             "pattern": {
              "fillmode": "overlay",
              "size": 10,
              "solidity": 0.2
             }
            },
            "type": "bar"
           }
          ],
          "barpolar": [
           {
            "marker": {
             "line": {
              "color": "white",
              "width": 0.5
             },
             "pattern": {
              "fillmode": "overlay",
              "size": 10,
              "solidity": 0.2
             }
            },
            "type": "barpolar"
           }
          ],
          "carpet": [
           {
            "aaxis": {
             "endlinecolor": "rgb(36,36,36)",
             "gridcolor": "white",
             "linecolor": "white",
             "minorgridcolor": "white",
             "startlinecolor": "rgb(36,36,36)"
            },
            "baxis": {
             "endlinecolor": "rgb(36,36,36)",
             "gridcolor": "white",
             "linecolor": "white",
             "minorgridcolor": "white",
             "startlinecolor": "rgb(36,36,36)"
            },
            "type": "carpet"
           }
          ],
          "choropleth": [
           {
            "colorbar": {
             "outlinewidth": 1,
             "tickcolor": "rgb(36,36,36)",
             "ticks": "outside"
            },
            "type": "choropleth"
           }
          ],
          "contour": [
           {
            "colorbar": {
             "outlinewidth": 1,
             "tickcolor": "rgb(36,36,36)",
             "ticks": "outside"
            },
            "colorscale": [
             [
              0,
              "#440154"
             ],
             [
              0.1111111111111111,
              "#482878"
             ],
             [
              0.2222222222222222,
              "#3e4989"
             ],
             [
              0.3333333333333333,
              "#31688e"
             ],
             [
              0.4444444444444444,
              "#26828e"
             ],
             [
              0.5555555555555556,
              "#1f9e89"
             ],
             [
              0.6666666666666666,
              "#35b779"
             ],
             [
              0.7777777777777778,
              "#6ece58"
             ],
             [
              0.8888888888888888,
              "#b5de2b"
             ],
             [
              1,
              "#fde725"
             ]
            ],
            "type": "contour"
           }
          ],
          "contourcarpet": [
           {
            "colorbar": {
             "outlinewidth": 1,
             "tickcolor": "rgb(36,36,36)",
             "ticks": "outside"
            },
            "type": "contourcarpet"
           }
          ],
          "heatmap": [
           {
            "colorbar": {
             "outlinewidth": 1,
             "tickcolor": "rgb(36,36,36)",
             "ticks": "outside"
            },
            "colorscale": [
             [
              0,
              "#440154"
             ],
             [
              0.1111111111111111,
              "#482878"
             ],
             [
              0.2222222222222222,
              "#3e4989"
             ],
             [
              0.3333333333333333,
              "#31688e"
             ],
             [
              0.4444444444444444,
              "#26828e"
             ],
             [
              0.5555555555555556,
              "#1f9e89"
             ],
             [
              0.6666666666666666,
              "#35b779"
             ],
             [
              0.7777777777777778,
              "#6ece58"
             ],
             [
              0.8888888888888888,
              "#b5de2b"
             ],
             [
              1,
              "#fde725"
             ]
            ],
            "type": "heatmap"
           }
          ],
          "heatmapgl": [
           {
            "colorbar": {
             "outlinewidth": 1,
             "tickcolor": "rgb(36,36,36)",
             "ticks": "outside"
            },
            "colorscale": [
             [
              0,
              "#440154"
             ],
             [
              0.1111111111111111,
              "#482878"
             ],
             [
              0.2222222222222222,
              "#3e4989"
             ],
             [
              0.3333333333333333,
              "#31688e"
             ],
             [
              0.4444444444444444,
              "#26828e"
             ],
             [
              0.5555555555555556,
              "#1f9e89"
             ],
             [
              0.6666666666666666,
              "#35b779"
             ],
             [
              0.7777777777777778,
              "#6ece58"
             ],
             [
              0.8888888888888888,
              "#b5de2b"
             ],
             [
              1,
              "#fde725"
             ]
            ],
            "type": "heatmapgl"
           }
          ],
          "histogram": [
           {
            "marker": {
             "line": {
              "color": "white",
              "width": 0.6
             }
            },
            "type": "histogram"
           }
          ],
          "histogram2d": [
           {
            "colorbar": {
             "outlinewidth": 1,
             "tickcolor": "rgb(36,36,36)",
             "ticks": "outside"
            },
            "colorscale": [
             [
              0,
              "#440154"
             ],
             [
              0.1111111111111111,
              "#482878"
             ],
             [
              0.2222222222222222,
              "#3e4989"
             ],
             [
              0.3333333333333333,
              "#31688e"
             ],
             [
              0.4444444444444444,
              "#26828e"
             ],
             [
              0.5555555555555556,
              "#1f9e89"
             ],
             [
              0.6666666666666666,
              "#35b779"
             ],
             [
              0.7777777777777778,
              "#6ece58"
             ],
             [
              0.8888888888888888,
              "#b5de2b"
             ],
             [
              1,
              "#fde725"
             ]
            ],
            "type": "histogram2d"
           }
          ],
          "histogram2dcontour": [
           {
            "colorbar": {
             "outlinewidth": 1,
             "tickcolor": "rgb(36,36,36)",
             "ticks": "outside"
            },
            "colorscale": [
             [
              0,
              "#440154"
             ],
             [
              0.1111111111111111,
              "#482878"
             ],
             [
              0.2222222222222222,
              "#3e4989"
             ],
             [
              0.3333333333333333,
              "#31688e"
             ],
             [
              0.4444444444444444,
              "#26828e"
             ],
             [
              0.5555555555555556,
              "#1f9e89"
             ],
             [
              0.6666666666666666,
              "#35b779"
             ],
             [
              0.7777777777777778,
              "#6ece58"
             ],
             [
              0.8888888888888888,
              "#b5de2b"
             ],
             [
              1,
              "#fde725"
             ]
            ],
            "type": "histogram2dcontour"
           }
          ],
          "mesh3d": [
           {
            "colorbar": {
             "outlinewidth": 1,
             "tickcolor": "rgb(36,36,36)",
             "ticks": "outside"
            },
            "type": "mesh3d"
           }
          ],
          "parcoords": [
           {
            "line": {
             "colorbar": {
              "outlinewidth": 1,
              "tickcolor": "rgb(36,36,36)",
              "ticks": "outside"
             }
            },
            "type": "parcoords"
           }
          ],
          "pie": [
           {
            "automargin": true,
            "type": "pie"
           }
          ],
          "scatter": [
           {
            "fillpattern": {
             "fillmode": "overlay",
             "size": 10,
             "solidity": 0.2
            },
            "type": "scatter"
           }
          ],
          "scatter3d": [
           {
            "line": {
             "colorbar": {
              "outlinewidth": 1,
              "tickcolor": "rgb(36,36,36)",
              "ticks": "outside"
             }
            },
            "marker": {
             "colorbar": {
              "outlinewidth": 1,
              "tickcolor": "rgb(36,36,36)",
              "ticks": "outside"
             }
            },
            "type": "scatter3d"
           }
          ],
          "scattercarpet": [
           {
            "marker": {
             "colorbar": {
              "outlinewidth": 1,
              "tickcolor": "rgb(36,36,36)",
              "ticks": "outside"
             }
            },
            "type": "scattercarpet"
           }
          ],
          "scattergeo": [
           {
            "marker": {
             "colorbar": {
              "outlinewidth": 1,
              "tickcolor": "rgb(36,36,36)",
              "ticks": "outside"
             }
            },
            "type": "scattergeo"
           }
          ],
          "scattergl": [
           {
            "marker": {
             "colorbar": {
              "outlinewidth": 1,
              "tickcolor": "rgb(36,36,36)",
              "ticks": "outside"
             }
            },
            "type": "scattergl"
           }
          ],
          "scattermapbox": [
           {
            "marker": {
             "colorbar": {
              "outlinewidth": 1,
              "tickcolor": "rgb(36,36,36)",
              "ticks": "outside"
             }
            },
            "type": "scattermapbox"
           }
          ],
          "scatterpolar": [
           {
            "marker": {
             "colorbar": {
              "outlinewidth": 1,
              "tickcolor": "rgb(36,36,36)",
              "ticks": "outside"
             }
            },
            "type": "scatterpolar"
           }
          ],
          "scatterpolargl": [
           {
            "marker": {
             "colorbar": {
              "outlinewidth": 1,
              "tickcolor": "rgb(36,36,36)",
              "ticks": "outside"
             }
            },
            "type": "scatterpolargl"
           }
          ],
          "scatterternary": [
           {
            "marker": {
             "colorbar": {
              "outlinewidth": 1,
              "tickcolor": "rgb(36,36,36)",
              "ticks": "outside"
             }
            },
            "type": "scatterternary"
           }
          ],
          "surface": [
           {
            "colorbar": {
             "outlinewidth": 1,
             "tickcolor": "rgb(36,36,36)",
             "ticks": "outside"
            },
            "colorscale": [
             [
              0,
              "#440154"
             ],
             [
              0.1111111111111111,
              "#482878"
             ],
             [
              0.2222222222222222,
              "#3e4989"
             ],
             [
              0.3333333333333333,
              "#31688e"
             ],
             [
              0.4444444444444444,
              "#26828e"
             ],
             [
              0.5555555555555556,
              "#1f9e89"
             ],
             [
              0.6666666666666666,
              "#35b779"
             ],
             [
              0.7777777777777778,
              "#6ece58"
             ],
             [
              0.8888888888888888,
              "#b5de2b"
             ],
             [
              1,
              "#fde725"
             ]
            ],
            "type": "surface"
           }
          ],
          "table": [
           {
            "cells": {
             "fill": {
              "color": "rgb(237,237,237)"
             },
             "line": {
              "color": "white"
             }
            },
            "header": {
             "fill": {
              "color": "rgb(217,217,217)"
             },
             "line": {
              "color": "white"
             }
            },
            "type": "table"
           }
          ]
         },
         "layout": {
          "annotationdefaults": {
           "arrowhead": 0,
           "arrowwidth": 1
          },
          "autotypenumbers": "strict",
          "coloraxis": {
           "colorbar": {
            "outlinewidth": 1,
            "tickcolor": "rgb(36,36,36)",
            "ticks": "outside"
           }
          },
          "colorscale": {
           "diverging": [
            [
             0,
             "rgb(103,0,31)"
            ],
            [
             0.1,
             "rgb(178,24,43)"
            ],
            [
             0.2,
             "rgb(214,96,77)"
            ],
            [
             0.3,
             "rgb(244,165,130)"
            ],
            [
             0.4,
             "rgb(253,219,199)"
            ],
            [
             0.5,
             "rgb(247,247,247)"
            ],
            [
             0.6,
             "rgb(209,229,240)"
            ],
            [
             0.7,
             "rgb(146,197,222)"
            ],
            [
             0.8,
             "rgb(67,147,195)"
            ],
            [
             0.9,
             "rgb(33,102,172)"
            ],
            [
             1,
             "rgb(5,48,97)"
            ]
           ],
           "sequential": [
            [
             0,
             "#440154"
            ],
            [
             0.1111111111111111,
             "#482878"
            ],
            [
             0.2222222222222222,
             "#3e4989"
            ],
            [
             0.3333333333333333,
             "#31688e"
            ],
            [
             0.4444444444444444,
             "#26828e"
            ],
            [
             0.5555555555555556,
             "#1f9e89"
            ],
            [
             0.6666666666666666,
             "#35b779"
            ],
            [
             0.7777777777777778,
             "#6ece58"
            ],
            [
             0.8888888888888888,
             "#b5de2b"
            ],
            [
             1,
             "#fde725"
            ]
           ],
           "sequentialminus": [
            [
             0,
             "#440154"
            ],
            [
             0.1111111111111111,
             "#482878"
            ],
            [
             0.2222222222222222,
             "#3e4989"
            ],
            [
             0.3333333333333333,
             "#31688e"
            ],
            [
             0.4444444444444444,
             "#26828e"
            ],
            [
             0.5555555555555556,
             "#1f9e89"
            ],
            [
             0.6666666666666666,
             "#35b779"
            ],
            [
             0.7777777777777778,
             "#6ece58"
            ],
            [
             0.8888888888888888,
             "#b5de2b"
            ],
            [
             1,
             "#fde725"
            ]
           ]
          },
          "colorway": [
           "#1F77B4",
           "#FF7F0E",
           "#2CA02C",
           "#D62728",
           "#9467BD",
           "#8C564B",
           "#E377C2",
           "#7F7F7F",
           "#BCBD22",
           "#17BECF"
          ],
          "font": {
           "color": "rgb(36,36,36)"
          },
          "geo": {
           "bgcolor": "white",
           "lakecolor": "white",
           "landcolor": "white",
           "showlakes": true,
           "showland": true,
           "subunitcolor": "white"
          },
          "hoverlabel": {
           "align": "left"
          },
          "hovermode": "closest",
          "mapbox": {
           "style": "light"
          },
          "paper_bgcolor": "white",
          "plot_bgcolor": "white",
          "polar": {
           "angularaxis": {
            "gridcolor": "rgb(232,232,232)",
            "linecolor": "rgb(36,36,36)",
            "showgrid": false,
            "showline": true,
            "ticks": "outside"
           },
           "bgcolor": "white",
           "radialaxis": {
            "gridcolor": "rgb(232,232,232)",
            "linecolor": "rgb(36,36,36)",
            "showgrid": false,
            "showline": true,
            "ticks": "outside"
           }
          },
          "scene": {
           "xaxis": {
            "backgroundcolor": "white",
            "gridcolor": "rgb(232,232,232)",
            "gridwidth": 2,
            "linecolor": "rgb(36,36,36)",
            "showbackground": true,
            "showgrid": false,
            "showline": true,
            "ticks": "outside",
            "zeroline": false,
            "zerolinecolor": "rgb(36,36,36)"
           },
           "yaxis": {
            "backgroundcolor": "white",
            "gridcolor": "rgb(232,232,232)",
            "gridwidth": 2,
            "linecolor": "rgb(36,36,36)",
            "showbackground": true,
            "showgrid": false,
            "showline": true,
            "ticks": "outside",
            "zeroline": false,
            "zerolinecolor": "rgb(36,36,36)"
           },
           "zaxis": {
            "backgroundcolor": "white",
            "gridcolor": "rgb(232,232,232)",
            "gridwidth": 2,
            "linecolor": "rgb(36,36,36)",
            "showbackground": true,
            "showgrid": false,
            "showline": true,
            "ticks": "outside",
            "zeroline": false,
            "zerolinecolor": "rgb(36,36,36)"
           }
          },
          "shapedefaults": {
           "fillcolor": "black",
           "line": {
            "width": 0
           },
           "opacity": 0.3
          },
          "ternary": {
           "aaxis": {
            "gridcolor": "rgb(232,232,232)",
            "linecolor": "rgb(36,36,36)",
            "showgrid": false,
            "showline": true,
            "ticks": "outside"
           },
           "baxis": {
            "gridcolor": "rgb(232,232,232)",
            "linecolor": "rgb(36,36,36)",
            "showgrid": false,
            "showline": true,
            "ticks": "outside"
           },
           "bgcolor": "white",
           "caxis": {
            "gridcolor": "rgb(232,232,232)",
            "linecolor": "rgb(36,36,36)",
            "showgrid": false,
            "showline": true,
            "ticks": "outside"
           }
          },
          "title": {
           "x": 0.05
          },
          "xaxis": {
           "automargin": true,
           "gridcolor": "rgb(232,232,232)",
           "linecolor": "rgb(36,36,36)",
           "showgrid": false,
           "showline": true,
           "ticks": "outside",
           "title": {
            "standoff": 15
           },
           "zeroline": false,
           "zerolinecolor": "rgb(36,36,36)"
          },
          "yaxis": {
           "automargin": true,
           "gridcolor": "rgb(232,232,232)",
           "linecolor": "rgb(36,36,36)",
           "showgrid": false,
           "showline": true,
           "ticks": "outside",
           "title": {
            "standoff": 15
           },
           "zeroline": false,
           "zerolinecolor": "rgb(36,36,36)"
          }
         }
        },
        "title": {
         "font": {
          "color": "Black",
          "size": 22
         },
         "text": "<b>Documents and Topics</b>",
         "x": 0.5,
         "xanchor": "center",
         "yanchor": "top"
        },
        "width": 1200,
        "xaxis": {
         "autorange": true,
         "range": [
          -8.9963952287937,
          10.699831932924141
         ],
         "visible": false
        },
        "yaxis": {
         "autorange": true,
         "range": [
          2.63693369049689,
          21.745506490587033
         ],
         "visible": false
        }
       }
      },
      "image/png": "[encoded data removed]",
      "text/html": [
       "<div>                            <div id=\"c7b1627d-376f-4b6f-8afb-9a19a041903d\" class=\"plotly-graph-div\" style=\"height:750px; width:1200px;\"></div>            <script type=\"text/javascript\">                require([\"plotly\"], function(Plotly) {                    window.PLOTLYENV=window.PLOTLYENV || {};                                    if (document.getElementById(\"c7b1627d-376f-4b6f-8afb-9a19a041903d\")) {                    Plotly.newPlot(                        \"c7b1627d-376f-4b6f-8afb-9a19a041903d\",                        [{\"hoverinfo\":\"text\",\"hovertext\":[null],\"marker\":{\"color\":\"#CFD8DC\",\"opacity\":0.5,\"size\":5},\"mode\":\"markers+text\",\"name\":\"other\",\"showlegend\":false,\"x\":[null],\"y\":[null],\"type\":\"scattergl\"},{\"hoverinfo\":\"text\",\"hovertext\":[\"one man with cowboy boots walking on rubble next to river, nature around, hyper realistic style\",\"angle from the side, a man wearing trekking pants, a tshirt and hiking shoes with a backpack on walking on a soil path through a big field of higher grass with red and pink flowers in it, sun is shining shelter out of wood in the background\",\"one man with cowboy boots walking on rubble at night, nature around, hyper realistic style\",\"a man photographed from the side, wearing trekking pants, a tshirt and hiking shoes with a backpack on walking on a soil path through a big field of higher grass with flowers in it, sun is shining, shelter out of wood in the background, big mountains blurry in the background, a bird flying through the blue sky\",\"group on people walking on train tracks at night in nature\",\"two persons walking on train tracks at night, moon is shining\",\"in front a man wearing trekking pants, a tshirt and hiking shoes with a backpack on walking on a soil path through a big field of higher grass with little flowers in it, sun is shining, blue sky with several little clouds, big mountains and trees blurry in the background, a bird flying through the sky, shelter out of wood in the background\",\"close up feet, two persons walking on train tracks on warm summer night, moon is shining, green nature around, late 19th century America, in the style on Caspar David Friedrich\",\"one man with cowboy boots walking on rubble at night, nature around\",\"one man with cowboy boots walking on rubble next to train tracks in nature at night, nature around, hyper realistic style\",\"woman hiking at night through nature over rubble, realistic watercolour style, closeup boots\",\"group on people walking on train tracks at night\",\"one man with cowboy boots walking on rubble next to river at night, nature around, hyper realistic style\",\"two persons walking on train tracks at night, moon is shining, green nature around, late 19th century America, classic oil painting style\",\"one man with cowboy boots walking on rubble next to train tracksuit night, nature around, hyper realistic style\",\"two persons walking on train tracks at night, moon is shining, green nature around, late 19th century America, realistic style, detailed\",\"woman hiking at night through nature, realistic watercolour style\",\"close up feet, two persons walking on train tracks on warm summer night, moon is shining, green nature around, late 19th century America, realistic style, detailed\",\"one man with cowboy boots walking on rubble next to train tracks, nature around, hyper realistic style\",\"a man photographed from the side, wearing trekking pants, a tshirt and hiking shoes with a backpack on walking on a soil path through a big field of higher grass with flowers in it, sun is shining, shelter out of wood in the background\",\"woman hiking at night through nature, realistic watercolour style, closeup boots\",null],\"marker\":{\"opacity\":0.5,\"size\":5},\"mode\":\"markers+text\",\"name\":\"0_style_night_walking\",\"text\":[\"\",\"\",\"\",\"\",\"\",\"\",\"\",\"\",\"\",\"\",\"\",\"\",\"\",\"\",\"\",\"\",\"\",\"\",\"\",\"\",\"\",\"0_style_night_walking\"],\"textfont\":{\"size\":12},\"x\":[-4.1833696365356445,-4.69577169418335,-4.308264255523682,-4.507437229156494,-7.081822872161865,-7.543013572692871,-4.4311089515686035,-7.618128776550293,-4.003241062164307,-4.471215724945068,-4.785272121429443,-7.1810994148254395,-4.2745513916015625,-7.571025848388672,-4.344638347625732,-7.569132328033447,-5.0093889236450195,-7.3934783935546875,-3.9489197731018066,-4.688387393951416,-4.725942134857178,-5.444533824920654],\"y\":[5.836543083190918,5.022547721862793,5.944084167480469,4.704446792602539,7.4119744300842285,7.035129070281982,4.784872531890869,7.201760292053223,5.58644962310791,5.6047892570495605,5.9845051765441895,7.298818111419678,5.702598571777344,7.131033897399902,5.989071369171143,7.31078577041626,5.95973014831543,7.0138468742370605,6.028331279754639,4.935438632965088,6.109838008880615,6.123647212982178],\"type\":\"scattergl\"},{\"hoverinfo\":\"text\",\"hovertext\":[\"there is a hill. insects and bugs are buzzing, a tall strong curious young adult man strolling under the giant trees. The sand and the stones on the ground. the environment is dark and mysterious, only some holy light beams pass through the leaves. photorealistic. a bit foggy. calm. color is purple. surreal. it sounds like there is no one here.\",\"there is a hill. insects and bugs are buzzing, walking under the giant trees. The sand and the stones on the ground. the nature with a tall strong young adult man. the environment is dark and mysterious, only some light beams pass through the leaves. realistic. a bit foggy. calm.\",\"insects are buzzing, walking under the trees. The sand and the stones on the ground. the nature with a tall man. the environment is dark, only some light beams pass through the leaves.\",\"insects are buzzing, walking under the trees. The sand and the stones on the ground. the nature with a tall strong young adult man. the environment is dark, only some light beams pass through the leaves. photoristic. a bit foggy.\",\"insects and bugs are buzzing, walking under the giant trees. The sand and the stones on the ground. the nature with a tall strong young adult man. the environment is dark and mysterious, only some light beams pass through the leaves. realistic. a bit foggy.\",\"insects are buzzing, walking under the trees. The sand and the stones on the ground. the nature with a tall man. the environment is dark, only some light beams pass through the leaves. photoristic. a bit foggy.\",\"there is a hill. insects and bugs are buzzing, a tall strong young adult man strolling under the giant trees. The sand and the stones on the ground. the environment is dark and mysterious, only some light beams pass through the leaves. realistic. a bit foggy. calm. color is purple. surreal.\",\"there is a hill. insects and bugs are buzzing, a tall strong curious young adult man strolling under the giant trees. The sand and the stones on the ground. the environment is dark and mysterious, only some light beams pass through the leaves. realistic. a bit foggy. calm. color is purple. surreal. it sounds like there is no one here.\",\"there is a hill. insects and bugs are buzzing, walking under the giant trees. The sand and the stones on the ground. the nature with a tall strong young adult man. the environment is dark and mysterious, only some light beams pass through the leaves. realistic. a bit foggy. calm. color is purple.\",\"insects and bugs are buzzing, walking under the trees. The sand and the stones on the ground. the nature with a tall strong young adult man. the environment is dark, only some light beams pass through the leaves. realistic. a bit foggy.\",\"insects and bugs are buzzing, walking under the giant trees. The sand and the stones on the ground. the nature with a tall strong young adult man. the environment is dark and mysterious, only some light beams pass through the leaves. realistic. a bit foggy. calm.\",\"there is a hill. insects and bugs are buzzing, walking under the giant trees. The sand and the stones on the ground. the nature with a tall strong young adult man. the environment is dark and mysterious, only some light beams pass through the leaves. realistic. a bit foggy. calm. color is purple. surreal.\",\"insects are buzzing, walking under the trees. The sand and the stones on the ground. the nature with a tall man. the environment is dark, only some light beams pass through the leaves. photoristic.\",\"insects are buzzing, walking under the trees. The sand and the stones on the ground. the nature with a tall man. the environment is dimmed, not very bright.\",\"insects are buzzing, walking under the trees. The sand and the stones on the ground. the nature with a tall young adult man. the environment is dark, only some light beams pass through the leaves. photoristic. a bit foggy.\",\"insects and bugs are buzzing, walking under the trees. The sand and the stones on the ground. the nature with a tall strong young adult man. the environment is dark and mysterious, only some light beams pass through the leaves. realistic. a bit foggy.\",\"insects are buzzing, walking under the trees. The sand and the stones on the ground. the nature with a tall young adult man. the environment is dark, only some light beams pass through the leaves. photoristic. a bit foggy.\",null],\"marker\":{\"opacity\":0.5,\"size\":5},\"mode\":\"markers+text\",\"name\":\"1_insects_environment_tall\",\"text\":[\"\",\"\",\"\",\"\",\"\",\"\",\"\",\"\",\"\",\"\",\"\",\"\",\"\",\"\",\"\",\"\",\"\",\"1_insects_environment_tall\"],\"textfont\":{\"size\":12},\"x\":[5.419829368591309,4.909139633178711,4.079553127288818,3.739450693130493,4.5332255363464355,3.7598729133605957,5.097835063934326,5.282297611236572,4.968385219573975,4.3319597244262695,4.463685512542725,5.05548620223999,3.764035701751709,4.061982154846191,3.882371664047241,4.387096405029297,3.9152519702911377,4.450085639953613],\"y\":[16.027259826660156,16.179067611694336,18.632200241088867,18.33469009399414,17.754976272583008,18.04991912841797,15.741436004638672,15.873775482177734,15.73476791381836,18.122859954833984,17.556488037109375,15.987921714782715,18.322778701782227,18.50181770324707,18.170303344726562,18.102575302124023,18.116914749145508,17.365280151367188],\"type\":\"scattergl\"},{\"hoverinfo\":\"text\",\"hovertext\":[\"stones meadow rain thunder woman walking\",\"stones night steps sea waves\",\"horizon seagull footsteps beach parasol ship ice cream night crescent clouds suspicious\",\"horizon seagull footsteps\",\"horizon seagull footsteps beach parasol ship ice cream\",\"beach steps feet wet\",\"stones night steps sea waves crescent\",\"stones night dog horse\",\"horizon seagull footsteps beach parasol ship ice cream night moon\",\"beach steps\",\"beach steps feet wet horizon\",\"stones meadow rain thunder witch walking\",\"beach steps feet wet horizon seagull\",\"stones meadow rain thunder witch dog horse waiting\",\"horizon seagull footsteps beach parasol ship ice cream night moon suspicious\",\"stones meadow rain walking\",null],\"marker\":{\"opacity\":0.5,\"size\":5},\"mode\":\"markers+text\",\"name\":\"2_beach_horizon_steps\",\"text\":[\"\",\"\",\"\",\"\",\"\",\"\",\"\",\"\",\"\",\"\",\"\",\"\",\"\",\"\",\"\",\"\",\"2_beach_horizon_steps\"],\"textfont\":{\"size\":12},\"x\":[8.529196739196777,8.825348854064941,8.780736923217773,8.986262321472168,8.544020652770996,9.0280179977417,8.80940055847168,8.541173934936523,8.44779109954834,8.98501968383789,9.28469467163086,8.27731990814209,9.202239990234375,8.196961402893066,8.579672813415527,8.37755298614502,8.712212562561035],\"y\":[3.9430482387542725,4.8536176681518555,6.19328498840332,6.0731120109558105,5.980840682983398,5.533921241760254,5.102415084838867,4.205757141113281,6.104701519012451,5.257507801055908,5.426614761352539,3.7681026458740234,5.8160881996154785,3.6971242427825928,6.012457370758057,3.841524600982666,5.113131999969482],\"type\":\"scattergl\"}],                        {\"template\":{\"data\":{\"barpolar\":[{\"marker\":{\"line\":{\"color\":\"white\",\"width\":0.5},\"pattern\":{\"fillmode\":\"overlay\",\"size\":10,\"solidity\":0.2}},\"type\":\"barpolar\"}],\"bar\":[{\"error_x\":{\"color\":\"rgb(36,36,36)\"},\"error_y\":{\"color\":\"rgb(36,36,36)\"},\"marker\":{\"line\":{\"color\":\"white\",\"width\":0.5},\"pattern\":{\"fillmode\":\"overlay\",\"size\":10,\"solidity\":0.2}},\"type\":\"bar\"}],\"carpet\":[{\"aaxis\":{\"endlinecolor\":\"rgb(36,36,36)\",\"gridcolor\":\"white\",\"linecolor\":\"white\",\"minorgridcolor\":\"white\",\"startlinecolor\":\"rgb(36,36,36)\"},\"baxis\":{\"endlinecolor\":\"rgb(36,36,36)\",\"gridcolor\":\"white\",\"linecolor\":\"white\",\"minorgridcolor\":\"white\",\"startlinecolor\":\"rgb(36,36,36)\"},\"type\":\"carpet\"}],\"choropleth\":[{\"colorbar\":{\"outlinewidth\":1,\"tickcolor\":\"rgb(36,36,36)\",\"ticks\":\"outside\"},\"type\":\"choropleth\"}],\"contourcarpet\":[{\"colorbar\":{\"outlinewidth\":1,\"tickcolor\":\"rgb(36,36,36)\",\"ticks\":\"outside\"},\"type\":\"contourcarpet\"}],\"contour\":[{\"colorbar\":{\"outlinewidth\":1,\"tickcolor\":\"rgb(36,36,36)\",\"ticks\":\"outside\"},\"colorscale\":[[0.0,\"#440154\"],[0.1111111111111111,\"#482878\"],[0.2222222222222222,\"#3e4989\"],[0.3333333333333333,\"#31688e\"],[0.4444444444444444,\"#26828e\"],[0.5555555555555556,\"#1f9e89\"],[0.6666666666666666,\"#35b779\"],[0.7777777777777778,\"#6ece58\"],[0.8888888888888888,\"#b5de2b\"],[1.0,\"#fde725\"]],\"type\":\"contour\"}],\"heatmapgl\":[{\"colorbar\":{\"outlinewidth\":1,\"tickcolor\":\"rgb(36,36,36)\",\"ticks\":\"outside\"},\"colorscale\":[[0.0,\"#440154\"],[0.1111111111111111,\"#482878\"],[0.2222222222222222,\"#3e4989\"],[0.3333333333333333,\"#31688e\"],[0.4444444444444444,\"#26828e\"],[0.5555555555555556,\"#1f9e89\"],[0.6666666666666666,\"#35b779\"],[0.7777777777777778,\"#6ece58\"],[0.8888888888888888,\"#b5de2b\"],[1.0,\"#fde725\"]],\"type\":\"heatmapgl\"}],\"heatmap\":[{\"colorbar\":{\"outlinewidth\":1,\"tickcolor\":\"rgb(36,36,36)\",\"ticks\":\"outside\"},\"colorscale\":[[0.0,\"#440154\"],[0.1111111111111111,\"#482878\"],[0.2222222222222222,\"#3e4989\"],[0.3333333333333333,\"#31688e\"],[0.4444444444444444,\"#26828e\"],[0.5555555555555556,\"#1f9e89\"],[0.6666666666666666,\"#35b779\"],[0.7777777777777778,\"#6ece58\"],[0.8888888888888888,\"#b5de2b\"],[1.0,\"#fde725\"]],\"type\":\"heatmap\"}],\"histogram2dcontour\":[{\"colorbar\":{\"outlinewidth\":1,\"tickcolor\":\"rgb(36,36,36)\",\"ticks\":\"outside\"},\"colorscale\":[[0.0,\"#440154\"],[0.1111111111111111,\"#482878\"],[0.2222222222222222,\"#3e4989\"],[0.3333333333333333,\"#31688e\"],[0.4444444444444444,\"#26828e\"],[0.5555555555555556,\"#1f9e89\"],[0.6666666666666666,\"#35b779\"],[0.7777777777777778,\"#6ece58\"],[0.8888888888888888,\"#b5de2b\"],[1.0,\"#fde725\"]],\"type\":\"histogram2dcontour\"}],\"histogram2d\":[{\"colorbar\":{\"outlinewidth\":1,\"tickcolor\":\"rgb(36,36,36)\",\"ticks\":\"outside\"},\"colorscale\":[[0.0,\"#440154\"],[0.1111111111111111,\"#482878\"],[0.2222222222222222,\"#3e4989\"],[0.3333333333333333,\"#31688e\"],[0.4444444444444444,\"#26828e\"],[0.5555555555555556,\"#1f9e89\"],[0.6666666666666666,\"#35b779\"],[0.7777777777777778,\"#6ece58\"],[0.8888888888888888,\"#b5de2b\"],[1.0,\"#fde725\"]],\"type\":\"histogram2d\"}],\"histogram\":[{\"marker\":{\"line\":{\"color\":\"white\",\"width\":0.6}},\"type\":\"histogram\"}],\"mesh3d\":[{\"colorbar\":{\"outlinewidth\":1,\"tickcolor\":\"rgb(36,36,36)\",\"ticks\":\"outside\"},\"type\":\"mesh3d\"}],\"parcoords\":[{\"line\":{\"colorbar\":{\"outlinewidth\":1,\"tickcolor\":\"rgb(36,36,36)\",\"ticks\":\"outside\"}},\"type\":\"parcoords\"}],\"pie\":[{\"automargin\":true,\"type\":\"pie\"}],\"scatter3d\":[{\"line\":{\"colorbar\":{\"outlinewidth\":1,\"tickcolor\":\"rgb(36,36,36)\",\"ticks\":\"outside\"}},\"marker\":{\"colorbar\":{\"outlinewidth\":1,\"tickcolor\":\"rgb(36,36,36)\",\"ticks\":\"outside\"}},\"type\":\"scatter3d\"}],\"scattercarpet\":[{\"marker\":{\"colorbar\":{\"outlinewidth\":1,\"tickcolor\":\"rgb(36,36,36)\",\"ticks\":\"outside\"}},\"type\":\"scattercarpet\"}],\"scattergeo\":[{\"marker\":{\"colorbar\":{\"outlinewidth\":1,\"tickcolor\":\"rgb(36,36,36)\",\"ticks\":\"outside\"}},\"type\":\"scattergeo\"}],\"scattergl\":[{\"marker\":{\"colorbar\":{\"outlinewidth\":1,\"tickcolor\":\"rgb(36,36,36)\",\"ticks\":\"outside\"}},\"type\":\"scattergl\"}],\"scattermapbox\":[{\"marker\":{\"colorbar\":{\"outlinewidth\":1,\"tickcolor\":\"rgb(36,36,36)\",\"ticks\":\"outside\"}},\"type\":\"scattermapbox\"}],\"scatterpolargl\":[{\"marker\":{\"colorbar\":{\"outlinewidth\":1,\"tickcolor\":\"rgb(36,36,36)\",\"ticks\":\"outside\"}},\"type\":\"scatterpolargl\"}],\"scatterpolar\":[{\"marker\":{\"colorbar\":{\"outlinewidth\":1,\"tickcolor\":\"rgb(36,36,36)\",\"ticks\":\"outside\"}},\"type\":\"scatterpolar\"}],\"scatter\":[{\"fillpattern\":{\"fillmode\":\"overlay\",\"size\":10,\"solidity\":0.2},\"type\":\"scatter\"}],\"scatterternary\":[{\"marker\":{\"colorbar\":{\"outlinewidth\":1,\"tickcolor\":\"rgb(36,36,36)\",\"ticks\":\"outside\"}},\"type\":\"scatterternary\"}],\"surface\":[{\"colorbar\":{\"outlinewidth\":1,\"tickcolor\":\"rgb(36,36,36)\",\"ticks\":\"outside\"},\"colorscale\":[[0.0,\"#440154\"],[0.1111111111111111,\"#482878\"],[0.2222222222222222,\"#3e4989\"],[0.3333333333333333,\"#31688e\"],[0.4444444444444444,\"#26828e\"],[0.5555555555555556,\"#1f9e89\"],[0.6666666666666666,\"#35b779\"],[0.7777777777777778,\"#6ece58\"],[0.8888888888888888,\"#b5de2b\"],[1.0,\"#fde725\"]],\"type\":\"surface\"}],\"table\":[{\"cells\":{\"fill\":{\"color\":\"rgb(237,237,237)\"},\"line\":{\"color\":\"white\"}},\"header\":{\"fill\":{\"color\":\"rgb(217,217,217)\"},\"line\":{\"color\":\"white\"}},\"type\":\"table\"}]},\"layout\":{\"annotationdefaults\":{\"arrowhead\":0,\"arrowwidth\":1},\"autotypenumbers\":\"strict\",\"coloraxis\":{\"colorbar\":{\"outlinewidth\":1,\"tickcolor\":\"rgb(36,36,36)\",\"ticks\":\"outside\"}},\"colorscale\":{\"diverging\":[[0.0,\"rgb(103,0,31)\"],[0.1,\"rgb(178,24,43)\"],[0.2,\"rgb(214,96,77)\"],[0.3,\"rgb(244,165,130)\"],[0.4,\"rgb(253,219,199)\"],[0.5,\"rgb(247,247,247)\"],[0.6,\"rgb(209,229,240)\"],[0.7,\"rgb(146,197,222)\"],[0.8,\"rgb(67,147,195)\"],[0.9,\"rgb(33,102,172)\"],[1.0,\"rgb(5,48,97)\"]],\"sequential\":[[0.0,\"#440154\"],[0.1111111111111111,\"#482878\"],[0.2222222222222222,\"#3e4989\"],[0.3333333333333333,\"#31688e\"],[0.4444444444444444,\"#26828e\"],[0.5555555555555556,\"#1f9e89\"],[0.6666666666666666,\"#35b779\"],[0.7777777777777778,\"#6ece58\"],[0.8888888888888888,\"#b5de2b\"],[1.0,\"#fde725\"]],\"sequentialminus\":[[0.0,\"#440154\"],[0.1111111111111111,\"#482878\"],[0.2222222222222222,\"#3e4989\"],[0.3333333333333333,\"#31688e\"],[0.4444444444444444,\"#26828e\"],[0.5555555555555556,\"#1f9e89\"],[0.6666666666666666,\"#35b779\"],[0.7777777777777778,\"#6ece58\"],[0.8888888888888888,\"#b5de2b\"],[1.0,\"#fde725\"]]},\"colorway\":[\"#1F77B4\",\"#FF7F0E\",\"#2CA02C\",\"#D62728\",\"#9467BD\",\"#8C564B\",\"#E377C2\",\"#7F7F7F\",\"#BCBD22\",\"#17BECF\"],\"font\":{\"color\":\"rgb(36,36,36)\"},\"geo\":{\"bgcolor\":\"white\",\"lakecolor\":\"white\",\"landcolor\":\"white\",\"showlakes\":true,\"showland\":true,\"subunitcolor\":\"white\"},\"hoverlabel\":{\"align\":\"left\"},\"hovermode\":\"closest\",\"mapbox\":{\"style\":\"light\"},\"paper_bgcolor\":\"white\",\"plot_bgcolor\":\"white\",\"polar\":{\"angularaxis\":{\"gridcolor\":\"rgb(232,232,232)\",\"linecolor\":\"rgb(36,36,36)\",\"showgrid\":false,\"showline\":true,\"ticks\":\"outside\"},\"bgcolor\":\"white\",\"radialaxis\":{\"gridcolor\":\"rgb(232,232,232)\",\"linecolor\":\"rgb(36,36,36)\",\"showgrid\":false,\"showline\":true,\"ticks\":\"outside\"}},\"scene\":{\"xaxis\":{\"backgroundcolor\":\"white\",\"gridcolor\":\"rgb(232,232,232)\",\"gridwidth\":2,\"linecolor\":\"rgb(36,36,36)\",\"showbackground\":true,\"showgrid\":false,\"showline\":true,\"ticks\":\"outside\",\"zeroline\":false,\"zerolinecolor\":\"rgb(36,36,36)\"},\"yaxis\":{\"backgroundcolor\":\"white\",\"gridcolor\":\"rgb(232,232,232)\",\"gridwidth\":2,\"linecolor\":\"rgb(36,36,36)\",\"showbackground\":true,\"showgrid\":false,\"showline\":true,\"ticks\":\"outside\",\"zeroline\":false,\"zerolinecolor\":\"rgb(36,36,36)\"},\"zaxis\":{\"backgroundcolor\":\"white\",\"gridcolor\":\"rgb(232,232,232)\",\"gridwidth\":2,\"linecolor\":\"rgb(36,36,36)\",\"showbackground\":true,\"showgrid\":false,\"showline\":true,\"ticks\":\"outside\",\"zeroline\":false,\"zerolinecolor\":\"rgb(36,36,36)\"}},\"shapedefaults\":{\"fillcolor\":\"black\",\"line\":{\"width\":0},\"opacity\":0.3},\"ternary\":{\"aaxis\":{\"gridcolor\":\"rgb(232,232,232)\",\"linecolor\":\"rgb(36,36,36)\",\"showgrid\":false,\"showline\":true,\"ticks\":\"outside\"},\"baxis\":{\"gridcolor\":\"rgb(232,232,232)\",\"linecolor\":\"rgb(36,36,36)\",\"showgrid\":false,\"showline\":true,\"ticks\":\"outside\"},\"bgcolor\":\"white\",\"caxis\":{\"gridcolor\":\"rgb(232,232,232)\",\"linecolor\":\"rgb(36,36,36)\",\"showgrid\":false,\"showline\":true,\"ticks\":\"outside\"}},\"title\":{\"x\":0.05},\"xaxis\":{\"automargin\":true,\"gridcolor\":\"rgb(232,232,232)\",\"linecolor\":\"rgb(36,36,36)\",\"showgrid\":false,\"showline\":true,\"ticks\":\"outside\",\"title\":{\"standoff\":15},\"zeroline\":false,\"zerolinecolor\":\"rgb(36,36,36)\"},\"yaxis\":{\"automargin\":true,\"gridcolor\":\"rgb(232,232,232)\",\"linecolor\":\"rgb(36,36,36)\",\"showgrid\":false,\"showline\":true,\"ticks\":\"outside\",\"title\":{\"standoff\":15},\"zeroline\":false,\"zerolinecolor\":\"rgb(36,36,36)\"}}},\"shapes\":[{\"line\":{\"color\":\"#CFD8DC\",\"width\":2},\"type\":\"line\",\"x0\":0.958275389671325,\"x1\":0.958275389671325,\"y0\":3.142555606365204,\"y1\":21.427030277252197},{\"line\":{\"color\":\"#9E9E9E\",\"width\":2},\"type\":\"line\",\"x0\":-8.760848093032838,\"x1\":10.677398872375488,\"y0\":12.2847929418087,\"y1\":12.2847929418087}],\"annotations\":[{\"showarrow\":false,\"text\":\"D1\",\"x\":-8.760848093032838,\"y\":12.2847929418087,\"yshift\":10},{\"showarrow\":false,\"text\":\"D2\",\"x\":0.958275389671325,\"xshift\":10,\"y\":21.427030277252197}],\"title\":{\"font\":{\"size\":22,\"color\":\"Black\"},\"text\":\"\\u003cb\\u003eDocuments and Topics\\u003c\\u002fb\\u003e\",\"x\":0.5,\"xanchor\":\"center\",\"yanchor\":\"top\"},\"width\":1200,\"height\":750,\"xaxis\":{\"visible\":false},\"yaxis\":{\"visible\":false}},                        {\"responsive\": true}                    ).then(function(){\n",
       "                            \n",
       "var gd = document.getElementById('c7b1627d-376f-4b6f-8afb-9a19a041903d');\n",
       "var x = new MutationObserver(function (mutations, observer) {{\n",
       "        var display = window.getComputedStyle(gd).display;\n",
       "        if (!display || display === 'none') {{\n",
       "            console.log([gd, 'removed!']);\n",
       "            Plotly.purge(gd);\n",
       "            observer.disconnect();\n",
       "        }}\n",
       "}});\n",
       "\n",
       "// Listen for the removal of the full notebook cells\n",
       "var notebookContainer = gd.closest('#notebook-container');\n",
       "if (notebookContainer) {{\n",
       "    x.observe(notebookContainer, {childList: true});\n",
       "}}\n",
       "\n",
       "// Listen for the clearing of the current output cell\n",
       "var outputEl = gd.closest('.output');\n",
       "if (outputEl) {{\n",
       "    x.observe(outputEl, {childList: true});\n",
       "}}\n",
       "\n",
       "                        })                };                });            </script>        </div>"
      ]
     },
     "metadata": {},
     "output_type": "display_data"
    }
   ],
   "source": [
    "topic_model.visualize_documents(docs_sound)"
   ]
  },
  {
   "cell_type": "code",
   "execution_count": 18,
   "id": "046c69b8-f786-4179-aeee-c1fececfe6bb",
   "metadata": {},
   "outputs": [
    {
     "data": {
      "text/plain": [
       "[('style', 0.13173180270513854),\n",
       " ('night', 0.12971056724250343),\n",
       " ('walking', 0.12818864102672356),\n",
       " ('nature', 0.12118868910494977),\n",
       " ('train', 0.1096119904662896),\n",
       " ('shining', 0.10166409486962603),\n",
       " ('tracks', 0.10166409486962603),\n",
       " ('boots', 0.10166409486962603),\n",
       " ('realistic', 0.09676195770951256),\n",
       " ('rubble', 0.09337314663186318)]"
      ]
     },
     "execution_count": 18,
     "metadata": {},
     "output_type": "execute_result"
    }
   ],
   "source": [
    "topic_model.get_topic(0)"
   ]
  },
  {
   "cell_type": "code",
   "execution_count": 16,
   "id": "4e9e3e84-ca58-48ad-be8d-61cb015d683d",
   "metadata": {},
   "outputs": [
    {
     "data": {
      "text/plain": [
       "[('insects', 0.11805054255272208),\n",
       " ('environment', 0.11805054255272208),\n",
       " ('tall', 0.11805054255272208),\n",
       " ('buzzing', 0.11805054255272208),\n",
       " ('ground', 0.11805054255272208),\n",
       " ('sand', 0.11805054255272208),\n",
       " ('trees', 0.11580837414760756),\n",
       " ('beams', 0.11335245557071533),\n",
       " ('leaves', 0.11335245557071533),\n",
       " ('light', 0.11335245557071533)]"
      ]
     },
     "execution_count": 16,
     "metadata": {},
     "output_type": "execute_result"
    }
   ],
   "source": [
    "topic_model.get_topic(1)"
   ]
  },
  {
   "cell_type": "code",
   "execution_count": 17,
   "id": "783300d4-a002-4288-8c9e-c7eef815e564",
   "metadata": {},
   "outputs": [
    {
     "data": {
      "text/plain": [
       "[('beach', 0.2838543657608641),\n",
       " ('horizon', 0.25746751499924175),\n",
       " ('steps', 0.2297184837893457),\n",
       " ('seagull', 0.2297184837893457),\n",
       " ('footsteps', 0.20036665926162356),\n",
       " ('stones', 0.17538681558935154),\n",
       " ('ship', 0.1690733498107272),\n",
       " ('meadow', 0.1690733498107272),\n",
       " ('ice', 0.1690733498107272),\n",
       " ('parasol', 0.1690733498107272)]"
      ]
     },
     "execution_count": 17,
     "metadata": {},
     "output_type": "execute_result"
    }
   ],
   "source": [
    "topic_model.get_topic(2)"
   ]
  },
  {
   "cell_type": "code",
   "execution_count": 20,
   "id": "9ffa4977-b48a-45bf-a5dd-aa301d04991c",
   "metadata": {},
   "outputs": [
    {
     "data": {
      "text/html": [
       "<div>\n",
       "<style scoped>\n",
       "    .dataframe tbody tr th:only-of-type {\n",
       "        vertical-align: middle;\n",
       "    }\n",
       "\n",
       "    .dataframe tbody tr th {\n",
       "        vertical-align: top;\n",
       "    }\n",
       "\n",
       "    .dataframe thead th {\n",
       "        text-align: right;\n",
       "    }\n",
       "</style>\n",
       "<table border=\"1\" class=\"dataframe\">\n",
       "  <thead>\n",
       "    <tr style=\"text-align: right;\">\n",
       "      <th></th>\n",
       "      <th>Document</th>\n",
       "      <th>Topic</th>\n",
       "      <th>Name</th>\n",
       "      <th>Representation</th>\n",
       "      <th>Representative_Docs</th>\n",
       "      <th>Top_n_words</th>\n",
       "      <th>Probability</th>\n",
       "      <th>Representative_document</th>\n",
       "    </tr>\n",
       "  </thead>\n",
       "  <tbody>\n",
       "    <tr>\n",
       "      <th>0</th>\n",
       "      <td>insects are buzzing, walking under the trees. ...</td>\n",
       "      <td>1</td>\n",
       "      <td>1_insects_environment_tall_buzzing</td>\n",
       "      <td>[insects, environment, tall, buzzing, ground, ...</td>\n",
       "      <td>[there is a hill. insects and bugs are buzzing...</td>\n",
       "      <td>insects - environment - tall - buzzing - groun...</td>\n",
       "      <td>1.000000</td>\n",
       "      <td>False</td>\n",
       "    </tr>\n",
       "    <tr>\n",
       "      <th>1</th>\n",
       "      <td>insects are buzzing, walking under the trees. ...</td>\n",
       "      <td>1</td>\n",
       "      <td>1_insects_environment_tall_buzzing</td>\n",
       "      <td>[insects, environment, tall, buzzing, ground, ...</td>\n",
       "      <td>[there is a hill. insects and bugs are buzzing...</td>\n",
       "      <td>insects - environment - tall - buzzing - groun...</td>\n",
       "      <td>1.000000</td>\n",
       "      <td>False</td>\n",
       "    </tr>\n",
       "    <tr>\n",
       "      <th>2</th>\n",
       "      <td>insects are buzzing, walking under the trees. ...</td>\n",
       "      <td>1</td>\n",
       "      <td>1_insects_environment_tall_buzzing</td>\n",
       "      <td>[insects, environment, tall, buzzing, ground, ...</td>\n",
       "      <td>[there is a hill. insects and bugs are buzzing...</td>\n",
       "      <td>insects - environment - tall - buzzing - groun...</td>\n",
       "      <td>0.894509</td>\n",
       "      <td>False</td>\n",
       "    </tr>\n",
       "    <tr>\n",
       "      <th>3</th>\n",
       "      <td>insects are buzzing, walking under the trees. ...</td>\n",
       "      <td>1</td>\n",
       "      <td>1_insects_environment_tall_buzzing</td>\n",
       "      <td>[insects, environment, tall, buzzing, ground, ...</td>\n",
       "      <td>[there is a hill. insects and bugs are buzzing...</td>\n",
       "      <td>insects - environment - tall - buzzing - groun...</td>\n",
       "      <td>1.000000</td>\n",
       "      <td>False</td>\n",
       "    </tr>\n",
       "    <tr>\n",
       "      <th>4</th>\n",
       "      <td>insects are buzzing, walking under the trees. ...</td>\n",
       "      <td>1</td>\n",
       "      <td>1_insects_environment_tall_buzzing</td>\n",
       "      <td>[insects, environment, tall, buzzing, ground, ...</td>\n",
       "      <td>[there is a hill. insects and bugs are buzzing...</td>\n",
       "      <td>insects - environment - tall - buzzing - groun...</td>\n",
       "      <td>1.000000</td>\n",
       "      <td>False</td>\n",
       "    </tr>\n",
       "    <tr>\n",
       "      <th>5</th>\n",
       "      <td>insects are buzzing, walking under the trees. ...</td>\n",
       "      <td>1</td>\n",
       "      <td>1_insects_environment_tall_buzzing</td>\n",
       "      <td>[insects, environment, tall, buzzing, ground, ...</td>\n",
       "      <td>[there is a hill. insects and bugs are buzzing...</td>\n",
       "      <td>insects - environment - tall - buzzing - groun...</td>\n",
       "      <td>1.000000</td>\n",
       "      <td>False</td>\n",
       "    </tr>\n",
       "    <tr>\n",
       "      <th>6</th>\n",
       "      <td>insects are buzzing, walking under the trees. ...</td>\n",
       "      <td>1</td>\n",
       "      <td>1_insects_environment_tall_buzzing</td>\n",
       "      <td>[insects, environment, tall, buzzing, ground, ...</td>\n",
       "      <td>[there is a hill. insects and bugs are buzzing...</td>\n",
       "      <td>insects - environment - tall - buzzing - groun...</td>\n",
       "      <td>1.000000</td>\n",
       "      <td>False</td>\n",
       "    </tr>\n",
       "    <tr>\n",
       "      <th>7</th>\n",
       "      <td>insects and bugs are buzzing, walking under th...</td>\n",
       "      <td>1</td>\n",
       "      <td>1_insects_environment_tall_buzzing</td>\n",
       "      <td>[insects, environment, tall, buzzing, ground, ...</td>\n",
       "      <td>[there is a hill. insects and bugs are buzzing...</td>\n",
       "      <td>insects - environment - tall - buzzing - groun...</td>\n",
       "      <td>1.000000</td>\n",
       "      <td>False</td>\n",
       "    </tr>\n",
       "    <tr>\n",
       "      <th>8</th>\n",
       "      <td>insects and bugs are buzzing, walking under th...</td>\n",
       "      <td>1</td>\n",
       "      <td>1_insects_environment_tall_buzzing</td>\n",
       "      <td>[insects, environment, tall, buzzing, ground, ...</td>\n",
       "      <td>[there is a hill. insects and bugs are buzzing...</td>\n",
       "      <td>insects - environment - tall - buzzing - groun...</td>\n",
       "      <td>1.000000</td>\n",
       "      <td>False</td>\n",
       "    </tr>\n",
       "    <tr>\n",
       "      <th>9</th>\n",
       "      <td>insects and bugs are buzzing, walking under th...</td>\n",
       "      <td>1</td>\n",
       "      <td>1_insects_environment_tall_buzzing</td>\n",
       "      <td>[insects, environment, tall, buzzing, ground, ...</td>\n",
       "      <td>[there is a hill. insects and bugs are buzzing...</td>\n",
       "      <td>insects - environment - tall - buzzing - groun...</td>\n",
       "      <td>1.000000</td>\n",
       "      <td>True</td>\n",
       "    </tr>\n",
       "    <tr>\n",
       "      <th>10</th>\n",
       "      <td>insects and bugs are buzzing, walking under th...</td>\n",
       "      <td>1</td>\n",
       "      <td>1_insects_environment_tall_buzzing</td>\n",
       "      <td>[insects, environment, tall, buzzing, ground, ...</td>\n",
       "      <td>[there is a hill. insects and bugs are buzzing...</td>\n",
       "      <td>insects - environment - tall - buzzing - groun...</td>\n",
       "      <td>1.000000</td>\n",
       "      <td>True</td>\n",
       "    </tr>\n",
       "    <tr>\n",
       "      <th>11</th>\n",
       "      <td>there is a hill. insects and bugs are buzzing,...</td>\n",
       "      <td>1</td>\n",
       "      <td>1_insects_environment_tall_buzzing</td>\n",
       "      <td>[insects, environment, tall, buzzing, ground, ...</td>\n",
       "      <td>[there is a hill. insects and bugs are buzzing...</td>\n",
       "      <td>insects - environment - tall - buzzing - groun...</td>\n",
       "      <td>0.582370</td>\n",
       "      <td>True</td>\n",
       "    </tr>\n",
       "    <tr>\n",
       "      <th>12</th>\n",
       "      <td>there is a hill. insects and bugs are buzzing,...</td>\n",
       "      <td>1</td>\n",
       "      <td>1_insects_environment_tall_buzzing</td>\n",
       "      <td>[insects, environment, tall, buzzing, ground, ...</td>\n",
       "      <td>[there is a hill. insects and bugs are buzzing...</td>\n",
       "      <td>insects - environment - tall - buzzing - groun...</td>\n",
       "      <td>0.529005</td>\n",
       "      <td>False</td>\n",
       "    </tr>\n",
       "    <tr>\n",
       "      <th>13</th>\n",
       "      <td>there is a hill. insects and bugs are buzzing,...</td>\n",
       "      <td>1</td>\n",
       "      <td>1_insects_environment_tall_buzzing</td>\n",
       "      <td>[insects, environment, tall, buzzing, ground, ...</td>\n",
       "      <td>[there is a hill. insects and bugs are buzzing...</td>\n",
       "      <td>insects - environment - tall - buzzing - groun...</td>\n",
       "      <td>0.577138</td>\n",
       "      <td>False</td>\n",
       "    </tr>\n",
       "    <tr>\n",
       "      <th>14</th>\n",
       "      <td>there is a hill. insects and bugs are buzzing,...</td>\n",
       "      <td>1</td>\n",
       "      <td>1_insects_environment_tall_buzzing</td>\n",
       "      <td>[insects, environment, tall, buzzing, ground, ...</td>\n",
       "      <td>[there is a hill. insects and bugs are buzzing...</td>\n",
       "      <td>insects - environment - tall - buzzing - groun...</td>\n",
       "      <td>0.477144</td>\n",
       "      <td>False</td>\n",
       "    </tr>\n",
       "    <tr>\n",
       "      <th>15</th>\n",
       "      <td>there is a hill. insects and bugs are buzzing,...</td>\n",
       "      <td>1</td>\n",
       "      <td>1_insects_environment_tall_buzzing</td>\n",
       "      <td>[insects, environment, tall, buzzing, ground, ...</td>\n",
       "      <td>[there is a hill. insects and bugs are buzzing...</td>\n",
       "      <td>insects - environment - tall - buzzing - groun...</td>\n",
       "      <td>0.545160</td>\n",
       "      <td>False</td>\n",
       "    </tr>\n",
       "    <tr>\n",
       "      <th>16</th>\n",
       "      <td>there is a hill. insects and bugs are buzzing,...</td>\n",
       "      <td>1</td>\n",
       "      <td>1_insects_environment_tall_buzzing</td>\n",
       "      <td>[insects, environment, tall, buzzing, ground, ...</td>\n",
       "      <td>[there is a hill. insects and bugs are buzzing...</td>\n",
       "      <td>insects - environment - tall - buzzing - groun...</td>\n",
       "      <td>0.569907</td>\n",
       "      <td>False</td>\n",
       "    </tr>\n",
       "    <tr>\n",
       "      <th>17</th>\n",
       "      <td>two persons walking on train tracks at night, ...</td>\n",
       "      <td>0</td>\n",
       "      <td>0_style_night_walking_nature</td>\n",
       "      <td>[style, night, walking, nature, train, shining...</td>\n",
       "      <td>[one man with cowboy boots walking on rubble a...</td>\n",
       "      <td>style - night - walking - nature - train - shi...</td>\n",
       "      <td>0.383359</td>\n",
       "      <td>False</td>\n",
       "    </tr>\n",
       "    <tr>\n",
       "      <th>18</th>\n",
       "      <td>two persons walking on train tracks at night, ...</td>\n",
       "      <td>0</td>\n",
       "      <td>0_style_night_walking_nature</td>\n",
       "      <td>[style, night, walking, nature, train, shining...</td>\n",
       "      <td>[one man with cowboy boots walking on rubble a...</td>\n",
       "      <td>style - night - walking - nature - train - shi...</td>\n",
       "      <td>0.339264</td>\n",
       "      <td>False</td>\n",
       "    </tr>\n",
       "    <tr>\n",
       "      <th>19</th>\n",
       "      <td>two persons walking on train tracks at night, ...</td>\n",
       "      <td>0</td>\n",
       "      <td>0_style_night_walking_nature</td>\n",
       "      <td>[style, night, walking, nature, train, shining...</td>\n",
       "      <td>[one man with cowboy boots walking on rubble a...</td>\n",
       "      <td>style - night - walking - nature - train - shi...</td>\n",
       "      <td>0.348885</td>\n",
       "      <td>False</td>\n",
       "    </tr>\n",
       "    <tr>\n",
       "      <th>20</th>\n",
       "      <td>close up feet, two persons walking on train tr...</td>\n",
       "      <td>0</td>\n",
       "      <td>0_style_night_walking_nature</td>\n",
       "      <td>[style, night, walking, nature, train, shining...</td>\n",
       "      <td>[one man with cowboy boots walking on rubble a...</td>\n",
       "      <td>style - night - walking - nature - train - shi...</td>\n",
       "      <td>0.342381</td>\n",
       "      <td>False</td>\n",
       "    </tr>\n",
       "    <tr>\n",
       "      <th>21</th>\n",
       "      <td>close up feet, two persons walking on train tr...</td>\n",
       "      <td>0</td>\n",
       "      <td>0_style_night_walking_nature</td>\n",
       "      <td>[style, night, walking, nature, train, shining...</td>\n",
       "      <td>[one man with cowboy boots walking on rubble a...</td>\n",
       "      <td>style - night - walking - nature - train - shi...</td>\n",
       "      <td>0.365039</td>\n",
       "      <td>False</td>\n",
       "    </tr>\n",
       "    <tr>\n",
       "      <th>22</th>\n",
       "      <td>group on people walking on train tracks at night</td>\n",
       "      <td>0</td>\n",
       "      <td>0_style_night_walking_nature</td>\n",
       "      <td>[style, night, walking, nature, train, shining...</td>\n",
       "      <td>[one man with cowboy boots walking on rubble a...</td>\n",
       "      <td>style - night - walking - nature - train - shi...</td>\n",
       "      <td>0.439589</td>\n",
       "      <td>False</td>\n",
       "    </tr>\n",
       "    <tr>\n",
       "      <th>23</th>\n",
       "      <td>group on people walking on train tracks at nig...</td>\n",
       "      <td>0</td>\n",
       "      <td>0_style_night_walking_nature</td>\n",
       "      <td>[style, night, walking, nature, train, shining...</td>\n",
       "      <td>[one man with cowboy boots walking on rubble a...</td>\n",
       "      <td>style - night - walking - nature - train - shi...</td>\n",
       "      <td>0.480145</td>\n",
       "      <td>False</td>\n",
       "    </tr>\n",
       "    <tr>\n",
       "      <th>24</th>\n",
       "      <td>one man with cowboy boots walking on rubble at...</td>\n",
       "      <td>0</td>\n",
       "      <td>0_style_night_walking_nature</td>\n",
       "      <td>[style, night, walking, nature, train, shining...</td>\n",
       "      <td>[one man with cowboy boots walking on rubble a...</td>\n",
       "      <td>style - night - walking - nature - train - shi...</td>\n",
       "      <td>1.000000</td>\n",
       "      <td>False</td>\n",
       "    </tr>\n",
       "    <tr>\n",
       "      <th>25</th>\n",
       "      <td>one man with cowboy boots walking on rubble at...</td>\n",
       "      <td>0</td>\n",
       "      <td>0_style_night_walking_nature</td>\n",
       "      <td>[style, night, walking, nature, train, shining...</td>\n",
       "      <td>[one man with cowboy boots walking on rubble a...</td>\n",
       "      <td>style - night - walking - nature - train - shi...</td>\n",
       "      <td>1.000000</td>\n",
       "      <td>True</td>\n",
       "    </tr>\n",
       "    <tr>\n",
       "      <th>26</th>\n",
       "      <td>one man with cowboy boots walking on rubble ne...</td>\n",
       "      <td>0</td>\n",
       "      <td>0_style_night_walking_nature</td>\n",
       "      <td>[style, night, walking, nature, train, shining...</td>\n",
       "      <td>[one man with cowboy boots walking on rubble a...</td>\n",
       "      <td>style - night - walking - nature - train - shi...</td>\n",
       "      <td>1.000000</td>\n",
       "      <td>False</td>\n",
       "    </tr>\n",
       "    <tr>\n",
       "      <th>27</th>\n",
       "      <td>one man with cowboy boots walking on rubble ne...</td>\n",
       "      <td>0</td>\n",
       "      <td>0_style_night_walking_nature</td>\n",
       "      <td>[style, night, walking, nature, train, shining...</td>\n",
       "      <td>[one man with cowboy boots walking on rubble a...</td>\n",
       "      <td>style - night - walking - nature - train - shi...</td>\n",
       "      <td>0.979601</td>\n",
       "      <td>False</td>\n",
       "    </tr>\n",
       "    <tr>\n",
       "      <th>28</th>\n",
       "      <td>one man with cowboy boots walking on rubble ne...</td>\n",
       "      <td>0</td>\n",
       "      <td>0_style_night_walking_nature</td>\n",
       "      <td>[style, night, walking, nature, train, shining...</td>\n",
       "      <td>[one man with cowboy boots walking on rubble a...</td>\n",
       "      <td>style - night - walking - nature - train - shi...</td>\n",
       "      <td>0.997239</td>\n",
       "      <td>True</td>\n",
       "    </tr>\n",
       "    <tr>\n",
       "      <th>29</th>\n",
       "      <td>one man with cowboy boots walking on rubble ne...</td>\n",
       "      <td>0</td>\n",
       "      <td>0_style_night_walking_nature</td>\n",
       "      <td>[style, night, walking, nature, train, shining...</td>\n",
       "      <td>[one man with cowboy boots walking on rubble a...</td>\n",
       "      <td>style - night - walking - nature - train - shi...</td>\n",
       "      <td>0.962606</td>\n",
       "      <td>False</td>\n",
       "    </tr>\n",
       "    <tr>\n",
       "      <th>30</th>\n",
       "      <td>one man with cowboy boots walking on rubble ne...</td>\n",
       "      <td>0</td>\n",
       "      <td>0_style_night_walking_nature</td>\n",
       "      <td>[style, night, walking, nature, train, shining...</td>\n",
       "      <td>[one man with cowboy boots walking on rubble a...</td>\n",
       "      <td>style - night - walking - nature - train - shi...</td>\n",
       "      <td>1.000000</td>\n",
       "      <td>True</td>\n",
       "    </tr>\n",
       "    <tr>\n",
       "      <th>31</th>\n",
       "      <td>woman hiking at night through nature, realisti...</td>\n",
       "      <td>0</td>\n",
       "      <td>0_style_night_walking_nature</td>\n",
       "      <td>[style, night, walking, nature, train, shining...</td>\n",
       "      <td>[one man with cowboy boots walking on rubble a...</td>\n",
       "      <td>style - night - walking - nature - train - shi...</td>\n",
       "      <td>1.000000</td>\n",
       "      <td>False</td>\n",
       "    </tr>\n",
       "    <tr>\n",
       "      <th>32</th>\n",
       "      <td>woman hiking at night through nature, realisti...</td>\n",
       "      <td>0</td>\n",
       "      <td>0_style_night_walking_nature</td>\n",
       "      <td>[style, night, walking, nature, train, shining...</td>\n",
       "      <td>[one man with cowboy boots walking on rubble a...</td>\n",
       "      <td>style - night - walking - nature - train - shi...</td>\n",
       "      <td>1.000000</td>\n",
       "      <td>False</td>\n",
       "    </tr>\n",
       "    <tr>\n",
       "      <th>33</th>\n",
       "      <td>woman hiking at night through nature over rubb...</td>\n",
       "      <td>0</td>\n",
       "      <td>0_style_night_walking_nature</td>\n",
       "      <td>[style, night, walking, nature, train, shining...</td>\n",
       "      <td>[one man with cowboy boots walking on rubble a...</td>\n",
       "      <td>style - night - walking - nature - train - shi...</td>\n",
       "      <td>1.000000</td>\n",
       "      <td>False</td>\n",
       "    </tr>\n",
       "    <tr>\n",
       "      <th>34</th>\n",
       "      <td>beach steps</td>\n",
       "      <td>2</td>\n",
       "      <td>2_beach_horizon_steps_seagull</td>\n",
       "      <td>[beach, horizon, steps, seagull, footsteps, st...</td>\n",
       "      <td>[horizon seagull footsteps beach parasol ship ...</td>\n",
       "      <td>beach - horizon - steps - seagull - footsteps ...</td>\n",
       "      <td>1.000000</td>\n",
       "      <td>False</td>\n",
       "    </tr>\n",
       "    <tr>\n",
       "      <th>35</th>\n",
       "      <td>beach steps feet wet</td>\n",
       "      <td>2</td>\n",
       "      <td>2_beach_horizon_steps_seagull</td>\n",
       "      <td>[beach, horizon, steps, seagull, footsteps, st...</td>\n",
       "      <td>[horizon seagull footsteps beach parasol ship ...</td>\n",
       "      <td>beach - horizon - steps - seagull - footsteps ...</td>\n",
       "      <td>1.000000</td>\n",
       "      <td>False</td>\n",
       "    </tr>\n",
       "    <tr>\n",
       "      <th>36</th>\n",
       "      <td>beach steps feet wet horizon</td>\n",
       "      <td>2</td>\n",
       "      <td>2_beach_horizon_steps_seagull</td>\n",
       "      <td>[beach, horizon, steps, seagull, footsteps, st...</td>\n",
       "      <td>[horizon seagull footsteps beach parasol ship ...</td>\n",
       "      <td>beach - horizon - steps - seagull - footsteps ...</td>\n",
       "      <td>1.000000</td>\n",
       "      <td>False</td>\n",
       "    </tr>\n",
       "    <tr>\n",
       "      <th>37</th>\n",
       "      <td>beach steps feet wet horizon seagull</td>\n",
       "      <td>2</td>\n",
       "      <td>2_beach_horizon_steps_seagull</td>\n",
       "      <td>[beach, horizon, steps, seagull, footsteps, st...</td>\n",
       "      <td>[horizon seagull footsteps beach parasol ship ...</td>\n",
       "      <td>beach - horizon - steps - seagull - footsteps ...</td>\n",
       "      <td>1.000000</td>\n",
       "      <td>False</td>\n",
       "    </tr>\n",
       "    <tr>\n",
       "      <th>38</th>\n",
       "      <td>horizon seagull footsteps</td>\n",
       "      <td>2</td>\n",
       "      <td>2_beach_horizon_steps_seagull</td>\n",
       "      <td>[beach, horizon, steps, seagull, footsteps, st...</td>\n",
       "      <td>[horizon seagull footsteps beach parasol ship ...</td>\n",
       "      <td>beach - horizon - steps - seagull - footsteps ...</td>\n",
       "      <td>1.000000</td>\n",
       "      <td>False</td>\n",
       "    </tr>\n",
       "    <tr>\n",
       "      <th>39</th>\n",
       "      <td>horizon seagull footsteps beach parasol ship i...</td>\n",
       "      <td>2</td>\n",
       "      <td>2_beach_horizon_steps_seagull</td>\n",
       "      <td>[beach, horizon, steps, seagull, footsteps, st...</td>\n",
       "      <td>[horizon seagull footsteps beach parasol ship ...</td>\n",
       "      <td>beach - horizon - steps - seagull - footsteps ...</td>\n",
       "      <td>1.000000</td>\n",
       "      <td>True</td>\n",
       "    </tr>\n",
       "    <tr>\n",
       "      <th>40</th>\n",
       "      <td>horizon seagull footsteps beach parasol ship i...</td>\n",
       "      <td>2</td>\n",
       "      <td>2_beach_horizon_steps_seagull</td>\n",
       "      <td>[beach, horizon, steps, seagull, footsteps, st...</td>\n",
       "      <td>[horizon seagull footsteps beach parasol ship ...</td>\n",
       "      <td>beach - horizon - steps - seagull - footsteps ...</td>\n",
       "      <td>1.000000</td>\n",
       "      <td>True</td>\n",
       "    </tr>\n",
       "    <tr>\n",
       "      <th>41</th>\n",
       "      <td>horizon seagull footsteps beach parasol ship i...</td>\n",
       "      <td>2</td>\n",
       "      <td>2_beach_horizon_steps_seagull</td>\n",
       "      <td>[beach, horizon, steps, seagull, footsteps, st...</td>\n",
       "      <td>[horizon seagull footsteps beach parasol ship ...</td>\n",
       "      <td>beach - horizon - steps - seagull - footsteps ...</td>\n",
       "      <td>1.000000</td>\n",
       "      <td>True</td>\n",
       "    </tr>\n",
       "    <tr>\n",
       "      <th>42</th>\n",
       "      <td>horizon seagull footsteps beach parasol ship i...</td>\n",
       "      <td>2</td>\n",
       "      <td>2_beach_horizon_steps_seagull</td>\n",
       "      <td>[beach, horizon, steps, seagull, footsteps, st...</td>\n",
       "      <td>[horizon seagull footsteps beach parasol ship ...</td>\n",
       "      <td>beach - horizon - steps - seagull - footsteps ...</td>\n",
       "      <td>0.997263</td>\n",
       "      <td>False</td>\n",
       "    </tr>\n",
       "    <tr>\n",
       "      <th>43</th>\n",
       "      <td>stones meadow rain walking</td>\n",
       "      <td>2</td>\n",
       "      <td>2_beach_horizon_steps_seagull</td>\n",
       "      <td>[beach, horizon, steps, seagull, footsteps, st...</td>\n",
       "      <td>[horizon seagull footsteps beach parasol ship ...</td>\n",
       "      <td>beach - horizon - steps - seagull - footsteps ...</td>\n",
       "      <td>0.577969</td>\n",
       "      <td>False</td>\n",
       "    </tr>\n",
       "    <tr>\n",
       "      <th>44</th>\n",
       "      <td>stones meadow rain thunder woman walking</td>\n",
       "      <td>2</td>\n",
       "      <td>2_beach_horizon_steps_seagull</td>\n",
       "      <td>[beach, horizon, steps, seagull, footsteps, st...</td>\n",
       "      <td>[horizon seagull footsteps beach parasol ship ...</td>\n",
       "      <td>beach - horizon - steps - seagull - footsteps ...</td>\n",
       "      <td>0.552735</td>\n",
       "      <td>False</td>\n",
       "    </tr>\n",
       "    <tr>\n",
       "      <th>45</th>\n",
       "      <td>stones meadow rain thunder witch walking</td>\n",
       "      <td>2</td>\n",
       "      <td>2_beach_horizon_steps_seagull</td>\n",
       "      <td>[beach, horizon, steps, seagull, footsteps, st...</td>\n",
       "      <td>[horizon seagull footsteps beach parasol ship ...</td>\n",
       "      <td>beach - horizon - steps - seagull - footsteps ...</td>\n",
       "      <td>0.520753</td>\n",
       "      <td>False</td>\n",
       "    </tr>\n",
       "    <tr>\n",
       "      <th>46</th>\n",
       "      <td>stones meadow rain thunder witch dog horse wai...</td>\n",
       "      <td>2</td>\n",
       "      <td>2_beach_horizon_steps_seagull</td>\n",
       "      <td>[beach, horizon, steps, seagull, footsteps, st...</td>\n",
       "      <td>[horizon seagull footsteps beach parasol ship ...</td>\n",
       "      <td>beach - horizon - steps - seagull - footsteps ...</td>\n",
       "      <td>0.530874</td>\n",
       "      <td>False</td>\n",
       "    </tr>\n",
       "    <tr>\n",
       "      <th>47</th>\n",
       "      <td>stones night dog horse</td>\n",
       "      <td>2</td>\n",
       "      <td>2_beach_horizon_steps_seagull</td>\n",
       "      <td>[beach, horizon, steps, seagull, footsteps, st...</td>\n",
       "      <td>[horizon seagull footsteps beach parasol ship ...</td>\n",
       "      <td>beach - horizon - steps - seagull - footsteps ...</td>\n",
       "      <td>0.609454</td>\n",
       "      <td>False</td>\n",
       "    </tr>\n",
       "    <tr>\n",
       "      <th>48</th>\n",
       "      <td>stones night steps sea waves</td>\n",
       "      <td>2</td>\n",
       "      <td>2_beach_horizon_steps_seagull</td>\n",
       "      <td>[beach, horizon, steps, seagull, footsteps, st...</td>\n",
       "      <td>[horizon seagull footsteps beach parasol ship ...</td>\n",
       "      <td>beach - horizon - steps - seagull - footsteps ...</td>\n",
       "      <td>1.000000</td>\n",
       "      <td>False</td>\n",
       "    </tr>\n",
       "    <tr>\n",
       "      <th>49</th>\n",
       "      <td>stones night steps sea waves crescent</td>\n",
       "      <td>2</td>\n",
       "      <td>2_beach_horizon_steps_seagull</td>\n",
       "      <td>[beach, horizon, steps, seagull, footsteps, st...</td>\n",
       "      <td>[horizon seagull footsteps beach parasol ship ...</td>\n",
       "      <td>beach - horizon - steps - seagull - footsteps ...</td>\n",
       "      <td>1.000000</td>\n",
       "      <td>False</td>\n",
       "    </tr>\n",
       "    <tr>\n",
       "      <th>50</th>\n",
       "      <td>in front a man wearing trekking pants, a tshir...</td>\n",
       "      <td>0</td>\n",
       "      <td>0_style_night_walking_nature</td>\n",
       "      <td>[style, night, walking, nature, train, shining...</td>\n",
       "      <td>[one man with cowboy boots walking on rubble a...</td>\n",
       "      <td>style - night - walking - nature - train - shi...</td>\n",
       "      <td>1.000000</td>\n",
       "      <td>False</td>\n",
       "    </tr>\n",
       "    <tr>\n",
       "      <th>51</th>\n",
       "      <td>angle from the side, a man wearing trekking pa...</td>\n",
       "      <td>0</td>\n",
       "      <td>0_style_night_walking_nature</td>\n",
       "      <td>[style, night, walking, nature, train, shining...</td>\n",
       "      <td>[one man with cowboy boots walking on rubble a...</td>\n",
       "      <td>style - night - walking - nature - train - shi...</td>\n",
       "      <td>1.000000</td>\n",
       "      <td>False</td>\n",
       "    </tr>\n",
       "    <tr>\n",
       "      <th>52</th>\n",
       "      <td>a man photographed from the side, wearing trek...</td>\n",
       "      <td>0</td>\n",
       "      <td>0_style_night_walking_nature</td>\n",
       "      <td>[style, night, walking, nature, train, shining...</td>\n",
       "      <td>[one man with cowboy boots walking on rubble a...</td>\n",
       "      <td>style - night - walking - nature - train - shi...</td>\n",
       "      <td>1.000000</td>\n",
       "      <td>False</td>\n",
       "    </tr>\n",
       "    <tr>\n",
       "      <th>53</th>\n",
       "      <td>a man photographed from the side, wearing trek...</td>\n",
       "      <td>0</td>\n",
       "      <td>0_style_night_walking_nature</td>\n",
       "      <td>[style, night, walking, nature, train, shining...</td>\n",
       "      <td>[one man with cowboy boots walking on rubble a...</td>\n",
       "      <td>style - night - walking - nature - train - shi...</td>\n",
       "      <td>0.912142</td>\n",
       "      <td>False</td>\n",
       "    </tr>\n",
       "  </tbody>\n",
       "</table>\n",
       "</div>"
      ],
      "text/plain": [
       "                                             Document  Topic  \\\n",
       "0   insects are buzzing, walking under the trees. ...      1   \n",
       "1   insects are buzzing, walking under the trees. ...      1   \n",
       "2   insects are buzzing, walking under the trees. ...      1   \n",
       "3   insects are buzzing, walking under the trees. ...      1   \n",
       "4   insects are buzzing, walking under the trees. ...      1   \n",
       "5   insects are buzzing, walking under the trees. ...      1   \n",
       "6   insects are buzzing, walking under the trees. ...      1   \n",
       "7   insects and bugs are buzzing, walking under th...      1   \n",
       "8   insects and bugs are buzzing, walking under th...      1   \n",
       "9   insects and bugs are buzzing, walking under th...      1   \n",
       "10  insects and bugs are buzzing, walking under th...      1   \n",
       "11  there is a hill. insects and bugs are buzzing,...      1   \n",
       "12  there is a hill. insects and bugs are buzzing,...      1   \n",
       "13  there is a hill. insects and bugs are buzzing,...      1   \n",
       "14  there is a hill. insects and bugs are buzzing,...      1   \n",
       "15  there is a hill. insects and bugs are buzzing,...      1   \n",
       "16  there is a hill. insects and bugs are buzzing,...      1   \n",
       "17  two persons walking on train tracks at night, ...      0   \n",
       "18  two persons walking on train tracks at night, ...      0   \n",
       "19  two persons walking on train tracks at night, ...      0   \n",
       "20  close up feet, two persons walking on train tr...      0   \n",
       "21  close up feet, two persons walking on train tr...      0   \n",
       "22   group on people walking on train tracks at night      0   \n",
       "23  group on people walking on train tracks at nig...      0   \n",
       "24  one man with cowboy boots walking on rubble at...      0   \n",
       "25  one man with cowboy boots walking on rubble at...      0   \n",
       "26  one man with cowboy boots walking on rubble ne...      0   \n",
       "27  one man with cowboy boots walking on rubble ne...      0   \n",
       "28  one man with cowboy boots walking on rubble ne...      0   \n",
       "29  one man with cowboy boots walking on rubble ne...      0   \n",
       "30  one man with cowboy boots walking on rubble ne...      0   \n",
       "31  woman hiking at night through nature, realisti...      0   \n",
       "32  woman hiking at night through nature, realisti...      0   \n",
       "33  woman hiking at night through nature over rubb...      0   \n",
       "34                                        beach steps      2   \n",
       "35                               beach steps feet wet      2   \n",
       "36                       beach steps feet wet horizon      2   \n",
       "37               beach steps feet wet horizon seagull      2   \n",
       "38                          horizon seagull footsteps      2   \n",
       "39  horizon seagull footsteps beach parasol ship i...      2   \n",
       "40  horizon seagull footsteps beach parasol ship i...      2   \n",
       "41  horizon seagull footsteps beach parasol ship i...      2   \n",
       "42  horizon seagull footsteps beach parasol ship i...      2   \n",
       "43                         stones meadow rain walking      2   \n",
       "44           stones meadow rain thunder woman walking      2   \n",
       "45           stones meadow rain thunder witch walking      2   \n",
       "46  stones meadow rain thunder witch dog horse wai...      2   \n",
       "47                             stones night dog horse      2   \n",
       "48                       stones night steps sea waves      2   \n",
       "49              stones night steps sea waves crescent      2   \n",
       "50  in front a man wearing trekking pants, a tshir...      0   \n",
       "51  angle from the side, a man wearing trekking pa...      0   \n",
       "52  a man photographed from the side, wearing trek...      0   \n",
       "53  a man photographed from the side, wearing trek...      0   \n",
       "\n",
       "                                  Name  \\\n",
       "0   1_insects_environment_tall_buzzing   \n",
       "1   1_insects_environment_tall_buzzing   \n",
       "2   1_insects_environment_tall_buzzing   \n",
       "3   1_insects_environment_tall_buzzing   \n",
       "4   1_insects_environment_tall_buzzing   \n",
       "5   1_insects_environment_tall_buzzing   \n",
       "6   1_insects_environment_tall_buzzing   \n",
       "7   1_insects_environment_tall_buzzing   \n",
       "8   1_insects_environment_tall_buzzing   \n",
       "9   1_insects_environment_tall_buzzing   \n",
       "10  1_insects_environment_tall_buzzing   \n",
       "11  1_insects_environment_tall_buzzing   \n",
       "12  1_insects_environment_tall_buzzing   \n",
       "13  1_insects_environment_tall_buzzing   \n",
       "14  1_insects_environment_tall_buzzing   \n",
       "15  1_insects_environment_tall_buzzing   \n",
       "16  1_insects_environment_tall_buzzing   \n",
       "17        0_style_night_walking_nature   \n",
       "18        0_style_night_walking_nature   \n",
       "19        0_style_night_walking_nature   \n",
       "20        0_style_night_walking_nature   \n",
       "21        0_style_night_walking_nature   \n",
       "22        0_style_night_walking_nature   \n",
       "23        0_style_night_walking_nature   \n",
       "24        0_style_night_walking_nature   \n",
       "25        0_style_night_walking_nature   \n",
       "26        0_style_night_walking_nature   \n",
       "27        0_style_night_walking_nature   \n",
       "28        0_style_night_walking_nature   \n",
       "29        0_style_night_walking_nature   \n",
       "30        0_style_night_walking_nature   \n",
       "31        0_style_night_walking_nature   \n",
       "32        0_style_night_walking_nature   \n",
       "33        0_style_night_walking_nature   \n",
       "34       2_beach_horizon_steps_seagull   \n",
       "35       2_beach_horizon_steps_seagull   \n",
       "36       2_beach_horizon_steps_seagull   \n",
       "37       2_beach_horizon_steps_seagull   \n",
       "38       2_beach_horizon_steps_seagull   \n",
       "39       2_beach_horizon_steps_seagull   \n",
       "40       2_beach_horizon_steps_seagull   \n",
       "41       2_beach_horizon_steps_seagull   \n",
       "42       2_beach_horizon_steps_seagull   \n",
       "43       2_beach_horizon_steps_seagull   \n",
       "44       2_beach_horizon_steps_seagull   \n",
       "45       2_beach_horizon_steps_seagull   \n",
       "46       2_beach_horizon_steps_seagull   \n",
       "47       2_beach_horizon_steps_seagull   \n",
       "48       2_beach_horizon_steps_seagull   \n",
       "49       2_beach_horizon_steps_seagull   \n",
       "50        0_style_night_walking_nature   \n",
       "51        0_style_night_walking_nature   \n",
       "52        0_style_night_walking_nature   \n",
       "53        0_style_night_walking_nature   \n",
       "\n",
       "                                       Representation  \\\n",
       "0   [insects, environment, tall, buzzing, ground, ...   \n",
       "1   [insects, environment, tall, buzzing, ground, ...   \n",
       "2   [insects, environment, tall, buzzing, ground, ...   \n",
       "3   [insects, environment, tall, buzzing, ground, ...   \n",
       "4   [insects, environment, tall, buzzing, ground, ...   \n",
       "5   [insects, environment, tall, buzzing, ground, ...   \n",
       "6   [insects, environment, tall, buzzing, ground, ...   \n",
       "7   [insects, environment, tall, buzzing, ground, ...   \n",
       "8   [insects, environment, tall, buzzing, ground, ...   \n",
       "9   [insects, environment, tall, buzzing, ground, ...   \n",
       "10  [insects, environment, tall, buzzing, ground, ...   \n",
       "11  [insects, environment, tall, buzzing, ground, ...   \n",
       "12  [insects, environment, tall, buzzing, ground, ...   \n",
       "13  [insects, environment, tall, buzzing, ground, ...   \n",
       "14  [insects, environment, tall, buzzing, ground, ...   \n",
       "15  [insects, environment, tall, buzzing, ground, ...   \n",
       "16  [insects, environment, tall, buzzing, ground, ...   \n",
       "17  [style, night, walking, nature, train, shining...   \n",
       "18  [style, night, walking, nature, train, shining...   \n",
       "19  [style, night, walking, nature, train, shining...   \n",
       "20  [style, night, walking, nature, train, shining...   \n",
       "21  [style, night, walking, nature, train, shining...   \n",
       "22  [style, night, walking, nature, train, shining...   \n",
       "23  [style, night, walking, nature, train, shining...   \n",
       "24  [style, night, walking, nature, train, shining...   \n",
       "25  [style, night, walking, nature, train, shining...   \n",
       "26  [style, night, walking, nature, train, shining...   \n",
       "27  [style, night, walking, nature, train, shining...   \n",
       "28  [style, night, walking, nature, train, shining...   \n",
       "29  [style, night, walking, nature, train, shining...   \n",
       "30  [style, night, walking, nature, train, shining...   \n",
       "31  [style, night, walking, nature, train, shining...   \n",
       "32  [style, night, walking, nature, train, shining...   \n",
       "33  [style, night, walking, nature, train, shining...   \n",
       "34  [beach, horizon, steps, seagull, footsteps, st...   \n",
       "35  [beach, horizon, steps, seagull, footsteps, st...   \n",
       "36  [beach, horizon, steps, seagull, footsteps, st...   \n",
       "37  [beach, horizon, steps, seagull, footsteps, st...   \n",
       "38  [beach, horizon, steps, seagull, footsteps, st...   \n",
       "39  [beach, horizon, steps, seagull, footsteps, st...   \n",
       "40  [beach, horizon, steps, seagull, footsteps, st...   \n",
       "41  [beach, horizon, steps, seagull, footsteps, st...   \n",
       "42  [beach, horizon, steps, seagull, footsteps, st...   \n",
       "43  [beach, horizon, steps, seagull, footsteps, st...   \n",
       "44  [beach, horizon, steps, seagull, footsteps, st...   \n",
       "45  [beach, horizon, steps, seagull, footsteps, st...   \n",
       "46  [beach, horizon, steps, seagull, footsteps, st...   \n",
       "47  [beach, horizon, steps, seagull, footsteps, st...   \n",
       "48  [beach, horizon, steps, seagull, footsteps, st...   \n",
       "49  [beach, horizon, steps, seagull, footsteps, st...   \n",
       "50  [style, night, walking, nature, train, shining...   \n",
       "51  [style, night, walking, nature, train, shining...   \n",
       "52  [style, night, walking, nature, train, shining...   \n",
       "53  [style, night, walking, nature, train, shining...   \n",
       "\n",
       "                                  Representative_Docs  \\\n",
       "0   [there is a hill. insects and bugs are buzzing...   \n",
       "1   [there is a hill. insects and bugs are buzzing...   \n",
       "2   [there is a hill. insects and bugs are buzzing...   \n",
       "3   [there is a hill. insects and bugs are buzzing...   \n",
       "4   [there is a hill. insects and bugs are buzzing...   \n",
       "5   [there is a hill. insects and bugs are buzzing...   \n",
       "6   [there is a hill. insects and bugs are buzzing...   \n",
       "7   [there is a hill. insects and bugs are buzzing...   \n",
       "8   [there is a hill. insects and bugs are buzzing...   \n",
       "9   [there is a hill. insects and bugs are buzzing...   \n",
       "10  [there is a hill. insects and bugs are buzzing...   \n",
       "11  [there is a hill. insects and bugs are buzzing...   \n",
       "12  [there is a hill. insects and bugs are buzzing...   \n",
       "13  [there is a hill. insects and bugs are buzzing...   \n",
       "14  [there is a hill. insects and bugs are buzzing...   \n",
       "15  [there is a hill. insects and bugs are buzzing...   \n",
       "16  [there is a hill. insects and bugs are buzzing...   \n",
       "17  [one man with cowboy boots walking on rubble a...   \n",
       "18  [one man with cowboy boots walking on rubble a...   \n",
       "19  [one man with cowboy boots walking on rubble a...   \n",
       "20  [one man with cowboy boots walking on rubble a...   \n",
       "21  [one man with cowboy boots walking on rubble a...   \n",
       "22  [one man with cowboy boots walking on rubble a...   \n",
       "23  [one man with cowboy boots walking on rubble a...   \n",
       "24  [one man with cowboy boots walking on rubble a...   \n",
       "25  [one man with cowboy boots walking on rubble a...   \n",
       "26  [one man with cowboy boots walking on rubble a...   \n",
       "27  [one man with cowboy boots walking on rubble a...   \n",
       "28  [one man with cowboy boots walking on rubble a...   \n",
       "29  [one man with cowboy boots walking on rubble a...   \n",
       "30  [one man with cowboy boots walking on rubble a...   \n",
       "31  [one man with cowboy boots walking on rubble a...   \n",
       "32  [one man with cowboy boots walking on rubble a...   \n",
       "33  [one man with cowboy boots walking on rubble a...   \n",
       "34  [horizon seagull footsteps beach parasol ship ...   \n",
       "35  [horizon seagull footsteps beach parasol ship ...   \n",
       "36  [horizon seagull footsteps beach parasol ship ...   \n",
       "37  [horizon seagull footsteps beach parasol ship ...   \n",
       "38  [horizon seagull footsteps beach parasol ship ...   \n",
       "39  [horizon seagull footsteps beach parasol ship ...   \n",
       "40  [horizon seagull footsteps beach parasol ship ...   \n",
       "41  [horizon seagull footsteps beach parasol ship ...   \n",
       "42  [horizon seagull footsteps beach parasol ship ...   \n",
       "43  [horizon seagull footsteps beach parasol ship ...   \n",
       "44  [horizon seagull footsteps beach parasol ship ...   \n",
       "45  [horizon seagull footsteps beach parasol ship ...   \n",
       "46  [horizon seagull footsteps beach parasol ship ...   \n",
       "47  [horizon seagull footsteps beach parasol ship ...   \n",
       "48  [horizon seagull footsteps beach parasol ship ...   \n",
       "49  [horizon seagull footsteps beach parasol ship ...   \n",
       "50  [one man with cowboy boots walking on rubble a...   \n",
       "51  [one man with cowboy boots walking on rubble a...   \n",
       "52  [one man with cowboy boots walking on rubble a...   \n",
       "53  [one man with cowboy boots walking on rubble a...   \n",
       "\n",
       "                                          Top_n_words  Probability  \\\n",
       "0   insects - environment - tall - buzzing - groun...     1.000000   \n",
       "1   insects - environment - tall - buzzing - groun...     1.000000   \n",
       "2   insects - environment - tall - buzzing - groun...     0.894509   \n",
       "3   insects - environment - tall - buzzing - groun...     1.000000   \n",
       "4   insects - environment - tall - buzzing - groun...     1.000000   \n",
       "5   insects - environment - tall - buzzing - groun...     1.000000   \n",
       "6   insects - environment - tall - buzzing - groun...     1.000000   \n",
       "7   insects - environment - tall - buzzing - groun...     1.000000   \n",
       "8   insects - environment - tall - buzzing - groun...     1.000000   \n",
       "9   insects - environment - tall - buzzing - groun...     1.000000   \n",
       "10  insects - environment - tall - buzzing - groun...     1.000000   \n",
       "11  insects - environment - tall - buzzing - groun...     0.582370   \n",
       "12  insects - environment - tall - buzzing - groun...     0.529005   \n",
       "13  insects - environment - tall - buzzing - groun...     0.577138   \n",
       "14  insects - environment - tall - buzzing - groun...     0.477144   \n",
       "15  insects - environment - tall - buzzing - groun...     0.545160   \n",
       "16  insects - environment - tall - buzzing - groun...     0.569907   \n",
       "17  style - night - walking - nature - train - shi...     0.383359   \n",
       "18  style - night - walking - nature - train - shi...     0.339264   \n",
       "19  style - night - walking - nature - train - shi...     0.348885   \n",
       "20  style - night - walking - nature - train - shi...     0.342381   \n",
       "21  style - night - walking - nature - train - shi...     0.365039   \n",
       "22  style - night - walking - nature - train - shi...     0.439589   \n",
       "23  style - night - walking - nature - train - shi...     0.480145   \n",
       "24  style - night - walking - nature - train - shi...     1.000000   \n",
       "25  style - night - walking - nature - train - shi...     1.000000   \n",
       "26  style - night - walking - nature - train - shi...     1.000000   \n",
       "27  style - night - walking - nature - train - shi...     0.979601   \n",
       "28  style - night - walking - nature - train - shi...     0.997239   \n",
       "29  style - night - walking - nature - train - shi...     0.962606   \n",
       "30  style - night - walking - nature - train - shi...     1.000000   \n",
       "31  style - night - walking - nature - train - shi...     1.000000   \n",
       "32  style - night - walking - nature - train - shi...     1.000000   \n",
       "33  style - night - walking - nature - train - shi...     1.000000   \n",
       "34  beach - horizon - steps - seagull - footsteps ...     1.000000   \n",
       "35  beach - horizon - steps - seagull - footsteps ...     1.000000   \n",
       "36  beach - horizon - steps - seagull - footsteps ...     1.000000   \n",
       "37  beach - horizon - steps - seagull - footsteps ...     1.000000   \n",
       "38  beach - horizon - steps - seagull - footsteps ...     1.000000   \n",
       "39  beach - horizon - steps - seagull - footsteps ...     1.000000   \n",
       "40  beach - horizon - steps - seagull - footsteps ...     1.000000   \n",
       "41  beach - horizon - steps - seagull - footsteps ...     1.000000   \n",
       "42  beach - horizon - steps - seagull - footsteps ...     0.997263   \n",
       "43  beach - horizon - steps - seagull - footsteps ...     0.577969   \n",
       "44  beach - horizon - steps - seagull - footsteps ...     0.552735   \n",
       "45  beach - horizon - steps - seagull - footsteps ...     0.520753   \n",
       "46  beach - horizon - steps - seagull - footsteps ...     0.530874   \n",
       "47  beach - horizon - steps - seagull - footsteps ...     0.609454   \n",
       "48  beach - horizon - steps - seagull - footsteps ...     1.000000   \n",
       "49  beach - horizon - steps - seagull - footsteps ...     1.000000   \n",
       "50  style - night - walking - nature - train - shi...     1.000000   \n",
       "51  style - night - walking - nature - train - shi...     1.000000   \n",
       "52  style - night - walking - nature - train - shi...     1.000000   \n",
       "53  style - night - walking - nature - train - shi...     0.912142   \n",
       "\n",
       "    Representative_document  \n",
       "0                     False  \n",
       "1                     False  \n",
       "2                     False  \n",
       "3                     False  \n",
       "4                     False  \n",
       "5                     False  \n",
       "6                     False  \n",
       "7                     False  \n",
       "8                     False  \n",
       "9                      True  \n",
       "10                     True  \n",
       "11                     True  \n",
       "12                    False  \n",
       "13                    False  \n",
       "14                    False  \n",
       "15                    False  \n",
       "16                    False  \n",
       "17                    False  \n",
       "18                    False  \n",
       "19                    False  \n",
       "20                    False  \n",
       "21                    False  \n",
       "22                    False  \n",
       "23                    False  \n",
       "24                    False  \n",
       "25                     True  \n",
       "26                    False  \n",
       "27                    False  \n",
       "28                     True  \n",
       "29                    False  \n",
       "30                     True  \n",
       "31                    False  \n",
       "32                    False  \n",
       "33                    False  \n",
       "34                    False  \n",
       "35                    False  \n",
       "36                    False  \n",
       "37                    False  \n",
       "38                    False  \n",
       "39                     True  \n",
       "40                     True  \n",
       "41                     True  \n",
       "42                    False  \n",
       "43                    False  \n",
       "44                    False  \n",
       "45                    False  \n",
       "46                    False  \n",
       "47                    False  \n",
       "48                    False  \n",
       "49                    False  \n",
       "50                    False  \n",
       "51                    False  \n",
       "52                    False  \n",
       "53                    False  "
      ]
     },
     "execution_count": 20,
     "metadata": {},
     "output_type": "execute_result"
    }
   ],
   "source": [
    " topic_model.get_document_info(docs_sound)"
   ]
  },
  {
   "cell_type": "code",
   "execution_count": 28,
   "id": "c3ce52b5-3c95-419a-9d19-21115f7cf251",
   "metadata": {},
   "outputs": [
    {
     "data": {
      "text/html": [
       "<div>\n",
       "<style scoped>\n",
       "    .dataframe tbody tr th:only-of-type {\n",
       "        vertical-align: middle;\n",
       "    }\n",
       "\n",
       "    .dataframe tbody tr th {\n",
       "        vertical-align: top;\n",
       "    }\n",
       "\n",
       "    .dataframe thead th {\n",
       "        text-align: right;\n",
       "    }\n",
       "</style>\n",
       "<table border=\"1\" class=\"dataframe\">\n",
       "  <thead>\n",
       "    <tr style=\"text-align: right;\">\n",
       "      <th></th>\n",
       "      <th>Topic</th>\n",
       "      <th>Count</th>\n",
       "      <th>Name</th>\n",
       "      <th>Representation</th>\n",
       "      <th>Representative_Docs</th>\n",
       "    </tr>\n",
       "  </thead>\n",
       "  <tbody>\n",
       "    <tr>\n",
       "      <th>0</th>\n",
       "      <td>0</td>\n",
       "      <td>57</td>\n",
       "      <td>0_woman_old_wearing_man</td>\n",
       "      <td>[woman, old, wearing, man, background, hiking,...</td>\n",
       "      <td>[an old woman wearing a flower dress and glass...</td>\n",
       "    </tr>\n",
       "    <tr>\n",
       "      <th>1</th>\n",
       "      <td>1</td>\n",
       "      <td>21</td>\n",
       "      <td>1_big_oceans_forests_volcanos</td>\n",
       "      <td>[big, oceans, forests, volcanos, mountains, su...</td>\n",
       "      <td>[surreal. an old person and a kid with a car, ...</td>\n",
       "    </tr>\n",
       "  </tbody>\n",
       "</table>\n",
       "</div>"
      ],
      "text/plain": [
       "   Topic  Count                           Name  \\\n",
       "0      0     57        0_woman_old_wearing_man   \n",
       "1      1     21  1_big_oceans_forests_volcanos   \n",
       "\n",
       "                                      Representation  \\\n",
       "0  [woman, old, wearing, man, background, hiking,...   \n",
       "1  [big, oceans, forests, volcanos, mountains, su...   \n",
       "\n",
       "                                 Representative_Docs  \n",
       "0  [an old woman wearing a flower dress and glass...  \n",
       "1  [surreal. an old person and a kid with a car, ...  "
      ]
     },
     "execution_count": 28,
     "metadata": {},
     "output_type": "execute_result"
    }
   ],
   "source": [
    "vectorizer_model = CountVectorizer(stop_words=\"english\")\n",
    "topic_model = BERTopic(vectorizer_model=vectorizer_model)\n",
    "\n",
    "topics, probs = topic_model.fit_transform(docs_story)\n",
    "topic_model.get_topic_info()"
   ]
  },
  {
   "cell_type": "code",
   "execution_count": 22,
   "id": "e23adb99-f444-4e78-8973-5f9c7e178ebc",
   "metadata": {},
   "outputs": [
    {
     "data": {
      "application/vnd.plotly.v1+json": {
       "config": {
        "plotlyServerURL": "https://plot.ly"
       },
       "data": [
        {
         "marker": {
          "color": "#D55E00"
         },
         "orientation": "h",
         "type": "bar",
         "x": [
          0.10769618226719102,
          0.12744200481086917,
          0.14116771212191778,
          0.1855492620416606,
          0.185571949547425
         ],
         "xaxis": "x",
         "y": [
          "background  ",
          "man  ",
          "wearing  ",
          "old  ",
          "woman  "
         ],
         "yaxis": "y"
        },
        {
         "marker": {
          "color": "#0072B2"
         },
         "orientation": "h",
         "type": "bar",
         "x": [
          0.1339487803272602,
          0.14670794531676112,
          0.14670794531676112,
          0.14670794531676112,
          0.16137068377990896
         ],
         "xaxis": "x2",
         "y": [
          "mountains  ",
          "volcanos  ",
          "forests  ",
          "oceans  ",
          "big  "
         ],
         "yaxis": "y2"
        }
       ],
       "layout": {
        "annotations": [
         {
          "font": {
           "size": 16
          },
          "showarrow": false,
          "text": "Topic 0",
          "x": 0.0875,
          "xanchor": "center",
          "xref": "paper",
          "y": 1,
          "yanchor": "bottom",
          "yref": "paper"
         },
         {
          "font": {
           "size": 16
          },
          "showarrow": false,
          "text": "Topic 1",
          "x": 0.36250000000000004,
          "xanchor": "center",
          "xref": "paper",
          "y": 1,
          "yanchor": "bottom",
          "yref": "paper"
         }
        ],
        "height": 325,
        "hoverlabel": {
         "bgcolor": "white",
         "font": {
          "family": "Rockwell",
          "size": 16
         }
        },
        "showlegend": false,
        "template": {
         "data": {
          "bar": [
           {
            "error_x": {
             "color": "#2a3f5f"
            },
            "error_y": {
             "color": "#2a3f5f"
            },
            "marker": {
             "line": {
              "color": "white",
              "width": 0.5
             },
             "pattern": {
              "fillmode": "overlay",
              "size": 10,
              "solidity": 0.2
             }
            },
            "type": "bar"
           }
          ],
          "barpolar": [
           {
            "marker": {
             "line": {
              "color": "white",
              "width": 0.5
             },
             "pattern": {
              "fillmode": "overlay",
              "size": 10,
              "solidity": 0.2
             }
            },
            "type": "barpolar"
           }
          ],
          "carpet": [
           {
            "aaxis": {
             "endlinecolor": "#2a3f5f",
             "gridcolor": "#C8D4E3",
             "linecolor": "#C8D4E3",
             "minorgridcolor": "#C8D4E3",
             "startlinecolor": "#2a3f5f"
            },
            "baxis": {
             "endlinecolor": "#2a3f5f",
             "gridcolor": "#C8D4E3",
             "linecolor": "#C8D4E3",
             "minorgridcolor": "#C8D4E3",
             "startlinecolor": "#2a3f5f"
            },
            "type": "carpet"
           }
          ],
          "choropleth": [
           {
            "colorbar": {
             "outlinewidth": 0,
             "ticks": ""
            },
            "type": "choropleth"
           }
          ],
          "contour": [
           {
            "colorbar": {
             "outlinewidth": 0,
             "ticks": ""
            },
            "colorscale": [
             [
              0,
              "#0d0887"
             ],
             [
              0.1111111111111111,
              "#46039f"
             ],
             [
              0.2222222222222222,
              "#7201a8"
             ],
             [
              0.3333333333333333,
              "#9c179e"
             ],
             [
              0.4444444444444444,
              "#bd3786"
             ],
             [
              0.5555555555555556,
              "#d8576b"
             ],
             [
              0.6666666666666666,
              "#ed7953"
             ],
             [
              0.7777777777777778,
              "#fb9f3a"
             ],
             [
              0.8888888888888888,
              "#fdca26"
             ],
             [
              1,
              "#f0f921"
             ]
            ],
            "type": "contour"
           }
          ],
          "contourcarpet": [
           {
            "colorbar": {
             "outlinewidth": 0,
             "ticks": ""
            },
            "type": "contourcarpet"
           }
          ],
          "heatmap": [
           {
            "colorbar": {
             "outlinewidth": 0,
             "ticks": ""
            },
            "colorscale": [
             [
              0,
              "#0d0887"
             ],
             [
              0.1111111111111111,
              "#46039f"
             ],
             [
              0.2222222222222222,
              "#7201a8"
             ],
             [
              0.3333333333333333,
              "#9c179e"
             ],
             [
              0.4444444444444444,
              "#bd3786"
             ],
             [
              0.5555555555555556,
              "#d8576b"
             ],
             [
              0.6666666666666666,
              "#ed7953"
             ],
             [
              0.7777777777777778,
              "#fb9f3a"
             ],
             [
              0.8888888888888888,
              "#fdca26"
             ],
             [
              1,
              "#f0f921"
             ]
            ],
            "type": "heatmap"
           }
          ],
          "heatmapgl": [
           {
            "colorbar": {
             "outlinewidth": 0,
             "ticks": ""
            },
            "colorscale": [
             [
              0,
              "#0d0887"
             ],
             [
              0.1111111111111111,
              "#46039f"
             ],
             [
              0.2222222222222222,
              "#7201a8"
             ],
             [
              0.3333333333333333,
              "#9c179e"
             ],
             [
              0.4444444444444444,
              "#bd3786"
             ],
             [
              0.5555555555555556,
              "#d8576b"
             ],
             [
              0.6666666666666666,
              "#ed7953"
             ],
             [
              0.7777777777777778,
              "#fb9f3a"
             ],
             [
              0.8888888888888888,
              "#fdca26"
             ],
             [
              1,
              "#f0f921"
             ]
            ],
            "type": "heatmapgl"
           }
          ],
          "histogram": [
           {
            "marker": {
             "pattern": {
              "fillmode": "overlay",
              "size": 10,
              "solidity": 0.2
             }
            },
            "type": "histogram"
           }
          ],
          "histogram2d": [
           {
            "colorbar": {
             "outlinewidth": 0,
             "ticks": ""
            },
            "colorscale": [
             [
              0,
              "#0d0887"
             ],
             [
              0.1111111111111111,
              "#46039f"
             ],
             [
              0.2222222222222222,
              "#7201a8"
             ],
             [
              0.3333333333333333,
              "#9c179e"
             ],
             [
              0.4444444444444444,
              "#bd3786"
             ],
             [
              0.5555555555555556,
              "#d8576b"
             ],
             [
              0.6666666666666666,
              "#ed7953"
             ],
             [
              0.7777777777777778,
              "#fb9f3a"
             ],
             [
              0.8888888888888888,
              "#fdca26"
             ],
             [
              1,
              "#f0f921"
             ]
            ],
            "type": "histogram2d"
           }
          ],
          "histogram2dcontour": [
           {
            "colorbar": {
             "outlinewidth": 0,
             "ticks": ""
            },
            "colorscale": [
             [
              0,
              "#0d0887"
             ],
             [
              0.1111111111111111,
              "#46039f"
             ],
             [
              0.2222222222222222,
              "#7201a8"
             ],
             [
              0.3333333333333333,
              "#9c179e"
             ],
             [
              0.4444444444444444,
              "#bd3786"
             ],
             [
              0.5555555555555556,
              "#d8576b"
             ],
             [
              0.6666666666666666,
              "#ed7953"
             ],
             [
              0.7777777777777778,
              "#fb9f3a"
             ],
             [
              0.8888888888888888,
              "#fdca26"
             ],
             [
              1,
              "#f0f921"
             ]
            ],
            "type": "histogram2dcontour"
           }
          ],
          "mesh3d": [
           {
            "colorbar": {
             "outlinewidth": 0,
             "ticks": ""
            },
            "type": "mesh3d"
           }
          ],
          "parcoords": [
           {
            "line": {
             "colorbar": {
              "outlinewidth": 0,
              "ticks": ""
             }
            },
            "type": "parcoords"
           }
          ],
          "pie": [
           {
            "automargin": true,
            "type": "pie"
           }
          ],
          "scatter": [
           {
            "fillpattern": {
             "fillmode": "overlay",
             "size": 10,
             "solidity": 0.2
            },
            "type": "scatter"
           }
          ],
          "scatter3d": [
           {
            "line": {
             "colorbar": {
              "outlinewidth": 0,
              "ticks": ""
             }
            },
            "marker": {
             "colorbar": {
              "outlinewidth": 0,
              "ticks": ""
             }
            },
            "type": "scatter3d"
           }
          ],
          "scattercarpet": [
           {
            "marker": {
             "colorbar": {
              "outlinewidth": 0,
              "ticks": ""
             }
            },
            "type": "scattercarpet"
           }
          ],
          "scattergeo": [
           {
            "marker": {
             "colorbar": {
              "outlinewidth": 0,
              "ticks": ""
             }
            },
            "type": "scattergeo"
           }
          ],
          "scattergl": [
           {
            "marker": {
             "colorbar": {
              "outlinewidth": 0,
              "ticks": ""
             }
            },
            "type": "scattergl"
           }
          ],
          "scattermapbox": [
           {
            "marker": {
             "colorbar": {
              "outlinewidth": 0,
              "ticks": ""
             }
            },
            "type": "scattermapbox"
           }
          ],
          "scatterpolar": [
           {
            "marker": {
             "colorbar": {
              "outlinewidth": 0,
              "ticks": ""
             }
            },
            "type": "scatterpolar"
           }
          ],
          "scatterpolargl": [
           {
            "marker": {
             "colorbar": {
              "outlinewidth": 0,
              "ticks": ""
             }
            },
            "type": "scatterpolargl"
           }
          ],
          "scatterternary": [
           {
            "marker": {
             "colorbar": {
              "outlinewidth": 0,
              "ticks": ""
             }
            },
            "type": "scatterternary"
           }
          ],
          "surface": [
           {
            "colorbar": {
             "outlinewidth": 0,
             "ticks": ""
            },
            "colorscale": [
             [
              0,
              "#0d0887"
             ],
             [
              0.1111111111111111,
              "#46039f"
             ],
             [
              0.2222222222222222,
              "#7201a8"
             ],
             [
              0.3333333333333333,
              "#9c179e"
             ],
             [
              0.4444444444444444,
              "#bd3786"
             ],
             [
              0.5555555555555556,
              "#d8576b"
             ],
             [
              0.6666666666666666,
              "#ed7953"
             ],
             [
              0.7777777777777778,
              "#fb9f3a"
             ],
             [
              0.8888888888888888,
              "#fdca26"
             ],
             [
              1,
              "#f0f921"
             ]
            ],
            "type": "surface"
           }
          ],
          "table": [
           {
            "cells": {
             "fill": {
              "color": "#EBF0F8"
             },
             "line": {
              "color": "white"
             }
            },
            "header": {
             "fill": {
              "color": "#C8D4E3"
             },
             "line": {
              "color": "white"
             }
            },
            "type": "table"
           }
          ]
         },
         "layout": {
          "annotationdefaults": {
           "arrowcolor": "#2a3f5f",
           "arrowhead": 0,
           "arrowwidth": 1
          },
          "autotypenumbers": "strict",
          "coloraxis": {
           "colorbar": {
            "outlinewidth": 0,
            "ticks": ""
           }
          },
          "colorscale": {
           "diverging": [
            [
             0,
             "#8e0152"
            ],
            [
             0.1,
             "#c51b7d"
            ],
            [
             0.2,
             "#de77ae"
            ],
            [
             0.3,
             "#f1b6da"
            ],
            [
             0.4,
             "#fde0ef"
            ],
            [
             0.5,
             "#f7f7f7"
            ],
            [
             0.6,
             "#e6f5d0"
            ],
            [
             0.7,
             "#b8e186"
            ],
            [
             0.8,
             "#7fbc41"
            ],
            [
             0.9,
             "#4d9221"
            ],
            [
             1,
             "#276419"
            ]
           ],
           "sequential": [
            [
             0,
             "#0d0887"
            ],
            [
             0.1111111111111111,
             "#46039f"
            ],
            [
             0.2222222222222222,
             "#7201a8"
            ],
            [
             0.3333333333333333,
             "#9c179e"
            ],
            [
             0.4444444444444444,
             "#bd3786"
            ],
            [
             0.5555555555555556,
             "#d8576b"
            ],
            [
             0.6666666666666666,
             "#ed7953"
            ],
            [
             0.7777777777777778,
             "#fb9f3a"
            ],
            [
             0.8888888888888888,
             "#fdca26"
            ],
            [
             1,
             "#f0f921"
            ]
           ],
           "sequentialminus": [
            [
             0,
             "#0d0887"
            ],
            [
             0.1111111111111111,
             "#46039f"
            ],
            [
             0.2222222222222222,
             "#7201a8"
            ],
            [
             0.3333333333333333,
             "#9c179e"
            ],
            [
             0.4444444444444444,
             "#bd3786"
            ],
            [
             0.5555555555555556,
             "#d8576b"
            ],
            [
             0.6666666666666666,
             "#ed7953"
            ],
            [
             0.7777777777777778,
             "#fb9f3a"
            ],
            [
             0.8888888888888888,
             "#fdca26"
            ],
            [
             1,
             "#f0f921"
            ]
           ]
          },
          "colorway": [
           "#636efa",
           "#EF553B",
           "#00cc96",
           "#ab63fa",
           "#FFA15A",
           "#19d3f3",
           "#FF6692",
           "#B6E880",
           "#FF97FF",
           "#FECB52"
          ],
          "font": {
           "color": "#2a3f5f"
          },
          "geo": {
           "bgcolor": "white",
           "lakecolor": "white",
           "landcolor": "white",
           "showlakes": true,
           "showland": true,
           "subunitcolor": "#C8D4E3"
          },
          "hoverlabel": {
           "align": "left"
          },
          "hovermode": "closest",
          "mapbox": {
           "style": "light"
          },
          "paper_bgcolor": "white",
          "plot_bgcolor": "white",
          "polar": {
           "angularaxis": {
            "gridcolor": "#EBF0F8",
            "linecolor": "#EBF0F8",
            "ticks": ""
           },
           "bgcolor": "white",
           "radialaxis": {
            "gridcolor": "#EBF0F8",
            "linecolor": "#EBF0F8",
            "ticks": ""
           }
          },
          "scene": {
           "xaxis": {
            "backgroundcolor": "white",
            "gridcolor": "#DFE8F3",
            "gridwidth": 2,
            "linecolor": "#EBF0F8",
            "showbackground": true,
            "ticks": "",
            "zerolinecolor": "#EBF0F8"
           },
           "yaxis": {
            "backgroundcolor": "white",
            "gridcolor": "#DFE8F3",
            "gridwidth": 2,
            "linecolor": "#EBF0F8",
            "showbackground": true,
            "ticks": "",
            "zerolinecolor": "#EBF0F8"
           },
           "zaxis": {
            "backgroundcolor": "white",
            "gridcolor": "#DFE8F3",
            "gridwidth": 2,
            "linecolor": "#EBF0F8",
            "showbackground": true,
            "ticks": "",
            "zerolinecolor": "#EBF0F8"
           }
          },
          "shapedefaults": {
           "line": {
            "color": "#2a3f5f"
           }
          },
          "ternary": {
           "aaxis": {
            "gridcolor": "#DFE8F3",
            "linecolor": "#A2B1C6",
            "ticks": ""
           },
           "baxis": {
            "gridcolor": "#DFE8F3",
            "linecolor": "#A2B1C6",
            "ticks": ""
           },
           "bgcolor": "white",
           "caxis": {
            "gridcolor": "#DFE8F3",
            "linecolor": "#A2B1C6",
            "ticks": ""
           }
          },
          "title": {
           "x": 0.05
          },
          "xaxis": {
           "automargin": true,
           "gridcolor": "#EBF0F8",
           "linecolor": "#EBF0F8",
           "ticks": "",
           "title": {
            "standoff": 15
           },
           "zerolinecolor": "#EBF0F8",
           "zerolinewidth": 2
          },
          "yaxis": {
           "automargin": true,
           "gridcolor": "#EBF0F8",
           "linecolor": "#EBF0F8",
           "ticks": "",
           "title": {
            "standoff": 15
           },
           "zerolinecolor": "#EBF0F8",
           "zerolinewidth": 2
          }
         }
        },
        "title": {
         "font": {
          "color": "Black",
          "size": 22
         },
         "text": "Topic Word Scores",
         "x": 0.5,
         "xanchor": "center",
         "yanchor": "top"
        },
        "width": 1000,
        "xaxis": {
         "anchor": "y",
         "autorange": true,
         "domain": [
          0,
          0.175
         ],
         "range": [
          0,
          0.19533889426044737
         ],
         "showgrid": true,
         "type": "linear"
        },
        "xaxis2": {
         "anchor": "y2",
         "autorange": true,
         "domain": [
          0.275,
          0.45
         ],
         "range": [
          0,
          0.16986387766306207
         ],
         "showgrid": true,
         "type": "linear"
        },
        "xaxis3": {
         "anchor": "y3",
         "domain": [
          0.55,
          0.7250000000000001
         ],
         "showgrid": true
        },
        "xaxis4": {
         "anchor": "y4",
         "domain": [
          0.825,
          1
         ],
         "showgrid": true
        },
        "yaxis": {
         "anchor": "x",
         "autorange": true,
         "domain": [
          0,
          1
         ],
         "range": [
          -0.5,
          4.5
         ],
         "showgrid": true,
         "type": "category"
        },
        "yaxis2": {
         "anchor": "x2",
         "autorange": true,
         "domain": [
          0,
          1
         ],
         "range": [
          -0.5,
          4.5
         ],
         "showgrid": true,
         "type": "category"
        },
        "yaxis3": {
         "anchor": "x3",
         "domain": [
          0,
          1
         ],
         "showgrid": true
        },
        "yaxis4": {
         "anchor": "x4",
         "domain": [
          0,
          1
         ],
         "showgrid": true
        }
       }
      },
      "image/png": "[encoded data removed]",
      "text/html": [
       "<div>                            <div id=\"acb5cef3-fdec-4016-9be9-20c45f48e656\" class=\"plotly-graph-div\" style=\"height:325.0px; width:1000px;\"></div>            <script type=\"text/javascript\">                require([\"plotly\"], function(Plotly) {                    window.PLOTLYENV=window.PLOTLYENV || {};                                    if (document.getElementById(\"acb5cef3-fdec-4016-9be9-20c45f48e656\")) {                    Plotly.newPlot(                        \"acb5cef3-fdec-4016-9be9-20c45f48e656\",                        [{\"marker\":{\"color\":\"#D55E00\"},\"orientation\":\"h\",\"x\":[0.10769618226719102,0.12744200481086917,0.14116771212191778,0.1855492620416606,0.185571949547425],\"y\":[\"background  \",\"man  \",\"wearing  \",\"old  \",\"woman  \"],\"type\":\"bar\",\"xaxis\":\"x\",\"yaxis\":\"y\"},{\"marker\":{\"color\":\"#0072B2\"},\"orientation\":\"h\",\"x\":[0.1339487803272602,0.14670794531676112,0.14670794531676112,0.14670794531676112,0.16137068377990896],\"y\":[\"mountains  \",\"volcanos  \",\"forests  \",\"oceans  \",\"big  \"],\"type\":\"bar\",\"xaxis\":\"x2\",\"yaxis\":\"y2\"}],                        {\"template\":{\"data\":{\"barpolar\":[{\"marker\":{\"line\":{\"color\":\"white\",\"width\":0.5},\"pattern\":{\"fillmode\":\"overlay\",\"size\":10,\"solidity\":0.2}},\"type\":\"barpolar\"}],\"bar\":[{\"error_x\":{\"color\":\"#2a3f5f\"},\"error_y\":{\"color\":\"#2a3f5f\"},\"marker\":{\"line\":{\"color\":\"white\",\"width\":0.5},\"pattern\":{\"fillmode\":\"overlay\",\"size\":10,\"solidity\":0.2}},\"type\":\"bar\"}],\"carpet\":[{\"aaxis\":{\"endlinecolor\":\"#2a3f5f\",\"gridcolor\":\"#C8D4E3\",\"linecolor\":\"#C8D4E3\",\"minorgridcolor\":\"#C8D4E3\",\"startlinecolor\":\"#2a3f5f\"},\"baxis\":{\"endlinecolor\":\"#2a3f5f\",\"gridcolor\":\"#C8D4E3\",\"linecolor\":\"#C8D4E3\",\"minorgridcolor\":\"#C8D4E3\",\"startlinecolor\":\"#2a3f5f\"},\"type\":\"carpet\"}],\"choropleth\":[{\"colorbar\":{\"outlinewidth\":0,\"ticks\":\"\"},\"type\":\"choropleth\"}],\"contourcarpet\":[{\"colorbar\":{\"outlinewidth\":0,\"ticks\":\"\"},\"type\":\"contourcarpet\"}],\"contour\":[{\"colorbar\":{\"outlinewidth\":0,\"ticks\":\"\"},\"colorscale\":[[0.0,\"#0d0887\"],[0.1111111111111111,\"#46039f\"],[0.2222222222222222,\"#7201a8\"],[0.3333333333333333,\"#9c179e\"],[0.4444444444444444,\"#bd3786\"],[0.5555555555555556,\"#d8576b\"],[0.6666666666666666,\"#ed7953\"],[0.7777777777777778,\"#fb9f3a\"],[0.8888888888888888,\"#fdca26\"],[1.0,\"#f0f921\"]],\"type\":\"contour\"}],\"heatmapgl\":[{\"colorbar\":{\"outlinewidth\":0,\"ticks\":\"\"},\"colorscale\":[[0.0,\"#0d0887\"],[0.1111111111111111,\"#46039f\"],[0.2222222222222222,\"#7201a8\"],[0.3333333333333333,\"#9c179e\"],[0.4444444444444444,\"#bd3786\"],[0.5555555555555556,\"#d8576b\"],[0.6666666666666666,\"#ed7953\"],[0.7777777777777778,\"#fb9f3a\"],[0.8888888888888888,\"#fdca26\"],[1.0,\"#f0f921\"]],\"type\":\"heatmapgl\"}],\"heatmap\":[{\"colorbar\":{\"outlinewidth\":0,\"ticks\":\"\"},\"colorscale\":[[0.0,\"#0d0887\"],[0.1111111111111111,\"#46039f\"],[0.2222222222222222,\"#7201a8\"],[0.3333333333333333,\"#9c179e\"],[0.4444444444444444,\"#bd3786\"],[0.5555555555555556,\"#d8576b\"],[0.6666666666666666,\"#ed7953\"],[0.7777777777777778,\"#fb9f3a\"],[0.8888888888888888,\"#fdca26\"],[1.0,\"#f0f921\"]],\"type\":\"heatmap\"}],\"histogram2dcontour\":[{\"colorbar\":{\"outlinewidth\":0,\"ticks\":\"\"},\"colorscale\":[[0.0,\"#0d0887\"],[0.1111111111111111,\"#46039f\"],[0.2222222222222222,\"#7201a8\"],[0.3333333333333333,\"#9c179e\"],[0.4444444444444444,\"#bd3786\"],[0.5555555555555556,\"#d8576b\"],[0.6666666666666666,\"#ed7953\"],[0.7777777777777778,\"#fb9f3a\"],[0.8888888888888888,\"#fdca26\"],[1.0,\"#f0f921\"]],\"type\":\"histogram2dcontour\"}],\"histogram2d\":[{\"colorbar\":{\"outlinewidth\":0,\"ticks\":\"\"},\"colorscale\":[[0.0,\"#0d0887\"],[0.1111111111111111,\"#46039f\"],[0.2222222222222222,\"#7201a8\"],[0.3333333333333333,\"#9c179e\"],[0.4444444444444444,\"#bd3786\"],[0.5555555555555556,\"#d8576b\"],[0.6666666666666666,\"#ed7953\"],[0.7777777777777778,\"#fb9f3a\"],[0.8888888888888888,\"#fdca26\"],[1.0,\"#f0f921\"]],\"type\":\"histogram2d\"}],\"histogram\":[{\"marker\":{\"pattern\":{\"fillmode\":\"overlay\",\"size\":10,\"solidity\":0.2}},\"type\":\"histogram\"}],\"mesh3d\":[{\"colorbar\":{\"outlinewidth\":0,\"ticks\":\"\"},\"type\":\"mesh3d\"}],\"parcoords\":[{\"line\":{\"colorbar\":{\"outlinewidth\":0,\"ticks\":\"\"}},\"type\":\"parcoords\"}],\"pie\":[{\"automargin\":true,\"type\":\"pie\"}],\"scatter3d\":[{\"line\":{\"colorbar\":{\"outlinewidth\":0,\"ticks\":\"\"}},\"marker\":{\"colorbar\":{\"outlinewidth\":0,\"ticks\":\"\"}},\"type\":\"scatter3d\"}],\"scattercarpet\":[{\"marker\":{\"colorbar\":{\"outlinewidth\":0,\"ticks\":\"\"}},\"type\":\"scattercarpet\"}],\"scattergeo\":[{\"marker\":{\"colorbar\":{\"outlinewidth\":0,\"ticks\":\"\"}},\"type\":\"scattergeo\"}],\"scattergl\":[{\"marker\":{\"colorbar\":{\"outlinewidth\":0,\"ticks\":\"\"}},\"type\":\"scattergl\"}],\"scattermapbox\":[{\"marker\":{\"colorbar\":{\"outlinewidth\":0,\"ticks\":\"\"}},\"type\":\"scattermapbox\"}],\"scatterpolargl\":[{\"marker\":{\"colorbar\":{\"outlinewidth\":0,\"ticks\":\"\"}},\"type\":\"scatterpolargl\"}],\"scatterpolar\":[{\"marker\":{\"colorbar\":{\"outlinewidth\":0,\"ticks\":\"\"}},\"type\":\"scatterpolar\"}],\"scatter\":[{\"fillpattern\":{\"fillmode\":\"overlay\",\"size\":10,\"solidity\":0.2},\"type\":\"scatter\"}],\"scatterternary\":[{\"marker\":{\"colorbar\":{\"outlinewidth\":0,\"ticks\":\"\"}},\"type\":\"scatterternary\"}],\"surface\":[{\"colorbar\":{\"outlinewidth\":0,\"ticks\":\"\"},\"colorscale\":[[0.0,\"#0d0887\"],[0.1111111111111111,\"#46039f\"],[0.2222222222222222,\"#7201a8\"],[0.3333333333333333,\"#9c179e\"],[0.4444444444444444,\"#bd3786\"],[0.5555555555555556,\"#d8576b\"],[0.6666666666666666,\"#ed7953\"],[0.7777777777777778,\"#fb9f3a\"],[0.8888888888888888,\"#fdca26\"],[1.0,\"#f0f921\"]],\"type\":\"surface\"}],\"table\":[{\"cells\":{\"fill\":{\"color\":\"#EBF0F8\"},\"line\":{\"color\":\"white\"}},\"header\":{\"fill\":{\"color\":\"#C8D4E3\"},\"line\":{\"color\":\"white\"}},\"type\":\"table\"}]},\"layout\":{\"annotationdefaults\":{\"arrowcolor\":\"#2a3f5f\",\"arrowhead\":0,\"arrowwidth\":1},\"autotypenumbers\":\"strict\",\"coloraxis\":{\"colorbar\":{\"outlinewidth\":0,\"ticks\":\"\"}},\"colorscale\":{\"diverging\":[[0,\"#8e0152\"],[0.1,\"#c51b7d\"],[0.2,\"#de77ae\"],[0.3,\"#f1b6da\"],[0.4,\"#fde0ef\"],[0.5,\"#f7f7f7\"],[0.6,\"#e6f5d0\"],[0.7,\"#b8e186\"],[0.8,\"#7fbc41\"],[0.9,\"#4d9221\"],[1,\"#276419\"]],\"sequential\":[[0.0,\"#0d0887\"],[0.1111111111111111,\"#46039f\"],[0.2222222222222222,\"#7201a8\"],[0.3333333333333333,\"#9c179e\"],[0.4444444444444444,\"#bd3786\"],[0.5555555555555556,\"#d8576b\"],[0.6666666666666666,\"#ed7953\"],[0.7777777777777778,\"#fb9f3a\"],[0.8888888888888888,\"#fdca26\"],[1.0,\"#f0f921\"]],\"sequentialminus\":[[0.0,\"#0d0887\"],[0.1111111111111111,\"#46039f\"],[0.2222222222222222,\"#7201a8\"],[0.3333333333333333,\"#9c179e\"],[0.4444444444444444,\"#bd3786\"],[0.5555555555555556,\"#d8576b\"],[0.6666666666666666,\"#ed7953\"],[0.7777777777777778,\"#fb9f3a\"],[0.8888888888888888,\"#fdca26\"],[1.0,\"#f0f921\"]]},\"colorway\":[\"#636efa\",\"#EF553B\",\"#00cc96\",\"#ab63fa\",\"#FFA15A\",\"#19d3f3\",\"#FF6692\",\"#B6E880\",\"#FF97FF\",\"#FECB52\"],\"font\":{\"color\":\"#2a3f5f\"},\"geo\":{\"bgcolor\":\"white\",\"lakecolor\":\"white\",\"landcolor\":\"white\",\"showlakes\":true,\"showland\":true,\"subunitcolor\":\"#C8D4E3\"},\"hoverlabel\":{\"align\":\"left\"},\"hovermode\":\"closest\",\"mapbox\":{\"style\":\"light\"},\"paper_bgcolor\":\"white\",\"plot_bgcolor\":\"white\",\"polar\":{\"angularaxis\":{\"gridcolor\":\"#EBF0F8\",\"linecolor\":\"#EBF0F8\",\"ticks\":\"\"},\"bgcolor\":\"white\",\"radialaxis\":{\"gridcolor\":\"#EBF0F8\",\"linecolor\":\"#EBF0F8\",\"ticks\":\"\"}},\"scene\":{\"xaxis\":{\"backgroundcolor\":\"white\",\"gridcolor\":\"#DFE8F3\",\"gridwidth\":2,\"linecolor\":\"#EBF0F8\",\"showbackground\":true,\"ticks\":\"\",\"zerolinecolor\":\"#EBF0F8\"},\"yaxis\":{\"backgroundcolor\":\"white\",\"gridcolor\":\"#DFE8F3\",\"gridwidth\":2,\"linecolor\":\"#EBF0F8\",\"showbackground\":true,\"ticks\":\"\",\"zerolinecolor\":\"#EBF0F8\"},\"zaxis\":{\"backgroundcolor\":\"white\",\"gridcolor\":\"#DFE8F3\",\"gridwidth\":2,\"linecolor\":\"#EBF0F8\",\"showbackground\":true,\"ticks\":\"\",\"zerolinecolor\":\"#EBF0F8\"}},\"shapedefaults\":{\"line\":{\"color\":\"#2a3f5f\"}},\"ternary\":{\"aaxis\":{\"gridcolor\":\"#DFE8F3\",\"linecolor\":\"#A2B1C6\",\"ticks\":\"\"},\"baxis\":{\"gridcolor\":\"#DFE8F3\",\"linecolor\":\"#A2B1C6\",\"ticks\":\"\"},\"bgcolor\":\"white\",\"caxis\":{\"gridcolor\":\"#DFE8F3\",\"linecolor\":\"#A2B1C6\",\"ticks\":\"\"}},\"title\":{\"x\":0.05},\"xaxis\":{\"automargin\":true,\"gridcolor\":\"#EBF0F8\",\"linecolor\":\"#EBF0F8\",\"ticks\":\"\",\"title\":{\"standoff\":15},\"zerolinecolor\":\"#EBF0F8\",\"zerolinewidth\":2},\"yaxis\":{\"automargin\":true,\"gridcolor\":\"#EBF0F8\",\"linecolor\":\"#EBF0F8\",\"ticks\":\"\",\"title\":{\"standoff\":15},\"zerolinecolor\":\"#EBF0F8\",\"zerolinewidth\":2}}},\"xaxis\":{\"anchor\":\"y\",\"domain\":[0.0,0.175],\"showgrid\":true},\"yaxis\":{\"anchor\":\"x\",\"domain\":[0.0,1.0],\"showgrid\":true},\"xaxis2\":{\"anchor\":\"y2\",\"domain\":[0.275,0.45],\"showgrid\":true},\"yaxis2\":{\"anchor\":\"x2\",\"domain\":[0.0,1.0],\"showgrid\":true},\"xaxis3\":{\"anchor\":\"y3\",\"domain\":[0.55,0.7250000000000001],\"showgrid\":true},\"yaxis3\":{\"anchor\":\"x3\",\"domain\":[0.0,1.0],\"showgrid\":true},\"xaxis4\":{\"anchor\":\"y4\",\"domain\":[0.825,1.0],\"showgrid\":true},\"yaxis4\":{\"anchor\":\"x4\",\"domain\":[0.0,1.0],\"showgrid\":true},\"annotations\":[{\"font\":{\"size\":16},\"showarrow\":false,\"text\":\"Topic 0\",\"x\":0.0875,\"xanchor\":\"center\",\"xref\":\"paper\",\"y\":1.0,\"yanchor\":\"bottom\",\"yref\":\"paper\"},{\"font\":{\"size\":16},\"showarrow\":false,\"text\":\"Topic 1\",\"x\":0.36250000000000004,\"xanchor\":\"center\",\"xref\":\"paper\",\"y\":1.0,\"yanchor\":\"bottom\",\"yref\":\"paper\"}],\"title\":{\"font\":{\"size\":22,\"color\":\"Black\"},\"text\":\"Topic Word Scores\",\"x\":0.5,\"xanchor\":\"center\",\"yanchor\":\"top\"},\"hoverlabel\":{\"font\":{\"size\":16,\"family\":\"Rockwell\"},\"bgcolor\":\"white\"},\"showlegend\":false,\"width\":1000,\"height\":325.0},                        {\"responsive\": true}                    ).then(function(){\n",
       "                            \n",
       "var gd = document.getElementById('acb5cef3-fdec-4016-9be9-20c45f48e656');\n",
       "var x = new MutationObserver(function (mutations, observer) {{\n",
       "        var display = window.getComputedStyle(gd).display;\n",
       "        if (!display || display === 'none') {{\n",
       "            console.log([gd, 'removed!']);\n",
       "            Plotly.purge(gd);\n",
       "            observer.disconnect();\n",
       "        }}\n",
       "}});\n",
       "\n",
       "// Listen for the removal of the full notebook cells\n",
       "var notebookContainer = gd.closest('#notebook-container');\n",
       "if (notebookContainer) {{\n",
       "    x.observe(notebookContainer, {childList: true});\n",
       "}}\n",
       "\n",
       "// Listen for the clearing of the current output cell\n",
       "var outputEl = gd.closest('.output');\n",
       "if (outputEl) {{\n",
       "    x.observe(outputEl, {childList: true});\n",
       "}}\n",
       "\n",
       "                        })                };                });            </script>        </div>"
      ]
     },
     "metadata": {},
     "output_type": "display_data"
    }
   ],
   "source": [
    "topic_model.visualize_barchart()"
   ]
  },
  {
   "cell_type": "code",
   "execution_count": 23,
   "id": "dd059e44-2498-4716-b049-69ecb41474df",
   "metadata": {},
   "outputs": [
    {
     "data": {
      "application/vnd.plotly.v1+json": {
       "config": {
        "plotlyServerURL": "https://plot.ly"
       },
       "data": [
        {
         "hoverinfo": "text",
         "hovertext": [
          null
         ],
         "marker": {
          "color": "#CFD8DC",
          "opacity": 0.5,
          "size": 5
         },
         "mode": "markers+text",
         "name": "other",
         "showlegend": false,
         "type": "scattergl",
         "x": [
          null
         ],
         "y": [
          null
         ]
        },
        {
         "hoverinfo": "text",
         "hovertext": [
          "nice grandma in the car in the forest",
          "jungle trees plants",
          "old woman hiking on giant map of USA, hyper realistic style",
          "tiny old woman in the huge forest",
          "hiking boots next to slippers, photo realistic",
          "grandma in the car in the forest eating a hamburger",
          "grandma in the car in the forest eating a hamburger birds",
          "a 90 year old old woman wearing a flower dress and glasses and a man wearing a blue jeans and a red shirt, green forrest and mountains in the background, sunny weather, picture in the style of a vincent van gogh painting",
          "huge forest",
          "grandma in the car at night",
          "old woman hiking on giant map of USA",
          "many trees plants landscape",
          "tiny old woman huge forest",
          "tiny nice grandma in the car in the huge forest",
          "old woman in hiking gear",
          "an old woman wearing a flower dress and glasses standing in a big forrest next to one tree and looking up, an adult man standing next to the old woman and also looking up, a lake blurry in the background, suny weather",
          "hiking boots next to bed, photo realistic",
          "old woman and young man together next to each other",
          "old woman in hiking gear on old photo",
          "old woman and man in hiking gear on old photo",
          "jungle many trees plants",
          "a 90 year old old woman wearing a flower dress and glasses, green forrest and mountains in the background, sunny weather, picture in the style of a vincent van gogh painting",
          "grandma in the car in the mountains eating a sandwich",
          "a 90 year old old woman wearing a flower dress and glasses and a man wearing a blue jeans and a red shirt, green forrest and mountains in the background, sunny weather, vincent van gogh style",
          "hiking boots standing next to tea table, hyper realistic style",
          "grandma in the car in the mountains",
          "two persons, old woman and young man",
          "Old woman and middle aged man hiking together through nature, holding hands",
          "red forrest in the usa with big trees, a grandma standing next to one tree an looking up, an adult man standing next to the old woman and also looking up",
          "many trees plants landscape friendly old woman",
          "two persons in the picture, an old woman wearing a flower dress and glasses standing next to an adult man wearing a blue jeans and a shirt, a lake blurry in the background, suny weather",
          "a 90 year old old woman wearing a flower dress and glasses and a man wearing a blue jeans and a red shirt, green forrest and mountains in the background, sunny weather,painting in the style of monet",
          "Old woman smiling happy in nature",
          "an old woman wearing a flower dress and glasses, a young man wearing a blue jeans and a shirt, a lake blurry in the background, sunny weather, blue sky, trees in the background",
          "a 90 year old old woman wearing a flower dress and glasses, a man wearing a blue jeans and a shirt, green forrest and mountains in the background, sunny weather",
          "grandma in the car in the forest eating a sandwich",
          "a group of people standing in a forrest, a lake blurry in the background, sunny weather",
          "an old woman wearing a flower dress and glasses, a man wearing a blue jeans and a shirt, a lake blurry in the background, sunny weather",
          "Old woman smiling happy with grandson on her side",
          "an old woman wearing a flower dress and glasses, a man wearing a blue jeans and a shirt, a lake blurry in the background, sunny weather, blue sky, trees in the background",
          "jungle",
          "an old woman wearing a flower dress and glasses standing next to an adult man wearing a blue jeans and a shirt, a lake blurry in the background, suny weather",
          "hiking boots standing in old persons home, hyper realistic style",
          "old woman and man in hiking gear on old photo",
          "Old woman smiling happy in nature with grandson on her side",
          "an old woman wearing a flower dress and glasses standing next to a man wearing a blue jeans and a shirt, a lake blurry in the background, sunny weather",
          "grandma in the forest birds",
          "grandmother and grandson smiling",
          "grandma in the car in the forest birds",
          "map of the USA",
          "collection of photos",
          "hiking boots standing next to tea table",
          "jungle many trees plants landscape",
          "old woman looking at map of the USA",
          "man and woman portrait",
          "Old woman and young man hiking together through nature, holding hands",
          "many trees plants landscape old woman",
          null
         ],
         "marker": {
          "opacity": 0.5,
          "size": 5
         },
         "mode": "markers+text",
         "name": "0_woman_old_wearing",
         "text": [
          "",
          "",
          "",
          "",
          "",
          "",
          "",
          "",
          "",
          "",
          "",
          "",
          "",
          "",
          "",
          "",
          "",
          "",
          "",
          "",
          "",
          "",
          "",
          "",
          "",
          "",
          "",
          "",
          "",
          "",
          "",
          "",
          "",
          "",
          "",
          "",
          "",
          "",
          "",
          "",
          "",
          "",
          "",
          "",
          "",
          "",
          "",
          "",
          "",
          "",
          "",
          "",
          "",
          "",
          "",
          "",
          "",
          "0_woman_old_wearing"
         ],
         "textfont": {
          "size": 12
         },
         "type": "scattergl",
         "x": [
          8.99651050567627,
          8.504467964172363,
          12.290144920349121,
          9.075132369995117,
          13.368626594543457,
          9.222200393676758,
          9.28304672241211,
          11.742300033569336,
          8.944552421569824,
          9.304628372192383,
          12.246126174926758,
          8.670330047607422,
          9.041668891906738,
          9.116154670715332,
          12.14079475402832,
          10.672652244567871,
          13.18791675567627,
          11.829174041748047,
          12.418453216552734,
          12.413590431213379,
          8.534045219421387,
          11.72614860534668,
          9.396522521972656,
          11.781209945678711,
          13.453319549560547,
          9.260836601257324,
          11.951911926269531,
          12.079754829406738,
          8.95370101928711,
          8.96508502960205,
          10.665131568908691,
          11.914575576782227,
          10.383589744567871,
          10.985198020935059,
          11.567052841186523,
          9.362154960632324,
          10.683395385742188,
          10.855571746826172,
          10.441475868225098,
          10.944438934326172,
          8.444075584411621,
          10.723443984985352,
          13.38369083404541,
          12.322000503540039,
          10.491252899169922,
          10.585531234741211,
          9.042025566101074,
          10.32656478881836,
          9.192548751831055,
          12.323946952819824,
          13.02159309387207,
          13.49355411529541,
          8.563398361206055,
          12.174277305603027,
          12.014631271362305,
          12.080548286437988,
          8.902088165283203,
          10.762434959411621
         ],
         "y": [
          1.1630254983901978,
          3.2446863651275635,
          -0.592278003692627,
          2.0518746376037598,
          -1.6100566387176514,
          1.0789629220962524,
          1.2027963399887085,
          -3.2984156608581543,
          2.400698661804199,
          0.9279507398605347,
          -0.5148491859436035,
          3.0040040016174316,
          2.0960943698883057,
          1.5304899215698242,
          -0.7402805685997009,
          -2.3645150661468506,
          -1.5691989660263062,
          -1.8372037410736084,
          -0.958783745765686,
          -1.251577615737915,
          3.1468052864074707,
          -3.39192533493042,
          0.9581643342971802,
          -3.338029623031616,
          -1.4905797243118286,
          0.883206844329834,
          -2.0796260833740234,
          -1.4784345626831055,
          2.051898717880249,
          2.7695348262786865,
          -2.8344337940216064,
          -3.1879100799560547,
          0.14240290224552155,
          -3.019395589828491,
          -3.46718168258667,
          0.9957306981086731,
          -2.6383988857269287,
          -3.0057015419006348,
          0.05377507209777832,
          -2.9321959018707275,
          3.1889407634735107,
          -3.057295322418213,
          -1.6769802570343018,
          -1.1812973022460938,
          0.017657121643424034,
          -2.910835027694702,
          1.401404857635498,
          0.17297428846359253,
          1.318799614906311,
          -0.3338833153247833,
          -1.5719935894012451,
          -1.4359016418457031,
          3.1139233112335205,
          -0.43545567989349365,
          -2.4608089923858643,
          -1.4565962553024292,
          2.7384510040283203,
          -0.3941713571548462
         ]
        },
        {
         "hoverinfo": "text",
         "hovertext": [
          "an old lady siting on the shoulder of a boy, the whole world is surrounding them. Like a spider net. Mountains, volcanos, oceans, forests are all connected. It is their universe. No one else but the mix of the Mother Nature.",
          "hands, Mountains, volcanos, oceans, forests, deserts.",
          "surreal from the bird view. there are big hands, one big old hand and one small child hand, which are holding together. the whole big world is surrounding them. they are tiny in the middle. Mountains, volcanos, oceans, forests, deserts are all connected. It is their universe. No one else but the mix of the Mother Nature. make the result more realistic.",
          "surreal. two people, one is an old person and one is a kid. they have a car, the whole big world is surrounding them. they are tiny in the middle. Mountains, volcanos, oceans, forests, deserts are all connected. It is their universe. No one else but the mix of the Mother Nature. make the result more realistic.",
          "surreal from the bird view. there are one old hand and one young hand, which are holding together. the whole big world is surrounding them. they are tiny in the middle. Mountains, volcanos, oceans, forests, deserts are all connected. It is their universe. No one else but the mix of the Mother Nature. make the result more realistic.",
          "an old lady siting on the shoulder of a boy, they have the whole world surrounding them. Like a spider net. Mountains, volcanos, oceans, forests are all connected. It is their universe. No one else but the mix of the Mother Nature.",
          "surreal from the bird view. two people, one is an old person and one is a kid. they have a car, the whole big world is surrounding them. they are tiny in the middle. Mountains, volcanos, oceans, forests, deserts are all connected. It is their universe. No one else but the mix of the Mother Nature. make the result more realistic.",
          "surreal. an old person and a kid with a car, the whole big world is surrounding them. they are tiny in the middle. Mountains, volcanos, oceans, forests, deserts are all connected. It is their universe. No one else but the mix of the Mother Nature.",
          "hands, Mountains, volcanos, oceans, forests, deserts, all mixed together.",
          "surreal from the bird view. there are big hands, one big old hand and one small child hand, which are holding together. the whole big world is surrounding them. they are tiny in the middle. Mountains, volcanos, oceans, forests, deserts are all connected. It is their universe. No one else but the mix of the Mother Nature. be creative.",
          "hands, Mountains, volcanos, oceans, forests, deserts, all mixed together.",
          "surreal from the bird view. there are big hands, one big old hand and one small child hand, which are holding together. the whole big world is surrounding them. they are tiny in the middle. Mountains, volcanos, oceans, forests, deserts are all connected. It is their universe. No one else but the mix of the Mother Nature. be creative.",
          "surreal. an old lady is siting on the shoulder of a boy, the whole world is surrounding them. Like a spider net. Mountains, volcanos, oceans, forests are all connected. It is their universe. No one else but the mix of the Mother Nature.",
          "surreal from the bird view. there are big hands, one old hand and one young hand, which are holding together. the whole big world is surrounding them. they are tiny in the middle. Mountains, volcanos, oceans, forests, deserts are all connected. It is their universe. No one else but the mix of the Mother Nature. make the result more realistic.",
          "surreal from the bird view. there are big hands, one giant old hand and one tiny child hand. the whole big world is surrounding them. they are tiny in the middle. Mountains, volcanos, oceans, forests, deserts are all connected. It is their universe. No one else but the mix of the Mother Nature. be creative.",
          "surreal. an old person and a kid with a car, the whole big world is surrounding them. they are tiny in the middle. Mountains, volcanos, oceans, forests are all connected. It is their universe. No one else but the mix of the Mother Nature.",
          "surreal. an old lady is siting on the shoulder of a boy, the whole big world is surrounding them. they are tiny in the middle. Mountains, volcanos, oceans, forests are all connected. It is their universe. No one else but the mix of the Mother Nature.",
          "surreal. an old person and a kid with a car, the whole big world is surrounding them. they are tiny in the middle. Mountains, volcanos, oceans, forests, deserts are all connected. It is their universe. No one else but the mix of the Mother Nature. make the result more realistic.",
          "surreal. an old lady is siting on the shoulder of a boy, the whole big world is surrounding them. they are tiny in the middle. It is Like a spider net. Mountains, volcanos, oceans, forests are all connected. It is their universe. No one else but the mix of the Mother Nature.",
          "surreal from the bird view. there are big hands, one big old hand and one small child hand. the whole big world is surrounding them. they are tiny in the middle. Mountains, volcanos, oceans, forests, deserts are all connected. It is their universe. No one else but the mix of the Mother Nature. be creative.",
          "surreal. an old person and a kid with a car, the whole big world is surrounding them. they are tiny in the middle. Mountains, volcanos, oceans, forests, deserts are all connected. It is their universe. No one else but the mix of the Mother Nature. make the result more realistic.",
          null
         ],
         "marker": {
          "opacity": 0.5,
          "size": 5
         },
         "mode": "markers+text",
         "name": "1_big_oceans_forests",
         "text": [
          "",
          "",
          "",
          "",
          "",
          "",
          "",
          "",
          "",
          "",
          "",
          "",
          "",
          "",
          "",
          "",
          "",
          "",
          "",
          "",
          "",
          "1_big_oceans_forests"
         ],
         "textfont": {
          "size": 12
         },
         "type": "scattergl",
         "x": [
          -1.8770573139190674,
          -1.0611985921859741,
          -1.6992963552474976,
          -1.4102187156677246,
          -1.6171220541000366,
          -1.9763811826705933,
          -1.335510015487671,
          -1.5131314992904663,
          -1.0404561758041382,
          -1.8408100605010986,
          -1.0544570684432983,
          -1.9272894859313965,
          -1.9455081224441528,
          -1.4449924230575562,
          -1.9467496871948242,
          -1.6632076501846313,
          -1.9830496311187744,
          -1.4731528759002686,
          -1.8904889822006226,
          -1.8945540189743042,
          -1.452760100364685,
          -1.6213042736053467
         ],
         "y": [
          14.612771034240723,
          5.64378547668457,
          5.382421016693115,
          14.660005569458008,
          5.476002216339111,
          14.582463264465332,
          14.621590614318848,
          14.491287231445312,
          5.659634590148926,
          5.2555413246154785,
          5.691370487213135,
          5.166347980499268,
          14.403681755065918,
          5.491527557373047,
          5.151610851287842,
          14.694615364074707,
          14.380693435668945,
          14.860776901245117,
          14.433917045593262,
          5.203164100646973,
          14.696439743041992,
          10.21712589263916
         ]
        }
       ],
       "layout": {
        "annotations": [
         {
          "showarrow": false,
          "text": "D1",
          "x": -2.2805070757865904,
          "y": 6.551317250728608,
          "yshift": 10
         },
         {
          "showarrow": false,
          "text": "D2",
          "x": 6.6185400784015656,
          "xshift": 10,
          "y": 17.089893436431886
         }
        ],
        "height": 750,
        "shapes": [
         {
          "line": {
           "color": "#CFD8DC",
           "width": 2
          },
          "type": "line",
          "x0": 6.6185400784015656,
          "x1": 6.6185400784015656,
          "y0": -3.9872589349746703,
          "y1": 17.089893436431886
         },
         {
          "line": {
           "color": "#9E9E9E",
           "width": 2
          },
          "type": "line",
          "x0": -2.2805070757865904,
          "x1": 15.517587232589722,
          "y0": 6.551317250728608,
          "y1": 6.551317250728608
         }
        ],
        "template": {
         "data": {
          "bar": [
           {
            "error_x": {
             "color": "rgb(36,36,36)"
            },
            "error_y": {
             "color": "rgb(36,36,36)"
            },
            "marker": {
             "line": {
              "color": "white",
              "width": 0.5
             },
             "pattern": {
              "fillmode": "overlay",
              "size": 10,
              "solidity": 0.2
             }
            },
            "type": "bar"
           }
          ],
          "barpolar": [
           {
            "marker": {
             "line": {
              "color": "white",
              "width": 0.5
             },
             "pattern": {
              "fillmode": "overlay",
              "size": 10,
              "solidity": 0.2
             }
            },
            "type": "barpolar"
           }
          ],
          "carpet": [
           {
            "aaxis": {
             "endlinecolor": "rgb(36,36,36)",
             "gridcolor": "white",
             "linecolor": "white",
             "minorgridcolor": "white",
             "startlinecolor": "rgb(36,36,36)"
            },
            "baxis": {
             "endlinecolor": "rgb(36,36,36)",
             "gridcolor": "white",
             "linecolor": "white",
             "minorgridcolor": "white",
             "startlinecolor": "rgb(36,36,36)"
            },
            "type": "carpet"
           }
          ],
          "choropleth": [
           {
            "colorbar": {
             "outlinewidth": 1,
             "tickcolor": "rgb(36,36,36)",
             "ticks": "outside"
            },
            "type": "choropleth"
           }
          ],
          "contour": [
           {
            "colorbar": {
             "outlinewidth": 1,
             "tickcolor": "rgb(36,36,36)",
             "ticks": "outside"
            },
            "colorscale": [
             [
              0,
              "#440154"
             ],
             [
              0.1111111111111111,
              "#482878"
             ],
             [
              0.2222222222222222,
              "#3e4989"
             ],
             [
              0.3333333333333333,
              "#31688e"
             ],
             [
              0.4444444444444444,
              "#26828e"
             ],
             [
              0.5555555555555556,
              "#1f9e89"
             ],
             [
              0.6666666666666666,
              "#35b779"
             ],
             [
              0.7777777777777778,
              "#6ece58"
             ],
             [
              0.8888888888888888,
              "#b5de2b"
             ],
             [
              1,
              "#fde725"
             ]
            ],
            "type": "contour"
           }
          ],
          "contourcarpet": [
           {
            "colorbar": {
             "outlinewidth": 1,
             "tickcolor": "rgb(36,36,36)",
             "ticks": "outside"
            },
            "type": "contourcarpet"
           }
          ],
          "heatmap": [
           {
            "colorbar": {
             "outlinewidth": 1,
             "tickcolor": "rgb(36,36,36)",
             "ticks": "outside"
            },
            "colorscale": [
             [
              0,
              "#440154"
             ],
             [
              0.1111111111111111,
              "#482878"
             ],
             [
              0.2222222222222222,
              "#3e4989"
             ],
             [
              0.3333333333333333,
              "#31688e"
             ],
             [
              0.4444444444444444,
              "#26828e"
             ],
             [
              0.5555555555555556,
              "#1f9e89"
             ],
             [
              0.6666666666666666,
              "#35b779"
             ],
             [
              0.7777777777777778,
              "#6ece58"
             ],
             [
              0.8888888888888888,
              "#b5de2b"
             ],
             [
              1,
              "#fde725"
             ]
            ],
            "type": "heatmap"
           }
          ],
          "heatmapgl": [
           {
            "colorbar": {
             "outlinewidth": 1,
             "tickcolor": "rgb(36,36,36)",
             "ticks": "outside"
            },
            "colorscale": [
             [
              0,
              "#440154"
             ],
             [
              0.1111111111111111,
              "#482878"
             ],
             [
              0.2222222222222222,
              "#3e4989"
             ],
             [
              0.3333333333333333,
              "#31688e"
             ],
             [
              0.4444444444444444,
              "#26828e"
             ],
             [
              0.5555555555555556,
              "#1f9e89"
             ],
             [
              0.6666666666666666,
              "#35b779"
             ],
             [
              0.7777777777777778,
              "#6ece58"
             ],
             [
              0.8888888888888888,
              "#b5de2b"
             ],
             [
              1,
              "#fde725"
             ]
            ],
            "type": "heatmapgl"
           }
          ],
          "histogram": [
           {
            "marker": {
             "line": {
              "color": "white",
              "width": 0.6
             }
            },
            "type": "histogram"
           }
          ],
          "histogram2d": [
           {
            "colorbar": {
             "outlinewidth": 1,
             "tickcolor": "rgb(36,36,36)",
             "ticks": "outside"
            },
            "colorscale": [
             [
              0,
              "#440154"
             ],
             [
              0.1111111111111111,
              "#482878"
             ],
             [
              0.2222222222222222,
              "#3e4989"
             ],
             [
              0.3333333333333333,
              "#31688e"
             ],
             [
              0.4444444444444444,
              "#26828e"
             ],
             [
              0.5555555555555556,
              "#1f9e89"
             ],
             [
              0.6666666666666666,
              "#35b779"
             ],
             [
              0.7777777777777778,
              "#6ece58"
             ],
             [
              0.8888888888888888,
              "#b5de2b"
             ],
             [
              1,
              "#fde725"
             ]
            ],
            "type": "histogram2d"
           }
          ],
          "histogram2dcontour": [
           {
            "colorbar": {
             "outlinewidth": 1,
             "tickcolor": "rgb(36,36,36)",
             "ticks": "outside"
            },
            "colorscale": [
             [
              0,
              "#440154"
             ],
             [
              0.1111111111111111,
              "#482878"
             ],
             [
              0.2222222222222222,
              "#3e4989"
             ],
             [
              0.3333333333333333,
              "#31688e"
             ],
             [
              0.4444444444444444,
              "#26828e"
             ],
             [
              0.5555555555555556,
              "#1f9e89"
             ],
             [
              0.6666666666666666,
              "#35b779"
             ],
             [
              0.7777777777777778,
              "#6ece58"
             ],
             [
              0.8888888888888888,
              "#b5de2b"
             ],
             [
              1,
              "#fde725"
             ]
            ],
            "type": "histogram2dcontour"
           }
          ],
          "mesh3d": [
           {
            "colorbar": {
             "outlinewidth": 1,
             "tickcolor": "rgb(36,36,36)",
             "ticks": "outside"
            },
            "type": "mesh3d"
           }
          ],
          "parcoords": [
           {
            "line": {
             "colorbar": {
              "outlinewidth": 1,
              "tickcolor": "rgb(36,36,36)",
              "ticks": "outside"
             }
            },
            "type": "parcoords"
           }
          ],
          "pie": [
           {
            "automargin": true,
            "type": "pie"
           }
          ],
          "scatter": [
           {
            "fillpattern": {
             "fillmode": "overlay",
             "size": 10,
             "solidity": 0.2
            },
            "type": "scatter"
           }
          ],
          "scatter3d": [
           {
            "line": {
             "colorbar": {
              "outlinewidth": 1,
              "tickcolor": "rgb(36,36,36)",
              "ticks": "outside"
             }
            },
            "marker": {
             "colorbar": {
              "outlinewidth": 1,
              "tickcolor": "rgb(36,36,36)",
              "ticks": "outside"
             }
            },
            "type": "scatter3d"
           }
          ],
          "scattercarpet": [
           {
            "marker": {
             "colorbar": {
              "outlinewidth": 1,
              "tickcolor": "rgb(36,36,36)",
              "ticks": "outside"
             }
            },
            "type": "scattercarpet"
           }
          ],
          "scattergeo": [
           {
            "marker": {
             "colorbar": {
              "outlinewidth": 1,
              "tickcolor": "rgb(36,36,36)",
              "ticks": "outside"
             }
            },
            "type": "scattergeo"
           }
          ],
          "scattergl": [
           {
            "marker": {
             "colorbar": {
              "outlinewidth": 1,
              "tickcolor": "rgb(36,36,36)",
              "ticks": "outside"
             }
            },
            "type": "scattergl"
           }
          ],
          "scattermapbox": [
           {
            "marker": {
             "colorbar": {
              "outlinewidth": 1,
              "tickcolor": "rgb(36,36,36)",
              "ticks": "outside"
             }
            },
            "type": "scattermapbox"
           }
          ],
          "scatterpolar": [
           {
            "marker": {
             "colorbar": {
              "outlinewidth": 1,
              "tickcolor": "rgb(36,36,36)",
              "ticks": "outside"
             }
            },
            "type": "scatterpolar"
           }
          ],
          "scatterpolargl": [
           {
            "marker": {
             "colorbar": {
              "outlinewidth": 1,
              "tickcolor": "rgb(36,36,36)",
              "ticks": "outside"
             }
            },
            "type": "scatterpolargl"
           }
          ],
          "scatterternary": [
           {
            "marker": {
             "colorbar": {
              "outlinewidth": 1,
              "tickcolor": "rgb(36,36,36)",
              "ticks": "outside"
             }
            },
            "type": "scatterternary"
           }
          ],
          "surface": [
           {
            "colorbar": {
             "outlinewidth": 1,
             "tickcolor": "rgb(36,36,36)",
             "ticks": "outside"
            },
            "colorscale": [
             [
              0,
              "#440154"
             ],
             [
              0.1111111111111111,
              "#482878"
             ],
             [
              0.2222222222222222,
              "#3e4989"
             ],
             [
              0.3333333333333333,
              "#31688e"
             ],
             [
              0.4444444444444444,
              "#26828e"
             ],
             [
              0.5555555555555556,
              "#1f9e89"
             ],
             [
              0.6666666666666666,
              "#35b779"
             ],
             [
              0.7777777777777778,
              "#6ece58"
             ],
             [
              0.8888888888888888,
              "#b5de2b"
             ],
             [
              1,
              "#fde725"
             ]
            ],
            "type": "surface"
           }
          ],
          "table": [
           {
            "cells": {
             "fill": {
              "color": "rgb(237,237,237)"
             },
             "line": {
              "color": "white"
             }
            },
            "header": {
             "fill": {
              "color": "rgb(217,217,217)"
             },
             "line": {
              "color": "white"
             }
            },
            "type": "table"
           }
          ]
         },
         "layout": {
          "annotationdefaults": {
           "arrowhead": 0,
           "arrowwidth": 1
          },
          "autotypenumbers": "strict",
          "coloraxis": {
           "colorbar": {
            "outlinewidth": 1,
            "tickcolor": "rgb(36,36,36)",
            "ticks": "outside"
           }
          },
          "colorscale": {
           "diverging": [
            [
             0,
             "rgb(103,0,31)"
            ],
            [
             0.1,
             "rgb(178,24,43)"
            ],
            [
             0.2,
             "rgb(214,96,77)"
            ],
            [
             0.3,
             "rgb(244,165,130)"
            ],
            [
             0.4,
             "rgb(253,219,199)"
            ],
            [
             0.5,
             "rgb(247,247,247)"
            ],
            [
             0.6,
             "rgb(209,229,240)"
            ],
            [
             0.7,
             "rgb(146,197,222)"
            ],
            [
             0.8,
             "rgb(67,147,195)"
            ],
            [
             0.9,
             "rgb(33,102,172)"
            ],
            [
             1,
             "rgb(5,48,97)"
            ]
           ],
           "sequential": [
            [
             0,
             "#440154"
            ],
            [
             0.1111111111111111,
             "#482878"
            ],
            [
             0.2222222222222222,
             "#3e4989"
            ],
            [
             0.3333333333333333,
             "#31688e"
            ],
            [
             0.4444444444444444,
             "#26828e"
            ],
            [
             0.5555555555555556,
             "#1f9e89"
            ],
            [
             0.6666666666666666,
             "#35b779"
            ],
            [
             0.7777777777777778,
             "#6ece58"
            ],
            [
             0.8888888888888888,
             "#b5de2b"
            ],
            [
             1,
             "#fde725"
            ]
           ],
           "sequentialminus": [
            [
             0,
             "#440154"
            ],
            [
             0.1111111111111111,
             "#482878"
            ],
            [
             0.2222222222222222,
             "#3e4989"
            ],
            [
             0.3333333333333333,
             "#31688e"
            ],
            [
             0.4444444444444444,
             "#26828e"
            ],
            [
             0.5555555555555556,
             "#1f9e89"
            ],
            [
             0.6666666666666666,
             "#35b779"
            ],
            [
             0.7777777777777778,
             "#6ece58"
            ],
            [
             0.8888888888888888,
             "#b5de2b"
            ],
            [
             1,
             "#fde725"
            ]
           ]
          },
          "colorway": [
           "#1F77B4",
           "#FF7F0E",
           "#2CA02C",
           "#D62728",
           "#9467BD",
           "#8C564B",
           "#E377C2",
           "#7F7F7F",
           "#BCBD22",
           "#17BECF"
          ],
          "font": {
           "color": "rgb(36,36,36)"
          },
          "geo": {
           "bgcolor": "white",
           "lakecolor": "white",
           "landcolor": "white",
           "showlakes": true,
           "showland": true,
           "subunitcolor": "white"
          },
          "hoverlabel": {
           "align": "left"
          },
          "hovermode": "closest",
          "mapbox": {
           "style": "light"
          },
          "paper_bgcolor": "white",
          "plot_bgcolor": "white",
          "polar": {
           "angularaxis": {
            "gridcolor": "rgb(232,232,232)",
            "linecolor": "rgb(36,36,36)",
            "showgrid": false,
            "showline": true,
            "ticks": "outside"
           },
           "bgcolor": "white",
           "radialaxis": {
            "gridcolor": "rgb(232,232,232)",
            "linecolor": "rgb(36,36,36)",
            "showgrid": false,
            "showline": true,
            "ticks": "outside"
           }
          },
          "scene": {
           "xaxis": {
            "backgroundcolor": "white",
            "gridcolor": "rgb(232,232,232)",
            "gridwidth": 2,
            "linecolor": "rgb(36,36,36)",
            "showbackground": true,
            "showgrid": false,
            "showline": true,
            "ticks": "outside",
            "zeroline": false,
            "zerolinecolor": "rgb(36,36,36)"
           },
           "yaxis": {
            "backgroundcolor": "white",
            "gridcolor": "rgb(232,232,232)",
            "gridwidth": 2,
            "linecolor": "rgb(36,36,36)",
            "showbackground": true,
            "showgrid": false,
            "showline": true,
            "ticks": "outside",
            "zeroline": false,
            "zerolinecolor": "rgb(36,36,36)"
           },
           "zaxis": {
            "backgroundcolor": "white",
            "gridcolor": "rgb(232,232,232)",
            "gridwidth": 2,
            "linecolor": "rgb(36,36,36)",
            "showbackground": true,
            "showgrid": false,
            "showline": true,
            "ticks": "outside",
            "zeroline": false,
            "zerolinecolor": "rgb(36,36,36)"
           }
          },
          "shapedefaults": {
           "fillcolor": "black",
           "line": {
            "width": 0
           },
           "opacity": 0.3
          },
          "ternary": {
           "aaxis": {
            "gridcolor": "rgb(232,232,232)",
            "linecolor": "rgb(36,36,36)",
            "showgrid": false,
            "showline": true,
            "ticks": "outside"
           },
           "baxis": {
            "gridcolor": "rgb(232,232,232)",
            "linecolor": "rgb(36,36,36)",
            "showgrid": false,
            "showline": true,
            "ticks": "outside"
           },
           "bgcolor": "white",
           "caxis": {
            "gridcolor": "rgb(232,232,232)",
            "linecolor": "rgb(36,36,36)",
            "showgrid": false,
            "showline": true,
            "ticks": "outside"
           }
          },
          "title": {
           "x": 0.05
          },
          "xaxis": {
           "automargin": true,
           "gridcolor": "rgb(232,232,232)",
           "linecolor": "rgb(36,36,36)",
           "showgrid": false,
           "showline": true,
           "ticks": "outside",
           "title": {
            "standoff": 15
           },
           "zeroline": false,
           "zerolinecolor": "rgb(36,36,36)"
          },
          "yaxis": {
           "automargin": true,
           "gridcolor": "rgb(232,232,232)",
           "linecolor": "rgb(36,36,36)",
           "showgrid": false,
           "showline": true,
           "ticks": "outside",
           "title": {
            "standoff": 15
           },
           "zeroline": false,
           "zerolinecolor": "rgb(36,36,36)"
          }
         }
        },
        "title": {
         "font": {
          "color": "Black",
          "size": 22
         },
         "text": "<b>Documents and Topics</b>",
         "x": 0.5,
         "xanchor": "center",
         "yanchor": "top"
        },
        "width": 1200,
        "xaxis": {
         "autorange": true,
         "range": [
          -2.972493965122454,
          15.53804086223321
         ],
         "visible": false
        },
        "yaxis": {
         "autorange": true,
         "range": [
          -4.696427724919852,
          17.459153117132765
         ],
         "visible": false
        }
       }
      },
      "image/png": "[encoded data removed]",
      "text/html": [
       "<div>                            <div id=\"92b77989-0074-4842-8f9c-c7f5570fdf06\" class=\"plotly-graph-div\" style=\"height:750px; width:1200px;\"></div>            <script type=\"text/javascript\">                require([\"plotly\"], function(Plotly) {                    window.PLOTLYENV=window.PLOTLYENV || {};                                    if (document.getElementById(\"92b77989-0074-4842-8f9c-c7f5570fdf06\")) {                    Plotly.newPlot(                        \"92b77989-0074-4842-8f9c-c7f5570fdf06\",                        [{\"hoverinfo\":\"text\",\"hovertext\":[null],\"marker\":{\"color\":\"#CFD8DC\",\"opacity\":0.5,\"size\":5},\"mode\":\"markers+text\",\"name\":\"other\",\"showlegend\":false,\"x\":[null],\"y\":[null],\"type\":\"scattergl\"},{\"hoverinfo\":\"text\",\"hovertext\":[\"nice grandma in the car in the forest\",\"jungle trees plants\",\"old woman hiking on giant map of USA, hyper realistic style\",\"tiny old woman in the huge forest\",\"hiking boots next to slippers, photo realistic\",\"grandma in the car in the forest eating a hamburger\",\"grandma in the car in the forest eating a hamburger birds\",\"a 90 year old old woman wearing a flower dress and glasses and a man wearing a blue jeans and a red shirt, green forrest and mountains in the background, sunny weather, picture in the style of a vincent van gogh painting\",\"huge forest\",\"grandma in the car at night\",\"old woman hiking on giant map of USA\",\"many trees plants landscape\",\"tiny old woman huge forest\",\"tiny nice grandma in the car in the huge forest\",\"old woman in hiking gear\",\"an old woman wearing a flower dress and glasses standing in a big forrest next to one tree and looking up, an adult man standing next to the old woman and also looking up, a lake blurry in the background, suny weather\",\"hiking boots next to bed, photo realistic\",\"old woman and young man together next to each other\",\"old woman in hiking gear on old photo\",\"old woman and man in hiking gear on old photo\",\"jungle many trees plants\",\"a 90 year old old woman wearing a flower dress and glasses, green forrest and mountains in the background, sunny weather, picture in the style of a vincent van gogh painting\",\"grandma in the car in the mountains eating a sandwich\",\"a 90 year old old woman wearing a flower dress and glasses and a man wearing a blue jeans and a red shirt, green forrest and mountains in the background, sunny weather, vincent van gogh style\",\"hiking boots standing next to tea table, hyper realistic style\",\"grandma in the car in the mountains\",\"two persons, old woman and young man\",\"Old woman and middle aged man hiking together through nature, holding hands\",\"red forrest in the usa with big trees, a grandma standing next to one tree an looking up, an adult man standing next to the old woman and also looking up\",\"many trees plants landscape friendly old woman\",\"two persons in the picture, an old woman wearing a flower dress and glasses standing next to an adult man wearing a blue jeans and a shirt, a lake blurry in the background, suny weather\",\"a 90 year old old woman wearing a flower dress and glasses and a man wearing a blue jeans and a red shirt, green forrest and mountains in the background, sunny weather,painting in the style of monet\",\"Old woman smiling happy in nature\",\"an old woman wearing a flower dress and glasses, a young man wearing a blue jeans and a shirt, a lake blurry in the background, sunny weather, blue sky, trees in the background\",\"a 90 year old old woman wearing a flower dress and glasses, a man wearing a blue jeans and a shirt, green forrest and mountains in the background, sunny weather\",\"grandma in the car in the forest eating a sandwich\",\"a group of people standing in a forrest, a lake blurry in the background, sunny weather\",\"an old woman wearing a flower dress and glasses, a man wearing a blue jeans and a shirt, a lake blurry in the background, sunny weather\",\"Old woman smiling happy with grandson on her side\",\"an old woman wearing a flower dress and glasses, a man wearing a blue jeans and a shirt, a lake blurry in the background, sunny weather, blue sky, trees in the background\",\"jungle\",\"an old woman wearing a flower dress and glasses standing next to an adult man wearing a blue jeans and a shirt, a lake blurry in the background, suny weather\",\"hiking boots standing in old persons home, hyper realistic style\",\"old woman and man in hiking gear on old photo\",\"Old woman smiling happy in nature with grandson on her side\",\"an old woman wearing a flower dress and glasses standing next to a man wearing a blue jeans and a shirt, a lake blurry in the background, sunny weather\",\"grandma in the forest birds\",\"grandmother and grandson smiling\",\"grandma in the car in the forest birds\",\"map of the USA\",\"collection of photos\",\"hiking boots standing next to tea table\",\"jungle many trees plants landscape\",\"old woman looking at map of the USA\",\"man and woman portrait\",\"Old woman and young man hiking together through nature, holding hands\",\"many trees plants landscape old woman\",null],\"marker\":{\"opacity\":0.5,\"size\":5},\"mode\":\"markers+text\",\"name\":\"0_woman_old_wearing\",\"text\":[\"\",\"\",\"\",\"\",\"\",\"\",\"\",\"\",\"\",\"\",\"\",\"\",\"\",\"\",\"\",\"\",\"\",\"\",\"\",\"\",\"\",\"\",\"\",\"\",\"\",\"\",\"\",\"\",\"\",\"\",\"\",\"\",\"\",\"\",\"\",\"\",\"\",\"\",\"\",\"\",\"\",\"\",\"\",\"\",\"\",\"\",\"\",\"\",\"\",\"\",\"\",\"\",\"\",\"\",\"\",\"\",\"\",\"0_woman_old_wearing\"],\"textfont\":{\"size\":12},\"x\":[8.99651050567627,8.504467964172363,12.290144920349121,9.075132369995117,13.368626594543457,9.222200393676758,9.28304672241211,11.742300033569336,8.944552421569824,9.304628372192383,12.246126174926758,8.670330047607422,9.041668891906738,9.116154670715332,12.14079475402832,10.672652244567871,13.18791675567627,11.829174041748047,12.418453216552734,12.413590431213379,8.534045219421387,11.72614860534668,9.396522521972656,11.781209945678711,13.453319549560547,9.260836601257324,11.951911926269531,12.079754829406738,8.95370101928711,8.96508502960205,10.665131568908691,11.914575576782227,10.383589744567871,10.985198020935059,11.567052841186523,9.362154960632324,10.683395385742188,10.855571746826172,10.441475868225098,10.944438934326172,8.444075584411621,10.723443984985352,13.38369083404541,12.322000503540039,10.491252899169922,10.585531234741211,9.042025566101074,10.32656478881836,9.192548751831055,12.323946952819824,13.02159309387207,13.49355411529541,8.563398361206055,12.174277305603027,12.014631271362305,12.080548286437988,8.902088165283203,10.762434959411621],\"y\":[1.1630254983901978,3.2446863651275635,-0.592278003692627,2.0518746376037598,-1.6100566387176514,1.0789629220962524,1.2027963399887085,-3.2984156608581543,2.400698661804199,0.9279507398605347,-0.5148491859436035,3.0040040016174316,2.0960943698883057,1.5304899215698242,-0.7402805685997009,-2.3645150661468506,-1.5691989660263062,-1.8372037410736084,-0.958783745765686,-1.251577615737915,3.1468052864074707,-3.39192533493042,0.9581643342971802,-3.338029623031616,-1.4905797243118286,0.883206844329834,-2.0796260833740234,-1.4784345626831055,2.051898717880249,2.7695348262786865,-2.8344337940216064,-3.1879100799560547,0.14240290224552155,-3.019395589828491,-3.46718168258667,0.9957306981086731,-2.6383988857269287,-3.0057015419006348,0.05377507209777832,-2.9321959018707275,3.1889407634735107,-3.057295322418213,-1.6769802570343018,-1.1812973022460938,0.017657121643424034,-2.910835027694702,1.401404857635498,0.17297428846359253,1.318799614906311,-0.3338833153247833,-1.5719935894012451,-1.4359016418457031,3.1139233112335205,-0.43545567989349365,-2.4608089923858643,-1.4565962553024292,2.7384510040283203,-0.3941713571548462],\"type\":\"scattergl\"},{\"hoverinfo\":\"text\",\"hovertext\":[\"an old lady siting on the shoulder of a boy, the whole world is surrounding them. Like a spider net. Mountains, volcanos, oceans, forests are all connected. It is their universe. No one else but the mix of the Mother Nature.\",\"hands, Mountains, volcanos, oceans, forests, deserts.\",\"surreal from the bird view. there are big hands, one big old hand and one small child hand, which are holding together. the whole big world is surrounding them. they are tiny in the middle. Mountains, volcanos, oceans, forests, deserts are all connected. It is their universe. No one else but the mix of the Mother Nature. make the result more realistic.\",\"surreal. two people, one is an old person and one is a kid. they have a car, the whole big world is surrounding them. they are tiny in the middle. Mountains, volcanos, oceans, forests, deserts are all connected. It is their universe. No one else but the mix of the Mother Nature. make the result more realistic.\",\"surreal from the bird view. there are one old hand and one young hand, which are holding together. the whole big world is surrounding them. they are tiny in the middle. Mountains, volcanos, oceans, forests, deserts are all connected. It is their universe. No one else but the mix of the Mother Nature. make the result more realistic.\",\"an old lady siting on the shoulder of a boy, they have the whole world surrounding them. Like a spider net. Mountains, volcanos, oceans, forests are all connected. It is their universe. No one else but the mix of the Mother Nature.\",\"surreal from the bird view. two people, one is an old person and one is a kid. they have a car, the whole big world is surrounding them. they are tiny in the middle. Mountains, volcanos, oceans, forests, deserts are all connected. It is their universe. No one else but the mix of the Mother Nature. make the result more realistic.\",\"surreal. an old person and a kid with a car, the whole big world is surrounding them. they are tiny in the middle. Mountains, volcanos, oceans, forests, deserts are all connected. It is their universe. No one else but the mix of the Mother Nature.\",\"hands, Mountains, volcanos, oceans, forests, deserts, all mixed together.\",\"surreal from the bird view. there are big hands, one big old hand and one small child hand, which are holding together. the whole big world is surrounding them. they are tiny in the middle. Mountains, volcanos, oceans, forests, deserts are all connected. It is their universe. No one else but the mix of the Mother Nature. be creative.\",\"hands, Mountains, volcanos, oceans, forests, deserts, all mixed together.\",\"surreal from the bird view. there are big hands, one big old hand and one small child hand, which are holding together. the whole big world is surrounding them. they are tiny in the middle. Mountains, volcanos, oceans, forests, deserts are all connected. It is their universe. No one else but the mix of the Mother Nature. be creative.\",\"surreal. an old lady is siting on the shoulder of a boy, the whole world is surrounding them. Like a spider net. Mountains, volcanos, oceans, forests are all connected. It is their universe. No one else but the mix of the Mother Nature.\",\"surreal from the bird view. there are big hands, one old hand and one young hand, which are holding together. the whole big world is surrounding them. they are tiny in the middle. Mountains, volcanos, oceans, forests, deserts are all connected. It is their universe. No one else but the mix of the Mother Nature. make the result more realistic.\",\"surreal from the bird view. there are big hands, one giant old hand and one tiny child hand. the whole big world is surrounding them. they are tiny in the middle. Mountains, volcanos, oceans, forests, deserts are all connected. It is their universe. No one else but the mix of the Mother Nature. be creative.\",\"surreal. an old person and a kid with a car, the whole big world is surrounding them. they are tiny in the middle. Mountains, volcanos, oceans, forests are all connected. It is their universe. No one else but the mix of the Mother Nature.\",\"surreal. an old lady is siting on the shoulder of a boy, the whole big world is surrounding them. they are tiny in the middle. Mountains, volcanos, oceans, forests are all connected. It is their universe. No one else but the mix of the Mother Nature.\",\"surreal. an old person and a kid with a car, the whole big world is surrounding them. they are tiny in the middle. Mountains, volcanos, oceans, forests, deserts are all connected. It is their universe. No one else but the mix of the Mother Nature. make the result more realistic.\",\"surreal. an old lady is siting on the shoulder of a boy, the whole big world is surrounding them. they are tiny in the middle. It is Like a spider net. Mountains, volcanos, oceans, forests are all connected. It is their universe. No one else but the mix of the Mother Nature.\",\"surreal from the bird view. there are big hands, one big old hand and one small child hand. the whole big world is surrounding them. they are tiny in the middle. Mountains, volcanos, oceans, forests, deserts are all connected. It is their universe. No one else but the mix of the Mother Nature. be creative.\",\"surreal. an old person and a kid with a car, the whole big world is surrounding them. they are tiny in the middle. Mountains, volcanos, oceans, forests, deserts are all connected. It is their universe. No one else but the mix of the Mother Nature. make the result more realistic.\",null],\"marker\":{\"opacity\":0.5,\"size\":5},\"mode\":\"markers+text\",\"name\":\"1_big_oceans_forests\",\"text\":[\"\",\"\",\"\",\"\",\"\",\"\",\"\",\"\",\"\",\"\",\"\",\"\",\"\",\"\",\"\",\"\",\"\",\"\",\"\",\"\",\"\",\"1_big_oceans_forests\"],\"textfont\":{\"size\":12},\"x\":[-1.8770573139190674,-1.0611985921859741,-1.6992963552474976,-1.4102187156677246,-1.6171220541000366,-1.9763811826705933,-1.335510015487671,-1.5131314992904663,-1.0404561758041382,-1.8408100605010986,-1.0544570684432983,-1.9272894859313965,-1.9455081224441528,-1.4449924230575562,-1.9467496871948242,-1.6632076501846313,-1.9830496311187744,-1.4731528759002686,-1.8904889822006226,-1.8945540189743042,-1.452760100364685,-1.6213042736053467],\"y\":[14.612771034240723,5.64378547668457,5.382421016693115,14.660005569458008,5.476002216339111,14.582463264465332,14.621590614318848,14.491287231445312,5.659634590148926,5.2555413246154785,5.691370487213135,5.166347980499268,14.403681755065918,5.491527557373047,5.151610851287842,14.694615364074707,14.380693435668945,14.860776901245117,14.433917045593262,5.203164100646973,14.696439743041992,10.21712589263916],\"type\":\"scattergl\"}],                        {\"template\":{\"data\":{\"barpolar\":[{\"marker\":{\"line\":{\"color\":\"white\",\"width\":0.5},\"pattern\":{\"fillmode\":\"overlay\",\"size\":10,\"solidity\":0.2}},\"type\":\"barpolar\"}],\"bar\":[{\"error_x\":{\"color\":\"rgb(36,36,36)\"},\"error_y\":{\"color\":\"rgb(36,36,36)\"},\"marker\":{\"line\":{\"color\":\"white\",\"width\":0.5},\"pattern\":{\"fillmode\":\"overlay\",\"size\":10,\"solidity\":0.2}},\"type\":\"bar\"}],\"carpet\":[{\"aaxis\":{\"endlinecolor\":\"rgb(36,36,36)\",\"gridcolor\":\"white\",\"linecolor\":\"white\",\"minorgridcolor\":\"white\",\"startlinecolor\":\"rgb(36,36,36)\"},\"baxis\":{\"endlinecolor\":\"rgb(36,36,36)\",\"gridcolor\":\"white\",\"linecolor\":\"white\",\"minorgridcolor\":\"white\",\"startlinecolor\":\"rgb(36,36,36)\"},\"type\":\"carpet\"}],\"choropleth\":[{\"colorbar\":{\"outlinewidth\":1,\"tickcolor\":\"rgb(36,36,36)\",\"ticks\":\"outside\"},\"type\":\"choropleth\"}],\"contourcarpet\":[{\"colorbar\":{\"outlinewidth\":1,\"tickcolor\":\"rgb(36,36,36)\",\"ticks\":\"outside\"},\"type\":\"contourcarpet\"}],\"contour\":[{\"colorbar\":{\"outlinewidth\":1,\"tickcolor\":\"rgb(36,36,36)\",\"ticks\":\"outside\"},\"colorscale\":[[0.0,\"#440154\"],[0.1111111111111111,\"#482878\"],[0.2222222222222222,\"#3e4989\"],[0.3333333333333333,\"#31688e\"],[0.4444444444444444,\"#26828e\"],[0.5555555555555556,\"#1f9e89\"],[0.6666666666666666,\"#35b779\"],[0.7777777777777778,\"#6ece58\"],[0.8888888888888888,\"#b5de2b\"],[1.0,\"#fde725\"]],\"type\":\"contour\"}],\"heatmapgl\":[{\"colorbar\":{\"outlinewidth\":1,\"tickcolor\":\"rgb(36,36,36)\",\"ticks\":\"outside\"},\"colorscale\":[[0.0,\"#440154\"],[0.1111111111111111,\"#482878\"],[0.2222222222222222,\"#3e4989\"],[0.3333333333333333,\"#31688e\"],[0.4444444444444444,\"#26828e\"],[0.5555555555555556,\"#1f9e89\"],[0.6666666666666666,\"#35b779\"],[0.7777777777777778,\"#6ece58\"],[0.8888888888888888,\"#b5de2b\"],[1.0,\"#fde725\"]],\"type\":\"heatmapgl\"}],\"heatmap\":[{\"colorbar\":{\"outlinewidth\":1,\"tickcolor\":\"rgb(36,36,36)\",\"ticks\":\"outside\"},\"colorscale\":[[0.0,\"#440154\"],[0.1111111111111111,\"#482878\"],[0.2222222222222222,\"#3e4989\"],[0.3333333333333333,\"#31688e\"],[0.4444444444444444,\"#26828e\"],[0.5555555555555556,\"#1f9e89\"],[0.6666666666666666,\"#35b779\"],[0.7777777777777778,\"#6ece58\"],[0.8888888888888888,\"#b5de2b\"],[1.0,\"#fde725\"]],\"type\":\"heatmap\"}],\"histogram2dcontour\":[{\"colorbar\":{\"outlinewidth\":1,\"tickcolor\":\"rgb(36,36,36)\",\"ticks\":\"outside\"},\"colorscale\":[[0.0,\"#440154\"],[0.1111111111111111,\"#482878\"],[0.2222222222222222,\"#3e4989\"],[0.3333333333333333,\"#31688e\"],[0.4444444444444444,\"#26828e\"],[0.5555555555555556,\"#1f9e89\"],[0.6666666666666666,\"#35b779\"],[0.7777777777777778,\"#6ece58\"],[0.8888888888888888,\"#b5de2b\"],[1.0,\"#fde725\"]],\"type\":\"histogram2dcontour\"}],\"histogram2d\":[{\"colorbar\":{\"outlinewidth\":1,\"tickcolor\":\"rgb(36,36,36)\",\"ticks\":\"outside\"},\"colorscale\":[[0.0,\"#440154\"],[0.1111111111111111,\"#482878\"],[0.2222222222222222,\"#3e4989\"],[0.3333333333333333,\"#31688e\"],[0.4444444444444444,\"#26828e\"],[0.5555555555555556,\"#1f9e89\"],[0.6666666666666666,\"#35b779\"],[0.7777777777777778,\"#6ece58\"],[0.8888888888888888,\"#b5de2b\"],[1.0,\"#fde725\"]],\"type\":\"histogram2d\"}],\"histogram\":[{\"marker\":{\"line\":{\"color\":\"white\",\"width\":0.6}},\"type\":\"histogram\"}],\"mesh3d\":[{\"colorbar\":{\"outlinewidth\":1,\"tickcolor\":\"rgb(36,36,36)\",\"ticks\":\"outside\"},\"type\":\"mesh3d\"}],\"parcoords\":[{\"line\":{\"colorbar\":{\"outlinewidth\":1,\"tickcolor\":\"rgb(36,36,36)\",\"ticks\":\"outside\"}},\"type\":\"parcoords\"}],\"pie\":[{\"automargin\":true,\"type\":\"pie\"}],\"scatter3d\":[{\"line\":{\"colorbar\":{\"outlinewidth\":1,\"tickcolor\":\"rgb(36,36,36)\",\"ticks\":\"outside\"}},\"marker\":{\"colorbar\":{\"outlinewidth\":1,\"tickcolor\":\"rgb(36,36,36)\",\"ticks\":\"outside\"}},\"type\":\"scatter3d\"}],\"scattercarpet\":[{\"marker\":{\"colorbar\":{\"outlinewidth\":1,\"tickcolor\":\"rgb(36,36,36)\",\"ticks\":\"outside\"}},\"type\":\"scattercarpet\"}],\"scattergeo\":[{\"marker\":{\"colorbar\":{\"outlinewidth\":1,\"tickcolor\":\"rgb(36,36,36)\",\"ticks\":\"outside\"}},\"type\":\"scattergeo\"}],\"scattergl\":[{\"marker\":{\"colorbar\":{\"outlinewidth\":1,\"tickcolor\":\"rgb(36,36,36)\",\"ticks\":\"outside\"}},\"type\":\"scattergl\"}],\"scattermapbox\":[{\"marker\":{\"colorbar\":{\"outlinewidth\":1,\"tickcolor\":\"rgb(36,36,36)\",\"ticks\":\"outside\"}},\"type\":\"scattermapbox\"}],\"scatterpolargl\":[{\"marker\":{\"colorbar\":{\"outlinewidth\":1,\"tickcolor\":\"rgb(36,36,36)\",\"ticks\":\"outside\"}},\"type\":\"scatterpolargl\"}],\"scatterpolar\":[{\"marker\":{\"colorbar\":{\"outlinewidth\":1,\"tickcolor\":\"rgb(36,36,36)\",\"ticks\":\"outside\"}},\"type\":\"scatterpolar\"}],\"scatter\":[{\"fillpattern\":{\"fillmode\":\"overlay\",\"size\":10,\"solidity\":0.2},\"type\":\"scatter\"}],\"scatterternary\":[{\"marker\":{\"colorbar\":{\"outlinewidth\":1,\"tickcolor\":\"rgb(36,36,36)\",\"ticks\":\"outside\"}},\"type\":\"scatterternary\"}],\"surface\":[{\"colorbar\":{\"outlinewidth\":1,\"tickcolor\":\"rgb(36,36,36)\",\"ticks\":\"outside\"},\"colorscale\":[[0.0,\"#440154\"],[0.1111111111111111,\"#482878\"],[0.2222222222222222,\"#3e4989\"],[0.3333333333333333,\"#31688e\"],[0.4444444444444444,\"#26828e\"],[0.5555555555555556,\"#1f9e89\"],[0.6666666666666666,\"#35b779\"],[0.7777777777777778,\"#6ece58\"],[0.8888888888888888,\"#b5de2b\"],[1.0,\"#fde725\"]],\"type\":\"surface\"}],\"table\":[{\"cells\":{\"fill\":{\"color\":\"rgb(237,237,237)\"},\"line\":{\"color\":\"white\"}},\"header\":{\"fill\":{\"color\":\"rgb(217,217,217)\"},\"line\":{\"color\":\"white\"}},\"type\":\"table\"}]},\"layout\":{\"annotationdefaults\":{\"arrowhead\":0,\"arrowwidth\":1},\"autotypenumbers\":\"strict\",\"coloraxis\":{\"colorbar\":{\"outlinewidth\":1,\"tickcolor\":\"rgb(36,36,36)\",\"ticks\":\"outside\"}},\"colorscale\":{\"diverging\":[[0.0,\"rgb(103,0,31)\"],[0.1,\"rgb(178,24,43)\"],[0.2,\"rgb(214,96,77)\"],[0.3,\"rgb(244,165,130)\"],[0.4,\"rgb(253,219,199)\"],[0.5,\"rgb(247,247,247)\"],[0.6,\"rgb(209,229,240)\"],[0.7,\"rgb(146,197,222)\"],[0.8,\"rgb(67,147,195)\"],[0.9,\"rgb(33,102,172)\"],[1.0,\"rgb(5,48,97)\"]],\"sequential\":[[0.0,\"#440154\"],[0.1111111111111111,\"#482878\"],[0.2222222222222222,\"#3e4989\"],[0.3333333333333333,\"#31688e\"],[0.4444444444444444,\"#26828e\"],[0.5555555555555556,\"#1f9e89\"],[0.6666666666666666,\"#35b779\"],[0.7777777777777778,\"#6ece58\"],[0.8888888888888888,\"#b5de2b\"],[1.0,\"#fde725\"]],\"sequentialminus\":[[0.0,\"#440154\"],[0.1111111111111111,\"#482878\"],[0.2222222222222222,\"#3e4989\"],[0.3333333333333333,\"#31688e\"],[0.4444444444444444,\"#26828e\"],[0.5555555555555556,\"#1f9e89\"],[0.6666666666666666,\"#35b779\"],[0.7777777777777778,\"#6ece58\"],[0.8888888888888888,\"#b5de2b\"],[1.0,\"#fde725\"]]},\"colorway\":[\"#1F77B4\",\"#FF7F0E\",\"#2CA02C\",\"#D62728\",\"#9467BD\",\"#8C564B\",\"#E377C2\",\"#7F7F7F\",\"#BCBD22\",\"#17BECF\"],\"font\":{\"color\":\"rgb(36,36,36)\"},\"geo\":{\"bgcolor\":\"white\",\"lakecolor\":\"white\",\"landcolor\":\"white\",\"showlakes\":true,\"showland\":true,\"subunitcolor\":\"white\"},\"hoverlabel\":{\"align\":\"left\"},\"hovermode\":\"closest\",\"mapbox\":{\"style\":\"light\"},\"paper_bgcolor\":\"white\",\"plot_bgcolor\":\"white\",\"polar\":{\"angularaxis\":{\"gridcolor\":\"rgb(232,232,232)\",\"linecolor\":\"rgb(36,36,36)\",\"showgrid\":false,\"showline\":true,\"ticks\":\"outside\"},\"bgcolor\":\"white\",\"radialaxis\":{\"gridcolor\":\"rgb(232,232,232)\",\"linecolor\":\"rgb(36,36,36)\",\"showgrid\":false,\"showline\":true,\"ticks\":\"outside\"}},\"scene\":{\"xaxis\":{\"backgroundcolor\":\"white\",\"gridcolor\":\"rgb(232,232,232)\",\"gridwidth\":2,\"linecolor\":\"rgb(36,36,36)\",\"showbackground\":true,\"showgrid\":false,\"showline\":true,\"ticks\":\"outside\",\"zeroline\":false,\"zerolinecolor\":\"rgb(36,36,36)\"},\"yaxis\":{\"backgroundcolor\":\"white\",\"gridcolor\":\"rgb(232,232,232)\",\"gridwidth\":2,\"linecolor\":\"rgb(36,36,36)\",\"showbackground\":true,\"showgrid\":false,\"showline\":true,\"ticks\":\"outside\",\"zeroline\":false,\"zerolinecolor\":\"rgb(36,36,36)\"},\"zaxis\":{\"backgroundcolor\":\"white\",\"gridcolor\":\"rgb(232,232,232)\",\"gridwidth\":2,\"linecolor\":\"rgb(36,36,36)\",\"showbackground\":true,\"showgrid\":false,\"showline\":true,\"ticks\":\"outside\",\"zeroline\":false,\"zerolinecolor\":\"rgb(36,36,36)\"}},\"shapedefaults\":{\"fillcolor\":\"black\",\"line\":{\"width\":0},\"opacity\":0.3},\"ternary\":{\"aaxis\":{\"gridcolor\":\"rgb(232,232,232)\",\"linecolor\":\"rgb(36,36,36)\",\"showgrid\":false,\"showline\":true,\"ticks\":\"outside\"},\"baxis\":{\"gridcolor\":\"rgb(232,232,232)\",\"linecolor\":\"rgb(36,36,36)\",\"showgrid\":false,\"showline\":true,\"ticks\":\"outside\"},\"bgcolor\":\"white\",\"caxis\":{\"gridcolor\":\"rgb(232,232,232)\",\"linecolor\":\"rgb(36,36,36)\",\"showgrid\":false,\"showline\":true,\"ticks\":\"outside\"}},\"title\":{\"x\":0.05},\"xaxis\":{\"automargin\":true,\"gridcolor\":\"rgb(232,232,232)\",\"linecolor\":\"rgb(36,36,36)\",\"showgrid\":false,\"showline\":true,\"ticks\":\"outside\",\"title\":{\"standoff\":15},\"zeroline\":false,\"zerolinecolor\":\"rgb(36,36,36)\"},\"yaxis\":{\"automargin\":true,\"gridcolor\":\"rgb(232,232,232)\",\"linecolor\":\"rgb(36,36,36)\",\"showgrid\":false,\"showline\":true,\"ticks\":\"outside\",\"title\":{\"standoff\":15},\"zeroline\":false,\"zerolinecolor\":\"rgb(36,36,36)\"}}},\"shapes\":[{\"line\":{\"color\":\"#CFD8DC\",\"width\":2},\"type\":\"line\",\"x0\":6.6185400784015656,\"x1\":6.6185400784015656,\"y0\":-3.9872589349746703,\"y1\":17.089893436431886},{\"line\":{\"color\":\"#9E9E9E\",\"width\":2},\"type\":\"line\",\"x0\":-2.2805070757865904,\"x1\":15.517587232589722,\"y0\":6.551317250728608,\"y1\":6.551317250728608}],\"annotations\":[{\"showarrow\":false,\"text\":\"D1\",\"x\":-2.2805070757865904,\"y\":6.551317250728608,\"yshift\":10},{\"showarrow\":false,\"text\":\"D2\",\"x\":6.6185400784015656,\"xshift\":10,\"y\":17.089893436431886}],\"title\":{\"font\":{\"size\":22,\"color\":\"Black\"},\"text\":\"\\u003cb\\u003eDocuments and Topics\\u003c\\u002fb\\u003e\",\"x\":0.5,\"xanchor\":\"center\",\"yanchor\":\"top\"},\"width\":1200,\"height\":750,\"xaxis\":{\"visible\":false},\"yaxis\":{\"visible\":false}},                        {\"responsive\": true}                    ).then(function(){\n",
       "                            \n",
       "var gd = document.getElementById('92b77989-0074-4842-8f9c-c7f5570fdf06');\n",
       "var x = new MutationObserver(function (mutations, observer) {{\n",
       "        var display = window.getComputedStyle(gd).display;\n",
       "        if (!display || display === 'none') {{\n",
       "            console.log([gd, 'removed!']);\n",
       "            Plotly.purge(gd);\n",
       "            observer.disconnect();\n",
       "        }}\n",
       "}});\n",
       "\n",
       "// Listen for the removal of the full notebook cells\n",
       "var notebookContainer = gd.closest('#notebook-container');\n",
       "if (notebookContainer) {{\n",
       "    x.observe(notebookContainer, {childList: true});\n",
       "}}\n",
       "\n",
       "// Listen for the clearing of the current output cell\n",
       "var outputEl = gd.closest('.output');\n",
       "if (outputEl) {{\n",
       "    x.observe(outputEl, {childList: true});\n",
       "}}\n",
       "\n",
       "                        })                };                });            </script>        </div>"
      ]
     },
     "metadata": {},
     "output_type": "display_data"
    }
   ],
   "source": [
    "topic_model.visualize_documents(docs_story)"
   ]
  },
  {
   "cell_type": "code",
   "execution_count": 29,
   "id": "363b7b73-fb51-4b4a-85dc-8e9029071658",
   "metadata": {},
   "outputs": [
    {
     "data": {
      "text/plain": [
       "[('woman', 0.185571949547425),\n",
       " ('old', 0.1855492620416606),\n",
       " ('wearing', 0.14116771212191778),\n",
       " ('man', 0.12744200481086917),\n",
       " ('background', 0.10769618226719102),\n",
       " ('hiking', 0.09707612032990047),\n",
       " ('weather', 0.09154544304853306),\n",
       " ('blue', 0.09154544304853306),\n",
       " ('glasses', 0.09154544304853306),\n",
       " ('dress', 0.09154544304853306)]"
      ]
     },
     "execution_count": 29,
     "metadata": {},
     "output_type": "execute_result"
    }
   ],
   "source": [
    "topic_model.get_topic(0)"
   ]
  },
  {
   "cell_type": "code",
   "execution_count": 30,
   "id": "89e2a2a2-0e4d-4bc0-a774-974c21baa75d",
   "metadata": {},
   "outputs": [
    {
     "data": {
      "text/plain": [
       "[('big', 0.16137068377990896),\n",
       " ('oceans', 0.14670794531676112),\n",
       " ('forests', 0.14670794531676112),\n",
       " ('volcanos', 0.14670794531676112),\n",
       " ('mountains', 0.1339487803272602),\n",
       " ('surrounding', 0.1316685259528187),\n",
       " ('connected', 0.1316685259528187),\n",
       " ('world', 0.1316685259528187),\n",
       " ('mother', 0.1316685259528187),\n",
       " ('universe', 0.1316685259528187)]"
      ]
     },
     "execution_count": 30,
     "metadata": {},
     "output_type": "execute_result"
    }
   ],
   "source": [
    "topic_model.get_topic(1)"
   ]
  },
  {
   "cell_type": "code",
   "execution_count": 32,
   "id": "cd1e26f9-495c-4d8f-bcc0-931be676b4f7",
   "metadata": {},
   "outputs": [
    {
     "data": {
      "text/html": [
       "<div>\n",
       "<style scoped>\n",
       "    .dataframe tbody tr th:only-of-type {\n",
       "        vertical-align: middle;\n",
       "    }\n",
       "\n",
       "    .dataframe tbody tr th {\n",
       "        vertical-align: top;\n",
       "    }\n",
       "\n",
       "    .dataframe thead th {\n",
       "        text-align: right;\n",
       "    }\n",
       "</style>\n",
       "<table border=\"1\" class=\"dataframe\">\n",
       "  <thead>\n",
       "    <tr style=\"text-align: right;\">\n",
       "      <th></th>\n",
       "      <th>Document</th>\n",
       "      <th>Topic</th>\n",
       "      <th>Name</th>\n",
       "      <th>Representation</th>\n",
       "      <th>Representative_Docs</th>\n",
       "      <th>Top_n_words</th>\n",
       "      <th>Probability</th>\n",
       "      <th>Representative_document</th>\n",
       "    </tr>\n",
       "  </thead>\n",
       "  <tbody>\n",
       "    <tr>\n",
       "      <th>0</th>\n",
       "      <td>an old lady siting on the shoulder of a boy, t...</td>\n",
       "      <td>1</td>\n",
       "      <td>1_big_oceans_forests_volcanos</td>\n",
       "      <td>[big, oceans, forests, volcanos, mountains, su...</td>\n",
       "      <td>[surreal. an old person and a kid with a car, ...</td>\n",
       "      <td>big - oceans - forests - volcanos - mountains ...</td>\n",
       "      <td>1.00000</td>\n",
       "      <td>False</td>\n",
       "    </tr>\n",
       "    <tr>\n",
       "      <th>1</th>\n",
       "      <td>an old lady siting on the shoulder of a boy, t...</td>\n",
       "      <td>1</td>\n",
       "      <td>1_big_oceans_forests_volcanos</td>\n",
       "      <td>[big, oceans, forests, volcanos, mountains, su...</td>\n",
       "      <td>[surreal. an old person and a kid with a car, ...</td>\n",
       "      <td>big - oceans - forests - volcanos - mountains ...</td>\n",
       "      <td>0.95271</td>\n",
       "      <td>False</td>\n",
       "    </tr>\n",
       "    <tr>\n",
       "      <th>2</th>\n",
       "      <td>surreal. an old lady is siting on the shoulder...</td>\n",
       "      <td>1</td>\n",
       "      <td>1_big_oceans_forests_volcanos</td>\n",
       "      <td>[big, oceans, forests, volcanos, mountains, su...</td>\n",
       "      <td>[surreal. an old person and a kid with a car, ...</td>\n",
       "      <td>big - oceans - forests - volcanos - mountains ...</td>\n",
       "      <td>1.00000</td>\n",
       "      <td>False</td>\n",
       "    </tr>\n",
       "    <tr>\n",
       "      <th>3</th>\n",
       "      <td>surreal. an old lady is siting on the shoulder...</td>\n",
       "      <td>1</td>\n",
       "      <td>1_big_oceans_forests_volcanos</td>\n",
       "      <td>[big, oceans, forests, volcanos, mountains, su...</td>\n",
       "      <td>[surreal. an old person and a kid with a car, ...</td>\n",
       "      <td>big - oceans - forests - volcanos - mountains ...</td>\n",
       "      <td>1.00000</td>\n",
       "      <td>False</td>\n",
       "    </tr>\n",
       "    <tr>\n",
       "      <th>4</th>\n",
       "      <td>surreal. an old lady is siting on the shoulder...</td>\n",
       "      <td>1</td>\n",
       "      <td>1_big_oceans_forests_volcanos</td>\n",
       "      <td>[big, oceans, forests, volcanos, mountains, su...</td>\n",
       "      <td>[surreal. an old person and a kid with a car, ...</td>\n",
       "      <td>big - oceans - forests - volcanos - mountains ...</td>\n",
       "      <td>1.00000</td>\n",
       "      <td>False</td>\n",
       "    </tr>\n",
       "    <tr>\n",
       "      <th>...</th>\n",
       "      <td>...</td>\n",
       "      <td>...</td>\n",
       "      <td>...</td>\n",
       "      <td>...</td>\n",
       "      <td>...</td>\n",
       "      <td>...</td>\n",
       "      <td>...</td>\n",
       "      <td>...</td>\n",
       "    </tr>\n",
       "    <tr>\n",
       "      <th>73</th>\n",
       "      <td>a 90 year old old woman wearing a flower dress...</td>\n",
       "      <td>0</td>\n",
       "      <td>0_woman_old_wearing_man</td>\n",
       "      <td>[woman, old, wearing, man, background, hiking,...</td>\n",
       "      <td>[an old woman wearing a flower dress and glass...</td>\n",
       "      <td>woman - old - wearing - man - background - hik...</td>\n",
       "      <td>1.00000</td>\n",
       "      <td>True</td>\n",
       "    </tr>\n",
       "    <tr>\n",
       "      <th>74</th>\n",
       "      <td>a 90 year old old woman wearing a flower dress...</td>\n",
       "      <td>0</td>\n",
       "      <td>0_woman_old_wearing_man</td>\n",
       "      <td>[woman, old, wearing, man, background, hiking,...</td>\n",
       "      <td>[an old woman wearing a flower dress and glass...</td>\n",
       "      <td>woman - old - wearing - man - background - hik...</td>\n",
       "      <td>1.00000</td>\n",
       "      <td>False</td>\n",
       "    </tr>\n",
       "    <tr>\n",
       "      <th>75</th>\n",
       "      <td>a 90 year old old woman wearing a flower dress...</td>\n",
       "      <td>0</td>\n",
       "      <td>0_woman_old_wearing_man</td>\n",
       "      <td>[woman, old, wearing, man, background, hiking,...</td>\n",
       "      <td>[an old woman wearing a flower dress and glass...</td>\n",
       "      <td>woman - old - wearing - man - background - hik...</td>\n",
       "      <td>1.00000</td>\n",
       "      <td>False</td>\n",
       "    </tr>\n",
       "    <tr>\n",
       "      <th>76</th>\n",
       "      <td>a 90 year old old woman wearing a flower dress...</td>\n",
       "      <td>0</td>\n",
       "      <td>0_woman_old_wearing_man</td>\n",
       "      <td>[woman, old, wearing, man, background, hiking,...</td>\n",
       "      <td>[an old woman wearing a flower dress and glass...</td>\n",
       "      <td>woman - old - wearing - man - background - hik...</td>\n",
       "      <td>1.00000</td>\n",
       "      <td>False</td>\n",
       "    </tr>\n",
       "    <tr>\n",
       "      <th>77</th>\n",
       "      <td>a 90 year old old woman wearing a flower dress...</td>\n",
       "      <td>0</td>\n",
       "      <td>0_woman_old_wearing_man</td>\n",
       "      <td>[woman, old, wearing, man, background, hiking,...</td>\n",
       "      <td>[an old woman wearing a flower dress and glass...</td>\n",
       "      <td>woman - old - wearing - man - background - hik...</td>\n",
       "      <td>1.00000</td>\n",
       "      <td>False</td>\n",
       "    </tr>\n",
       "  </tbody>\n",
       "</table>\n",
       "<p>78 rows × 8 columns</p>\n",
       "</div>"
      ],
      "text/plain": [
       "                                             Document  Topic  \\\n",
       "0   an old lady siting on the shoulder of a boy, t...      1   \n",
       "1   an old lady siting on the shoulder of a boy, t...      1   \n",
       "2   surreal. an old lady is siting on the shoulder...      1   \n",
       "3   surreal. an old lady is siting on the shoulder...      1   \n",
       "4   surreal. an old lady is siting on the shoulder...      1   \n",
       "..                                                ...    ...   \n",
       "73  a 90 year old old woman wearing a flower dress...      0   \n",
       "74  a 90 year old old woman wearing a flower dress...      0   \n",
       "75  a 90 year old old woman wearing a flower dress...      0   \n",
       "76  a 90 year old old woman wearing a flower dress...      0   \n",
       "77  a 90 year old old woman wearing a flower dress...      0   \n",
       "\n",
       "                             Name  \\\n",
       "0   1_big_oceans_forests_volcanos   \n",
       "1   1_big_oceans_forests_volcanos   \n",
       "2   1_big_oceans_forests_volcanos   \n",
       "3   1_big_oceans_forests_volcanos   \n",
       "4   1_big_oceans_forests_volcanos   \n",
       "..                            ...   \n",
       "73        0_woman_old_wearing_man   \n",
       "74        0_woman_old_wearing_man   \n",
       "75        0_woman_old_wearing_man   \n",
       "76        0_woman_old_wearing_man   \n",
       "77        0_woman_old_wearing_man   \n",
       "\n",
       "                                       Representation  \\\n",
       "0   [big, oceans, forests, volcanos, mountains, su...   \n",
       "1   [big, oceans, forests, volcanos, mountains, su...   \n",
       "2   [big, oceans, forests, volcanos, mountains, su...   \n",
       "3   [big, oceans, forests, volcanos, mountains, su...   \n",
       "4   [big, oceans, forests, volcanos, mountains, su...   \n",
       "..                                                ...   \n",
       "73  [woman, old, wearing, man, background, hiking,...   \n",
       "74  [woman, old, wearing, man, background, hiking,...   \n",
       "75  [woman, old, wearing, man, background, hiking,...   \n",
       "76  [woman, old, wearing, man, background, hiking,...   \n",
       "77  [woman, old, wearing, man, background, hiking,...   \n",
       "\n",
       "                                  Representative_Docs  \\\n",
       "0   [surreal. an old person and a kid with a car, ...   \n",
       "1   [surreal. an old person and a kid with a car, ...   \n",
       "2   [surreal. an old person and a kid with a car, ...   \n",
       "3   [surreal. an old person and a kid with a car, ...   \n",
       "4   [surreal. an old person and a kid with a car, ...   \n",
       "..                                                ...   \n",
       "73  [an old woman wearing a flower dress and glass...   \n",
       "74  [an old woman wearing a flower dress and glass...   \n",
       "75  [an old woman wearing a flower dress and glass...   \n",
       "76  [an old woman wearing a flower dress and glass...   \n",
       "77  [an old woman wearing a flower dress and glass...   \n",
       "\n",
       "                                          Top_n_words  Probability  \\\n",
       "0   big - oceans - forests - volcanos - mountains ...      1.00000   \n",
       "1   big - oceans - forests - volcanos - mountains ...      0.95271   \n",
       "2   big - oceans - forests - volcanos - mountains ...      1.00000   \n",
       "3   big - oceans - forests - volcanos - mountains ...      1.00000   \n",
       "4   big - oceans - forests - volcanos - mountains ...      1.00000   \n",
       "..                                                ...          ...   \n",
       "73  woman - old - wearing - man - background - hik...      1.00000   \n",
       "74  woman - old - wearing - man - background - hik...      1.00000   \n",
       "75  woman - old - wearing - man - background - hik...      1.00000   \n",
       "76  woman - old - wearing - man - background - hik...      1.00000   \n",
       "77  woman - old - wearing - man - background - hik...      1.00000   \n",
       "\n",
       "    Representative_document  \n",
       "0                     False  \n",
       "1                     False  \n",
       "2                     False  \n",
       "3                     False  \n",
       "4                     False  \n",
       "..                      ...  \n",
       "73                     True  \n",
       "74                    False  \n",
       "75                    False  \n",
       "76                    False  \n",
       "77                    False  \n",
       "\n",
       "[78 rows x 8 columns]"
      ]
     },
     "execution_count": 32,
     "metadata": {},
     "output_type": "execute_result"
    }
   ],
   "source": [
    " topic_model.get_document_info(docs_story)"
   ]
  },
  {
   "cell_type": "code",
   "execution_count": null,
   "id": "40d04479-ea95-4333-8449-c7031e07c691",
   "metadata": {},
   "outputs": [],
   "source": []
  }
 ],
 "metadata": {
  "kernelspec": {
   "display_name": "Python 3 (ipykernel)",
   "language": "python",
   "name": "python3"
  },
  "language_info": {
   "codemirror_mode": {
    "name": "ipython",
    "version": 3
   },
   "file_extension": ".py",
   "mimetype": "text/x-python",
   "name": "python",
   "nbconvert_exporter": "python",
   "pygments_lexer": "ipython3",
   "version": "3.9.13"
  }
 },
 "nbformat": 4,
 "nbformat_minor": 5
}
